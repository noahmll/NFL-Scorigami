{
 "cells": [
  {
   "cell_type": "markdown",
   "metadata": {},
   "source": [
    "<p align=\"center\">\n",
    "    <img src=\"NFL_Banner.jpg\" width=100%>\n",
    "</p>"
   ]
  },
  {
   "cell_type": "markdown",
   "metadata": {},
   "source": [
    "# NFL-Dataset\n",
    "\n",
    "### NFL Scorigamis – Einzigartige Endstände im American Football\n",
    "Ein Scorigami in der NFL bezeichnet ein Endergebnis, das in der Geschichte der Liga noch nie vorgekommen ist. Da es in American Football aufgrund der speziellen Punktevergabe (Touchdowns = 6 Punkte, Field Goals = 3 Punkte, Safeties = 2 Punkte, Extrapunkte & Two-Point Conversions) viele mögliche Endstände gibt, entstehen gelegentlich neue, zuvor unerreichte Kombinationen.\n",
    "\n",
    "Die Spielregeln beeinflussen Scorigamis erheblich, da die unterschiedlichen Punktwerte und mögliche Kombinationen aus Touchdowns, Field Goals und Safeties zu teilweise ungewöhnlichen Ergebnissen führen können. Besonders seltene Ereignisse wie Safeties oder verfehlte Extrapunkte tragen oft dazu bei, neue Scorigamis zu ermöglichen.\n",
    "\n",
    "Das Konzept wurde von Jon Bois populär gemacht, und es gibt mittlerweile eine Community, die jedes Spiel verfolgt, um zu sehen, ob ein neues Scorigami erzielt wurde."
   ]
  },
  {
   "cell_type": "markdown",
   "metadata": {},
   "source": [
    "### Schritt 1: Benötigte Libraries importieren"
   ]
  },
  {
   "cell_type": "code",
   "execution_count": 4,
   "metadata": {},
   "outputs": [],
   "source": [
    "# Benötigte Libraries\n",
    "\n",
    "# Webscraping\n",
    "import csv\n",
    "import requests\n",
    "from bs4 import BeautifulSoup\n",
    "from bs4 import Comment\n",
    "from time import sleep\n",
    "from tqdm import tqdm\n",
    "\n",
    "# Visualisieren\n",
    "import pandas as pd\n",
    "import numpy as np\n",
    "import seaborn as sns\n",
    "import matplotlib.pyplot as plt\n",
    "import matplotlib.patches as patches\n",
    "import plotly.express as px"
   ]
  },
  {
   "cell_type": "markdown",
   "metadata": {},
   "source": [
    "### Schritt 2: Web-Scraping\n",
    "Es wird nun der Datensatz benötigt, der alle Spiele der NFL jemals beinhaltet. Dazu bietet sich die Website [pro-football-reference.com](https://www.pro-football-reference.com/boxscores/game-scores.htm) an. Sie beinhaltet zunächst alle Endstände sowie ihre Häufigkeit. Mittels `requests` wird die .html-Datei der Seite zunächst heruntergeladen und im Verzeichnis `data/` als `scores.html` gespeichert."
   ]
  },
  {
   "cell_type": "code",
   "execution_count": 1,
   "metadata": {},
   "outputs": [
    {
     "name": "stdout",
     "output_type": "stream",
     "text": [
      "Page saved as 'scores.html'\n"
     ]
    }
   ],
   "source": [
    "# Datei herunterladen\n",
    "\n",
    "# URL, die gescraped werden soll\n",
    "url = \"https://www.pro-football-reference.com/boxscores/game-scores.htm\"\n",
    "\n",
    "# Erstelle GET-Request der URL\n",
    "response = requests.get(url)\n",
    "\n",
    "# Prüfe, ob Request erfolgreich war\n",
    "if response.status_code == 200:\n",
    "    # Speichere Seite in einer HTML-Datei\n",
    "    with open(\"data/scores.html\", \"w\", encoding=\"utf-8\") as file:\n",
    "        file.write(response.text)\n",
    "    print(\"Page saved as 'scores.html'\")\n",
    "else:\n",
    "    print(f\"Failed to download page. Status code: {response.status_code}\")"
   ]
  },
  {
   "cell_type": "markdown",
   "metadata": {},
   "source": [
    "Aus `scores.html` werden nun alle einzelnen Endstände mithilfe von `BeautifulSoup` geparsed und in der Variable `score_list` gespeichert. Basierend auf dieser Liste kann nun auf der o. g. Website auf die Spiele mit jeweiligem Endergebnis zugegriffen werden. Diese Subseiten werden mit dem Namen des Endergebnisses als .html-Datei im Verzeichnis `data/games/` gespeichert. Insgesamt entstehen dabei 1091 .html-Dateien."
   ]
  },
  {
   "cell_type": "code",
   "execution_count": 74,
   "metadata": {},
   "outputs": [
    {
     "name": "stderr",
     "output_type": "stream",
     "text": [
      "Scores herunterladen: 100%|██████████| 1091/1091 [53:59<00:00,  2.97s/it] \n"
     ]
    }
   ],
   "source": [
    "# Datei nach Scores Parsen\n",
    "\n",
    "# If the HTML is saved locally, you can use:\n",
    "with open(\"data/scores.html\", \"r\", encoding=\"utf-8\") as file:\n",
    "    soup = BeautifulSoup(file, \"html.parser\")\n",
    "\n",
    "# Initialize an empty dictionary to store the country data\n",
    "score_list = []\n",
    "\n",
    "# Find all div elements with class \"col-md-4 country\"\n",
    "for scores in soup.select(\"table.stats_table tbody tr:not([thead])\"):\n",
    "    score = scores.find(\"td\").text\n",
    "    score_list.append(score)\n",
    "\n",
    "# Alle Spiele zu jedem Score finden\n",
    "\n",
    "for score in tqdm(score_list,desc=\"Scores herunterladen\"):\n",
    "    i, j = score.split(\"-\")\n",
    "    url = f\"https://www.pro-football-reference.com/boxscores/game_scores_find.cgi?pts_win={i}&pts_lose={j}\"\n",
    "\n",
    "    # Erstelle GET-Request der URL\n",
    "    response = requests.get(url)\n",
    "\n",
    "    # Prüfe, ob Request erfolgreich war\n",
    "    if response.status_code == 200:\n",
    "        # Speichere Seite in einer HTML-Datei\n",
    "        with open(f\"data/games/{i}-{j}.html\", \"w\", encoding=\"utf-8\") as file:\n",
    "            file.write(response.text)\n",
    "    else:\n",
    "        print(f\"Failed to download {i}-{j}.html. Status code: {response.status_code}\")\n",
    "\n",
    "    sleep(.75)"
   ]
  },
  {
   "cell_type": "markdown",
   "metadata": {},
   "source": [
    "Jetzt, wo die 1091 .html-Dateien lokal gespeichert sind, können auch sie mit BeautifulSoup geparsed werden. Dabei werden zunächst alle columns übernommen und später bereinigt. Die geparseden Ergebnisse werden in der Variable `games_list` gespeichert, die daraufhin in die Datei `data/games.csv` geschrieben werden. Diese Datei enthält nun alle Spiele der NFL samt Ergebnissen, Team-Namen, Spieltagen und vielen weiteren Statistiken (unbereinigt)."
   ]
  },
  {
   "cell_type": "code",
   "execution_count": 145,
   "metadata": {},
   "outputs": [
    {
     "name": "stderr",
     "output_type": "stream",
     "text": [
      "Scores kombinieren: 100%|██████████| 1091/1091 [04:20<00:00,  4.19it/s]"
     ]
    },
    {
     "name": "stdout",
     "output_type": "stream",
     "text": [
      "Done!\n"
     ]
    },
    {
     "name": "stderr",
     "output_type": "stream",
     "text": [
      "\n"
     ]
    }
   ],
   "source": [
    "# Alle Spiele\n",
    "games_list = []\n",
    "\n",
    "# Alle Spiele in Dateien speichern\n",
    "for score in tqdm(score_list,desc=\"Scores kombinieren\"):\n",
    "    i, j = score.split(\"-\")\n",
    "\n",
    "    # Datei nach jeweiligem Score speichern\n",
    "    with open(f\"data/games/{i}-{j}.html\", \"r\", encoding=\"utf-8\") as file:\n",
    "        soup = BeautifulSoup(file, \"html.parser\")\n",
    "\n",
    "    # Alle Spiele des jeweiligen Scores\n",
    "    for games in soup.select(\"table.stats_table tbody tr:not([thead])\"):\n",
    "        game = games.find_all(\"td\")\n",
    "        games_list.append([i.text.strip() for i in game])\n",
    "\n",
    "# In CSV games.csv speichern\n",
    "with open(\"data/games.csv\", \"a\", newline=\"\") as file:\n",
    "    writer = csv.writer(file)\n",
    "    fields = [\"week\", \"day\", \"date\", \"outcome\", \"winner\", \"game_location\", \"loser\", \"boxscore\", \"pts_w\", \"pts_l\", \"yards_w\", \"to_w\", \"yards_l\", \"to_l\"]\n",
    "\n",
    "    writer.writerow(fields)\n",
    "    writer.writerows(games_list)\n",
    "\n",
    "print(\"Done!\")"
   ]
  },
  {
   "cell_type": "markdown",
   "metadata": {},
   "source": [
    "### Schritt 3: Datenbereinigung\n",
    "Schaut man sich die `games.csv` an, fällt neben anderen Unreinheiten, die gesäubert werden sollten, auf, dass oft Team-Variationen als Namen vorkommen. So spielen bspw. 1944 die *Cleveland Rams*, 1962 aber die *Los Angeles Rams*. Wer sich mit der Historie der NFL und ihrer Teams auskennt, weiß, dass in beiden Fällen de facto das gleiche Team nur unter anderem Namen auftritt. In der Tat ist es so, dass viele NFL-Teams bereits (mehrmals) ihre Namen geändert haben.  \n",
    "Diese Tatsache stellt aus der Perspektive der Datenverarbeitung in der Tat ein Problem dar. Möchte man z. B. die Anzahl der verschiedenen Teams, die in der NFL gespielt haben, zählen, würde eine verfälschte Zahl entstehen, wenn man einfach nur die Anzahl der einzigartigen Team-Namen berechnet. Es ist daher nötig, den Teams einzigartige IDs zuzuweisen, um sie definitiv voneinander unterscheiden zu können. Dadurch ist egal, wie das Team zu einem gegebenen Zeitpunkt geheißen hat, da es trotzdem noch das gleiche Team (also die gleiche ID) ist. Dadurch entsteht ein ER-Modell, was im Folgenden aufgezeigt ist.  \n",
    "Auch hierbei soll uns wieder eine Seite von [pro-football-reference.com](https://www.pro-football-reference.com/teams/), die alle Teams und ihre früheren Namen auflistet, helfen.  \n",
    "  \n",
    "<p align=\"center\">\n",
    "    <img src=\"Database-Viz.png\" width=\"1000\">\n",
    "</p>"
   ]
  },
  {
   "cell_type": "markdown",
   "metadata": {},
   "source": [
    "Zunächst wird die Seite mit den Team-Daten heruntergeladen"
   ]
  },
  {
   "cell_type": "code",
   "execution_count": 109,
   "metadata": {},
   "outputs": [
    {
     "name": "stdout",
     "output_type": "stream",
     "text": [
      "Page saved as 'teams.html'\n"
     ]
    }
   ],
   "source": [
    "# Datei herunterladen\n",
    "\n",
    "# URL, die gescraped werden soll\n",
    "url = \"https://www.pro-football-reference.com/teams/index.htm\"\n",
    "\n",
    "# Erstelle GET-Request der URL\n",
    "response = requests.get(url)\n",
    "\n",
    "# Prüfe, ob Request erfolgreich war\n",
    "if response.status_code == 200:\n",
    "    # Speichere Seite in einer HTML-Datei\n",
    "    with open(\"data/teams.html\", \"w\", encoding=\"utf-8\") as file:\n",
    "        file.write(response.text)\n",
    "    print(\"Page saved as 'teams.html'\")\n",
    "else:\n",
    "    print(f\"Failed to download page. Status code: {response.status_code}\")"
   ]
  },
  {
   "cell_type": "markdown",
   "metadata": {},
   "source": [
    "Nun muss die heruntergeladenen Seite `teams.html` geparsed werden, um alle Team-Namen zu finden. Dabei muss zwischen Team-Namen und Varianten unterschieden werden. Glücklicherweise sind diese im Quellcode durch unterschiedliche `css`-Klassen voneinander trennbar und können somit unterschieden werden."
   ]
  },
  {
   "cell_type": "code",
   "execution_count": 94,
   "metadata": {},
   "outputs": [
    {
     "name": "stdout",
     "output_type": "stream",
     "text": [
      "Done!\n"
     ]
    }
   ],
   "source": [
    "# Datei nach Scores Parsen\n",
    "\n",
    "with open(\"data/teams.html\", \"r\", encoding=\"utf-8\") as file:\n",
    "    soup = BeautifulSoup(file, \"html.parser\")\n",
    "\n",
    "all_names = dict()\n",
    "all_teams = []\n",
    "\n",
    "cntr = 0\n",
    "\n",
    "for team in soup.select(\"table.stats_table#teams_active tbody tr:not([thead])\"):\n",
    "    name = team.find(\"th\").text.strip(\"*\")\n",
    "    year_min = team.find(\"td\", {\"data-stat\": \"year_min\"}).text.strip()\n",
    "    year_max = team.find(\"td\", {\"data-stat\": \"year_max\"}).text.strip()\n",
    "    if not len(team.attrs.values()):\n",
    "        cntr +=1\n",
    "    all_teams.append([cntr,int(not len(team.attrs.values())),name,year_min,year_max])\n",
    "\n",
    "    \n",
    "\n",
    "comments = soup.find_all(string=lambda text: isinstance(text, Comment))\n",
    "soup = BeautifulSoup(comments[22], \"html.parser\")\n",
    "\n",
    "for team in soup.select(\"table.stats_table#teams_inactive tbody tr:not([thead])\"):\n",
    "    name = team.find(\"th\").text.strip(\"*\")\n",
    "    year_min = team.find(\"td\", {\"data-stat\": \"year_min\"}).text.strip()\n",
    "    year_max = team.find(\"td\", {\"data-stat\": \"year_max\"}).text.strip()\n",
    "    if not len(team.attrs.values()):\n",
    "        cntr +=1\n",
    "    all_teams.append([cntr,int(not len(team.attrs.values())),name,year_min,year_max])\n",
    "\n",
    "all_teams = pd.DataFrame(all_teams,columns=[\"team_id\", \"is_latest_name\",\"team_name\", \"first_year\", \"last_year\"])\n",
    "all_teams.drop_duplicates(inplace=True, ignore_index=True)\n",
    "all_teams.to_csv(\"data/teams.csv\",index=False)\n",
    "\n",
    "print(\"Done!\")"
   ]
  },
  {
   "cell_type": "markdown",
   "metadata": {},
   "source": [
    "Im nächsten Schritt sollen den Teams in `games.csv` nun tatsächlich ihre generierten IDs zugewiesen werden. Dabei werden auch noch weitere Kleinigkeiten gesäubert."
   ]
  },
  {
   "cell_type": "code",
   "execution_count": 199,
   "metadata": {},
   "outputs": [
    {
     "name": "stderr",
     "output_type": "stream",
     "text": [
      "Applying Team-IDs to games: 17949it [00:07, 2496.38it/s]"
     ]
    },
    {
     "name": "stdout",
     "output_type": "stream",
     "text": [
      "Done!\n"
     ]
    },
    {
     "name": "stderr",
     "output_type": "stream",
     "text": [
      "\n"
     ]
    }
   ],
   "source": [
    "games_df = pd.read_csv(\"data/games.csv\")\n",
    "teams_df = pd.read_csv(\"data/teams.csv\")\n",
    "\n",
    "games_new = []\n",
    "\n",
    "games_df = games_df.drop(\"boxscore\",axis=1)\n",
    "games_df[\"game_location\"] = games_df[\"game_location\"].fillna(\" \")\n",
    "\n",
    "def find_team_id(source: pd.DataFrame, team: str, year: int):\n",
    "    try:\n",
    "        possible_teams = source[(source[\"team_name\"] == team)]\n",
    "        possible_teams = possible_teams[(year >= possible_teams[\"first_year\"]) & (year <= possible_teams[\"last_year\"] + 1)] # Die year-Spalten zeigen nur das erste Jahr der Saison.\n",
    "        return int(possible_teams[\"team_id\"].iloc[0])\n",
    "    # Es gibt in der 1920 Saison Teams, die in der teams.csv nicht aufgelistet sind. Diese werden hier mit np.nan ersetzt, um die Endstände der Spiele trotzdem beizubehalten. \n",
    "    except IndexError:\n",
    "        return np.nan\n",
    "\n",
    "for index,game in tqdm(enumerate(games_df.values,1),desc=f\"Applying Team-IDs to games\"):\n",
    "    # try:\n",
    "    game = ([index] +\n",
    "            list(game[:4]) +\n",
    "            [find_team_id(teams_df, game[4], int(game[2][:4]))] +\n",
    "            list(game[5]) +\n",
    "            [find_team_id(teams_df, game[6], int(game[2][:4]))] +\n",
    "            list(game[7:]))\n",
    "    games_new.append(game)\n",
    "\n",
    "games_df = pd.DataFrame(games_new,\n",
    "                        columns=[\"game_id\",\"week\",\"day\",\"date\",\"outcome\",\"winner_id\",\"game_location\",\"loser_id\",\"pts_w\",\"pts_l\",\"yards_w\",\"to_w\",\"yards_l\",\"to_l\"]\n",
    "                        ).convert_dtypes(convert_integer=True)\n",
    "\n",
    "games_df[\"yards_w\"] = games_df[\"yards_w\"].replace(0,np.nan)\n",
    "games_df[\"yards_l\"] = games_df[\"yards_l\"].replace(0,np.nan)\n",
    "games_df.loc[games_df[\"date\"] <= \"1932-12-18\", \"to_w\"] = np.nan\n",
    "games_df.loc[games_df[\"date\"] <= \"1932-12-18\", \"to_l\"] = np.nan\n",
    "\n",
    "games_df.to_csv(\"data/games_cleaned.csv\",index=False)\n",
    "\n",
    "# with open(\"data/games_cleaned.csv\", \"w\", newline=\"\") as file:\n",
    "#     writer = csv.writer(file)\n",
    "#     fields = [\"game_id\",\"week\",\"day\",\"date\",\"outcome\",\"winner_id\",\"game_location\",\"loser_id\",\"pts_w\",\"pts_l\",\"yards_w\",\"to_w\",\"yards_l\",\"to_l\"]\n",
    "#     writer.writerow(fields)\n",
    "#     writer.writerows(games_new)\n",
    "\n",
    "print(f\"Done!\")"
   ]
  },
  {
   "cell_type": "markdown",
   "metadata": {},
   "source": [
    "### Visualisierungen"
   ]
  },
  {
   "cell_type": "code",
   "execution_count": null,
   "metadata": {},
   "outputs": [
    {
     "data": {
      "application/vnd.plotly.v1+json": {
       "config": {
        "plotlyServerURL": "https://plot.ly"
       },
       "data": [
        {
         "customdata": [
          [
           2
          ],
          [
           3
          ],
          [
           3
          ],
          [
           3
          ],
          [
           3
          ],
          [
           4
          ],
          [
           4
          ],
          [
           4
          ],
          [
           4
          ],
          [
           4
          ],
          [
           5
          ],
          [
           5
          ],
          [
           6
          ],
          [
           8
          ],
          [
           8
          ],
          [
           8
          ],
          [
           8
          ],
          [
           9
          ],
          [
           9
          ],
          [
           9
          ],
          [
           9
          ],
          [
           9
          ],
          [
           9
          ],
          [
           9
          ],
          [
           9
          ],
          [
           9
          ],
          [
           11
          ],
          [
           11
          ],
          [
           11
          ],
          [
           11
          ],
          [
           11
          ],
          [
           11
          ],
          [
           11
          ],
          [
           12
          ],
          [
           12
          ],
          [
           12
          ],
          [
           12
          ],
          [
           12
          ],
          [
           12
          ],
          [
           12
          ],
          [
           21
          ],
          [
           22
          ],
          [
           22
          ],
          [
           22
          ],
          [
           22
          ],
          [
           22
          ],
          [
           24
          ],
          [
           25
          ],
          [
           26
          ],
          [
           26
          ],
          [
           26
          ],
          [
           26
          ],
          [
           26
          ],
          [
           26
          ],
          [
           26
          ],
          [
           26
          ],
          [
           28
          ],
          [
           28
          ],
          [
           28
          ],
          [
           28
          ],
          [
           28
          ],
          [
           28
          ],
          [
           28
          ],
          [
           28
          ],
          [
           28
          ],
          [
           28
          ],
          [
           28
          ],
          [
           28
          ],
          [
           28
          ],
          [
           28
          ],
          [
           28
          ],
          [
           28
          ],
          [
           28
          ],
          [
           28
          ],
          [
           28
          ],
          [
           30
          ],
          [
           31
          ],
          [
           31
          ],
          [
           31
          ],
          [
           31
          ],
          [
           31
          ],
          [
           31
          ],
          [
           32
          ],
          [
           32
          ],
          [
           32
          ],
          [
           32
          ],
          [
           32
          ],
          [
           32
          ],
          [
           32
          ],
          [
           32
          ],
          [
           32
          ],
          [
           32
          ],
          [
           32
          ],
          [
           32
          ],
          [
           32
          ],
          [
           32
          ],
          [
           32
          ],
          [
           32
          ],
          [
           32
          ],
          [
           32
          ],
          [
           32
          ],
          [
           32
          ],
          [
           32
          ],
          [
           32
          ],
          [
           32
          ]
         ],
         "hovertemplate": "<b>%{hovertext}</b><br><br># of Teams in the NFL=%{y}<br># of Teams currently in the NFL=%{customdata[0]}<extra></extra>",
         "hovertext": [
          1920,
          1921,
          1922,
          1923,
          1924,
          1925,
          1926,
          1927,
          1928,
          1929,
          1930,
          1931,
          1932,
          1933,
          1934,
          1935,
          1936,
          1937,
          1938,
          1939,
          1940,
          1941,
          1942,
          1943,
          1944,
          1945,
          1946,
          1947,
          1948,
          1949,
          1950,
          1951,
          1952,
          1953,
          1954,
          1955,
          1956,
          1957,
          1958,
          1959,
          1960,
          1961,
          1962,
          1963,
          1964,
          1965,
          1966,
          1967,
          1968,
          1969,
          1970,
          1971,
          1972,
          1973,
          1974,
          1975,
          1976,
          1977,
          1978,
          1979,
          1980,
          1981,
          1982,
          1983,
          1984,
          1985,
          1986,
          1987,
          1988,
          1989,
          1990,
          1991,
          1992,
          1993,
          1994,
          1995,
          1996,
          1997,
          1998,
          1999,
          2000,
          2001,
          2002,
          2003,
          2004,
          2005,
          2006,
          2007,
          2008,
          2009,
          2010,
          2011,
          2012,
          2013,
          2014,
          2015,
          2016,
          2017,
          2018,
          2019,
          2020,
          2021,
          2022,
          2023,
          2024
         ],
         "legendgroup": "",
         "line": {
          "color": "#013369",
          "dash": "solid"
         },
         "marker": {
          "symbol": "circle"
         },
         "mode": "lines",
         "name": "",
         "orientation": "v",
         "showlegend": false,
         "type": "scatter",
         "x": [
          1920,
          1921,
          1922,
          1923,
          1924,
          1925,
          1926,
          1927,
          1928,
          1929,
          1930,
          1931,
          1932,
          1933,
          1934,
          1935,
          1936,
          1937,
          1938,
          1939,
          1940,
          1941,
          1942,
          1943,
          1944,
          1945,
          1946,
          1947,
          1948,
          1949,
          1950,
          1951,
          1952,
          1953,
          1954,
          1955,
          1956,
          1957,
          1958,
          1959,
          1960,
          1961,
          1962,
          1963,
          1964,
          1965,
          1966,
          1967,
          1968,
          1969,
          1970,
          1971,
          1972,
          1973,
          1974,
          1975,
          1976,
          1977,
          1978,
          1979,
          1980,
          1981,
          1982,
          1983,
          1984,
          1985,
          1986,
          1987,
          1988,
          1989,
          1990,
          1991,
          1992,
          1993,
          1994,
          1995,
          1996,
          1997,
          1998,
          1999,
          2000,
          2001,
          2002,
          2003,
          2004,
          2005,
          2006,
          2007,
          2008,
          2009,
          2010,
          2011,
          2012,
          2013,
          2014,
          2015,
          2016,
          2017,
          2018,
          2019,
          2020,
          2021,
          2022,
          2023,
          2024
         ],
         "xaxis": "x",
         "y": [
          14,
          21,
          18,
          20,
          20,
          23,
          24,
          13,
          12,
          12,
          11,
          10,
          8,
          10,
          11,
          9,
          9,
          10,
          10,
          10,
          10,
          10,
          10,
          10,
          11,
          10,
          18,
          18,
          18,
          17,
          13,
          12,
          12,
          12,
          12,
          12,
          12,
          12,
          12,
          12,
          21,
          22,
          22,
          22,
          22,
          22,
          24,
          25,
          26,
          26,
          26,
          26,
          26,
          26,
          26,
          26,
          28,
          28,
          28,
          28,
          28,
          28,
          28,
          28,
          28,
          28,
          28,
          28,
          28,
          28,
          28,
          28,
          28,
          28,
          28,
          30,
          31,
          31,
          31,
          31,
          31,
          31,
          32,
          32,
          32,
          32,
          32,
          32,
          32,
          32,
          32,
          32,
          32,
          32,
          32,
          32,
          32,
          32,
          32,
          32,
          32,
          32,
          32,
          32,
          32
         ],
         "yaxis": "y"
        },
        {
         "hoverinfo": "skip",
         "line": {
          "color": "#d50a0a",
          "dash": "dash"
         },
         "mode": "lines",
         "name": "# of Teams currently in the NFL",
         "type": "scatter",
         "x": [
          1920,
          1921,
          1922,
          1923,
          1924,
          1925,
          1926,
          1927,
          1928,
          1929,
          1930,
          1931,
          1932,
          1933,
          1934,
          1935,
          1936,
          1937,
          1938,
          1939,
          1940,
          1941,
          1942,
          1943,
          1944,
          1945,
          1946,
          1947,
          1948,
          1949,
          1950,
          1951,
          1952,
          1953,
          1954,
          1955,
          1956,
          1957,
          1958,
          1959,
          1960,
          1961,
          1962,
          1963,
          1964,
          1965,
          1966,
          1967,
          1968,
          1969,
          1970,
          1971,
          1972,
          1973,
          1974,
          1975,
          1976,
          1977,
          1978,
          1979,
          1980,
          1981,
          1982,
          1983,
          1984,
          1985,
          1986,
          1987,
          1988,
          1989,
          1990,
          1991,
          1992,
          1993,
          1994,
          1995,
          1996,
          1997,
          1998,
          1999,
          2000,
          2001,
          2002,
          2003,
          2004,
          2005,
          2006,
          2007,
          2008,
          2009,
          2010,
          2011,
          2012,
          2013,
          2014,
          2015,
          2016,
          2017,
          2018,
          2019,
          2020,
          2021,
          2022,
          2023,
          2024
         ],
         "y": [
          2,
          3,
          3,
          3,
          3,
          4,
          4,
          4,
          4,
          4,
          5,
          5,
          6,
          8,
          8,
          8,
          8,
          9,
          9,
          9,
          9,
          9,
          9,
          9,
          9,
          9,
          11,
          11,
          11,
          11,
          11,
          11,
          11,
          12,
          12,
          12,
          12,
          12,
          12,
          12,
          21,
          22,
          22,
          22,
          22,
          22,
          24,
          25,
          26,
          26,
          26,
          26,
          26,
          26,
          26,
          26,
          28,
          28,
          28,
          28,
          28,
          28,
          28,
          28,
          28,
          28,
          28,
          28,
          28,
          28,
          28,
          28,
          28,
          28,
          28,
          30,
          31,
          31,
          31,
          31,
          31,
          31,
          32,
          32,
          32,
          32,
          32,
          32,
          32,
          32,
          32,
          32,
          32,
          32,
          32,
          32,
          32,
          32,
          32,
          32,
          32,
          32,
          32,
          32,
          32
         ]
        }
       ],
       "layout": {
        "legend": {
         "tracegroupgap": 0
        },
        "template": {
         "data": {
          "bar": [
           {
            "error_x": {
             "color": "#2a3f5f"
            },
            "error_y": {
             "color": "#2a3f5f"
            },
            "marker": {
             "line": {
              "color": "#E5ECF6",
              "width": 0.5
             },
             "pattern": {
              "fillmode": "overlay",
              "size": 10,
              "solidity": 0.2
             }
            },
            "type": "bar"
           }
          ],
          "barpolar": [
           {
            "marker": {
             "line": {
              "color": "#E5ECF6",
              "width": 0.5
             },
             "pattern": {
              "fillmode": "overlay",
              "size": 10,
              "solidity": 0.2
             }
            },
            "type": "barpolar"
           }
          ],
          "carpet": [
           {
            "aaxis": {
             "endlinecolor": "#2a3f5f",
             "gridcolor": "white",
             "linecolor": "white",
             "minorgridcolor": "white",
             "startlinecolor": "#2a3f5f"
            },
            "baxis": {
             "endlinecolor": "#2a3f5f",
             "gridcolor": "white",
             "linecolor": "white",
             "minorgridcolor": "white",
             "startlinecolor": "#2a3f5f"
            },
            "type": "carpet"
           }
          ],
          "choropleth": [
           {
            "colorbar": {
             "outlinewidth": 0,
             "ticks": ""
            },
            "type": "choropleth"
           }
          ],
          "contour": [
           {
            "colorbar": {
             "outlinewidth": 0,
             "ticks": ""
            },
            "colorscale": [
             [
              0,
              "#0d0887"
             ],
             [
              0.1111111111111111,
              "#46039f"
             ],
             [
              0.2222222222222222,
              "#7201a8"
             ],
             [
              0.3333333333333333,
              "#9c179e"
             ],
             [
              0.4444444444444444,
              "#bd3786"
             ],
             [
              0.5555555555555556,
              "#d8576b"
             ],
             [
              0.6666666666666666,
              "#ed7953"
             ],
             [
              0.7777777777777778,
              "#fb9f3a"
             ],
             [
              0.8888888888888888,
              "#fdca26"
             ],
             [
              1,
              "#f0f921"
             ]
            ],
            "type": "contour"
           }
          ],
          "contourcarpet": [
           {
            "colorbar": {
             "outlinewidth": 0,
             "ticks": ""
            },
            "type": "contourcarpet"
           }
          ],
          "heatmap": [
           {
            "colorbar": {
             "outlinewidth": 0,
             "ticks": ""
            },
            "colorscale": [
             [
              0,
              "#0d0887"
             ],
             [
              0.1111111111111111,
              "#46039f"
             ],
             [
              0.2222222222222222,
              "#7201a8"
             ],
             [
              0.3333333333333333,
              "#9c179e"
             ],
             [
              0.4444444444444444,
              "#bd3786"
             ],
             [
              0.5555555555555556,
              "#d8576b"
             ],
             [
              0.6666666666666666,
              "#ed7953"
             ],
             [
              0.7777777777777778,
              "#fb9f3a"
             ],
             [
              0.8888888888888888,
              "#fdca26"
             ],
             [
              1,
              "#f0f921"
             ]
            ],
            "type": "heatmap"
           }
          ],
          "heatmapgl": [
           {
            "colorbar": {
             "outlinewidth": 0,
             "ticks": ""
            },
            "colorscale": [
             [
              0,
              "#0d0887"
             ],
             [
              0.1111111111111111,
              "#46039f"
             ],
             [
              0.2222222222222222,
              "#7201a8"
             ],
             [
              0.3333333333333333,
              "#9c179e"
             ],
             [
              0.4444444444444444,
              "#bd3786"
             ],
             [
              0.5555555555555556,
              "#d8576b"
             ],
             [
              0.6666666666666666,
              "#ed7953"
             ],
             [
              0.7777777777777778,
              "#fb9f3a"
             ],
             [
              0.8888888888888888,
              "#fdca26"
             ],
             [
              1,
              "#f0f921"
             ]
            ],
            "type": "heatmapgl"
           }
          ],
          "histogram": [
           {
            "marker": {
             "pattern": {
              "fillmode": "overlay",
              "size": 10,
              "solidity": 0.2
             }
            },
            "type": "histogram"
           }
          ],
          "histogram2d": [
           {
            "colorbar": {
             "outlinewidth": 0,
             "ticks": ""
            },
            "colorscale": [
             [
              0,
              "#0d0887"
             ],
             [
              0.1111111111111111,
              "#46039f"
             ],
             [
              0.2222222222222222,
              "#7201a8"
             ],
             [
              0.3333333333333333,
              "#9c179e"
             ],
             [
              0.4444444444444444,
              "#bd3786"
             ],
             [
              0.5555555555555556,
              "#d8576b"
             ],
             [
              0.6666666666666666,
              "#ed7953"
             ],
             [
              0.7777777777777778,
              "#fb9f3a"
             ],
             [
              0.8888888888888888,
              "#fdca26"
             ],
             [
              1,
              "#f0f921"
             ]
            ],
            "type": "histogram2d"
           }
          ],
          "histogram2dcontour": [
           {
            "colorbar": {
             "outlinewidth": 0,
             "ticks": ""
            },
            "colorscale": [
             [
              0,
              "#0d0887"
             ],
             [
              0.1111111111111111,
              "#46039f"
             ],
             [
              0.2222222222222222,
              "#7201a8"
             ],
             [
              0.3333333333333333,
              "#9c179e"
             ],
             [
              0.4444444444444444,
              "#bd3786"
             ],
             [
              0.5555555555555556,
              "#d8576b"
             ],
             [
              0.6666666666666666,
              "#ed7953"
             ],
             [
              0.7777777777777778,
              "#fb9f3a"
             ],
             [
              0.8888888888888888,
              "#fdca26"
             ],
             [
              1,
              "#f0f921"
             ]
            ],
            "type": "histogram2dcontour"
           }
          ],
          "mesh3d": [
           {
            "colorbar": {
             "outlinewidth": 0,
             "ticks": ""
            },
            "type": "mesh3d"
           }
          ],
          "parcoords": [
           {
            "line": {
             "colorbar": {
              "outlinewidth": 0,
              "ticks": ""
             }
            },
            "type": "parcoords"
           }
          ],
          "pie": [
           {
            "automargin": true,
            "type": "pie"
           }
          ],
          "scatter": [
           {
            "fillpattern": {
             "fillmode": "overlay",
             "size": 10,
             "solidity": 0.2
            },
            "type": "scatter"
           }
          ],
          "scatter3d": [
           {
            "line": {
             "colorbar": {
              "outlinewidth": 0,
              "ticks": ""
             }
            },
            "marker": {
             "colorbar": {
              "outlinewidth": 0,
              "ticks": ""
             }
            },
            "type": "scatter3d"
           }
          ],
          "scattercarpet": [
           {
            "marker": {
             "colorbar": {
              "outlinewidth": 0,
              "ticks": ""
             }
            },
            "type": "scattercarpet"
           }
          ],
          "scattergeo": [
           {
            "marker": {
             "colorbar": {
              "outlinewidth": 0,
              "ticks": ""
             }
            },
            "type": "scattergeo"
           }
          ],
          "scattergl": [
           {
            "marker": {
             "colorbar": {
              "outlinewidth": 0,
              "ticks": ""
             }
            },
            "type": "scattergl"
           }
          ],
          "scattermapbox": [
           {
            "marker": {
             "colorbar": {
              "outlinewidth": 0,
              "ticks": ""
             }
            },
            "type": "scattermapbox"
           }
          ],
          "scatterpolar": [
           {
            "marker": {
             "colorbar": {
              "outlinewidth": 0,
              "ticks": ""
             }
            },
            "type": "scatterpolar"
           }
          ],
          "scatterpolargl": [
           {
            "marker": {
             "colorbar": {
              "outlinewidth": 0,
              "ticks": ""
             }
            },
            "type": "scatterpolargl"
           }
          ],
          "scatterternary": [
           {
            "marker": {
             "colorbar": {
              "outlinewidth": 0,
              "ticks": ""
             }
            },
            "type": "scatterternary"
           }
          ],
          "surface": [
           {
            "colorbar": {
             "outlinewidth": 0,
             "ticks": ""
            },
            "colorscale": [
             [
              0,
              "#0d0887"
             ],
             [
              0.1111111111111111,
              "#46039f"
             ],
             [
              0.2222222222222222,
              "#7201a8"
             ],
             [
              0.3333333333333333,
              "#9c179e"
             ],
             [
              0.4444444444444444,
              "#bd3786"
             ],
             [
              0.5555555555555556,
              "#d8576b"
             ],
             [
              0.6666666666666666,
              "#ed7953"
             ],
             [
              0.7777777777777778,
              "#fb9f3a"
             ],
             [
              0.8888888888888888,
              "#fdca26"
             ],
             [
              1,
              "#f0f921"
             ]
            ],
            "type": "surface"
           }
          ],
          "table": [
           {
            "cells": {
             "fill": {
              "color": "#EBF0F8"
             },
             "line": {
              "color": "white"
             }
            },
            "header": {
             "fill": {
              "color": "#C8D4E3"
             },
             "line": {
              "color": "white"
             }
            },
            "type": "table"
           }
          ]
         },
         "layout": {
          "annotationdefaults": {
           "arrowcolor": "#2a3f5f",
           "arrowhead": 0,
           "arrowwidth": 1
          },
          "autotypenumbers": "strict",
          "coloraxis": {
           "colorbar": {
            "outlinewidth": 0,
            "ticks": ""
           }
          },
          "colorscale": {
           "diverging": [
            [
             0,
             "#8e0152"
            ],
            [
             0.1,
             "#c51b7d"
            ],
            [
             0.2,
             "#de77ae"
            ],
            [
             0.3,
             "#f1b6da"
            ],
            [
             0.4,
             "#fde0ef"
            ],
            [
             0.5,
             "#f7f7f7"
            ],
            [
             0.6,
             "#e6f5d0"
            ],
            [
             0.7,
             "#b8e186"
            ],
            [
             0.8,
             "#7fbc41"
            ],
            [
             0.9,
             "#4d9221"
            ],
            [
             1,
             "#276419"
            ]
           ],
           "sequential": [
            [
             0,
             "#0d0887"
            ],
            [
             0.1111111111111111,
             "#46039f"
            ],
            [
             0.2222222222222222,
             "#7201a8"
            ],
            [
             0.3333333333333333,
             "#9c179e"
            ],
            [
             0.4444444444444444,
             "#bd3786"
            ],
            [
             0.5555555555555556,
             "#d8576b"
            ],
            [
             0.6666666666666666,
             "#ed7953"
            ],
            [
             0.7777777777777778,
             "#fb9f3a"
            ],
            [
             0.8888888888888888,
             "#fdca26"
            ],
            [
             1,
             "#f0f921"
            ]
           ],
           "sequentialminus": [
            [
             0,
             "#0d0887"
            ],
            [
             0.1111111111111111,
             "#46039f"
            ],
            [
             0.2222222222222222,
             "#7201a8"
            ],
            [
             0.3333333333333333,
             "#9c179e"
            ],
            [
             0.4444444444444444,
             "#bd3786"
            ],
            [
             0.5555555555555556,
             "#d8576b"
            ],
            [
             0.6666666666666666,
             "#ed7953"
            ],
            [
             0.7777777777777778,
             "#fb9f3a"
            ],
            [
             0.8888888888888888,
             "#fdca26"
            ],
            [
             1,
             "#f0f921"
            ]
           ]
          },
          "colorway": [
           "#636efa",
           "#EF553B",
           "#00cc96",
           "#ab63fa",
           "#FFA15A",
           "#19d3f3",
           "#FF6692",
           "#B6E880",
           "#FF97FF",
           "#FECB52"
          ],
          "font": {
           "color": "#2a3f5f"
          },
          "geo": {
           "bgcolor": "white",
           "lakecolor": "white",
           "landcolor": "#E5ECF6",
           "showlakes": true,
           "showland": true,
           "subunitcolor": "white"
          },
          "hoverlabel": {
           "align": "left"
          },
          "hovermode": "closest",
          "mapbox": {
           "style": "light"
          },
          "paper_bgcolor": "white",
          "plot_bgcolor": "#E5ECF6",
          "polar": {
           "angularaxis": {
            "gridcolor": "white",
            "linecolor": "white",
            "ticks": ""
           },
           "bgcolor": "#E5ECF6",
           "radialaxis": {
            "gridcolor": "white",
            "linecolor": "white",
            "ticks": ""
           }
          },
          "scene": {
           "xaxis": {
            "backgroundcolor": "#E5ECF6",
            "gridcolor": "white",
            "gridwidth": 2,
            "linecolor": "white",
            "showbackground": true,
            "ticks": "",
            "zerolinecolor": "white"
           },
           "yaxis": {
            "backgroundcolor": "#E5ECF6",
            "gridcolor": "white",
            "gridwidth": 2,
            "linecolor": "white",
            "showbackground": true,
            "ticks": "",
            "zerolinecolor": "white"
           },
           "zaxis": {
            "backgroundcolor": "#E5ECF6",
            "gridcolor": "white",
            "gridwidth": 2,
            "linecolor": "white",
            "showbackground": true,
            "ticks": "",
            "zerolinecolor": "white"
           }
          },
          "shapedefaults": {
           "line": {
            "color": "#2a3f5f"
           }
          },
          "ternary": {
           "aaxis": {
            "gridcolor": "white",
            "linecolor": "white",
            "ticks": ""
           },
           "baxis": {
            "gridcolor": "white",
            "linecolor": "white",
            "ticks": ""
           },
           "bgcolor": "#E5ECF6",
           "caxis": {
            "gridcolor": "white",
            "linecolor": "white",
            "ticks": ""
           }
          },
          "title": {
           "x": 0.05
          },
          "xaxis": {
           "automargin": true,
           "gridcolor": "white",
           "linecolor": "white",
           "ticks": "",
           "title": {
            "standoff": 15
           },
           "zerolinecolor": "white",
           "zerolinewidth": 2
          },
          "yaxis": {
           "automargin": true,
           "gridcolor": "white",
           "linecolor": "white",
           "ticks": "",
           "title": {
            "standoff": 15
           },
           "zerolinecolor": "white",
           "zerolinewidth": 2
          }
         }
        },
        "title": {
         "text": "NFL Team-History"
        },
        "xaxis": {
         "anchor": "y",
         "domain": [
          0,
          1
         ],
         "title": {
          "text": "Year"
         }
        },
        "yaxis": {
         "anchor": "x",
         "domain": [
          0,
          1
         ],
         "range": [
          0,
          35
         ],
         "title": {
          "text": "# of Teams in the NFL"
         }
        }
       }
      }
     },
     "metadata": {},
     "output_type": "display_data"
    }
   ],
   "source": [
    "teams_df = pd.read_csv(\"data/teams.csv\")\n",
    "\n",
    "x = range(1920,2025)\n",
    "y1 = [teams_df[(teams_df[\"is_latest_name\"] == 1) & (year >= teams_df[\"first_year\"]) & (year <= teams_df[\"last_year\"])][\"team_id\"].count() for year in x]\n",
    "y2 = [teams_df[(teams_df[\"is_latest_name\"] == 1) & (year >= teams_df[\"first_year\"]) & (2024 == teams_df[\"last_year\"])][\"team_id\"].count() for year in x]\n",
    "\n",
    "data = pd.DataFrame({\"year\": x,\"#1\": y1,\"#2\":y2})\n",
    "\n",
    "fig = px.line(data,\n",
    "              x=\"year\",\n",
    "              y=\"#1\",\n",
    "              range_y=[0,35],\n",
    "              hover_name=\"year\",\n",
    "              hover_data={\"#1\":True,\"#2\": True,\"year\":False},\n",
    "              color_discrete_sequence=[\"#013369\"],\n",
    "              labels={\"year\": \"Year\",\"#1\": \"# of Teams in the NFL\",\"#2\": \"# of Teams currently in the NFL\"},\n",
    "              title=\"NFL Team-History\")\n",
    "\n",
    "fig.add_scatter(\n",
    "              x=data[\"year\"],\n",
    "              y=data[\"#2\"],\n",
    "              hoverinfo=\"skip\",\n",
    "              name=\"# of Teams currently in the NFL\",\n",
    "              line={\"dash\": \"dash\", \"color\": \"#d50a0a\"},\n",
    "              mode=\"lines\")\n",
    "\n",
    "fig.show()"
   ]
  },
  {
   "cell_type": "code",
   "execution_count": 204,
   "metadata": {},
   "outputs": [
    {
     "data": {
      "application/vnd.plotly.v1+json": {
       "config": {
        "plotlyServerURL": "https://plot.ly"
       },
       "data": [
        {
         "alignmentgroup": "True",
         "base": [
          "1920-07-01",
          "1944-07-01",
          "1945-07-01",
          "1960-07-01",
          "1988-07-01",
          "1920-07-01",
          "1921-07-01",
          "1930-07-01",
          "1953-07-01",
          "1960-07-01",
          "1960-07-01",
          "1982-07-01",
          "1995-07-01",
          "1960-07-01",
          "1961-07-01",
          "1937-07-01",
          "1946-07-01",
          "1995-07-01",
          "1960-07-01",
          "1960-07-01",
          "1933-07-01",
          "1943-07-01",
          "1933-07-01",
          "1940-07-01",
          "1943-07-01",
          "1944-07-01",
          "1960-07-01",
          "1997-07-01",
          "1932-07-01",
          "1933-07-01",
          "1937-07-01",
          "2020-07-01",
          "1920-07-01",
          "1926-07-01",
          "1947-07-01",
          "1925-07-01",
          "1929-07-01",
          "1944-07-01",
          "1945-07-01",
          "1946-07-01",
          "1946-07-01",
          "1926-07-01",
          "1930-07-01",
          "1944-07-01",
          "1946-07-01",
          "1947-07-01",
          "1920-07-01",
          "1924-07-01",
          "1926-07-01",
          "1927-07-01",
          "1920-07-01",
          "1946-07-01",
          "1949-07-01",
          "1920-07-01",
          "1921-07-01",
          "1933-07-01",
          "1923-07-01",
          "1924-07-01",
          "1931-07-01",
          "1920-07-01",
          "1921-07-01",
          "1920-07-01",
          "1923-07-01",
          "1952-07-01",
          "1920-07-01",
          "1920-07-01",
          "1925-07-01",
          "1921-07-01",
          "1928-07-01",
          "1923-07-01",
          "1926-07-01",
          "1921-07-01",
          "1924-07-01",
          "1920-07-01",
          "1926-07-01",
          "1924-07-01",
          "1925-07-01",
          "1924-07-01",
          "1926-07-01",
          "1946-07-01",
          "1921-07-01",
          "1926-07-01",
          "1946-07-01",
          "1922-07-01",
          "1921-07-01",
          "1929-07-01",
          "1920-07-01",
          "1921-07-01",
          "1946-07-01",
          "1927-07-01",
          "1949-07-01",
          "1950-07-01",
          "1929-07-01",
          "1930-07-01",
          "1922-07-01",
          "1925-07-01",
          "1922-07-01",
          "1926-07-01",
          "1920-07-01",
          "1920-07-01",
          "1923-07-01",
          "1934-07-01",
          "1929-07-01",
          "1922-07-01",
          "1921-07-01",
          "1921-07-01"
         ],
         "customdata": [
          [
           "False",
           "1920/21",
           "1943/44"
          ],
          [
           "False",
           "1944/45",
           "1944/45"
          ],
          [
           "False",
           "1945/46",
           "1959/60"
          ],
          [
           "False",
           "1960/61",
           "1987/88"
          ],
          [
           "False",
           "1988/89",
           "1993/94"
          ],
          [
           "False",
           "1920/21",
           "1920/21"
          ],
          [
           "False",
           "1921/22",
           "1921/22"
          ],
          [
           "False",
           "1930/31",
           "1933/34"
          ],
          [
           "False",
           "1953/54",
           "1983/84"
          ],
          [
           "False",
           "1960/61",
           "1962/63"
          ],
          [
           "False",
           "1960/61",
           "1981/82"
          ],
          [
           "False",
           "1982/83",
           "1994/95"
          ],
          [
           "False",
           "1995/96",
           "2019/20"
          ],
          [
           "False",
           "1960/61",
           "1960/61"
          ],
          [
           "False",
           "1961/62",
           "2016/17"
          ],
          [
           "False",
           "1937/38",
           "1945/46"
          ],
          [
           "False",
           "1946/47",
           "1994/95"
          ],
          [
           "False",
           "1995/96",
           "2015/16"
          ],
          [
           "False",
           "1960/61",
           "1970/71"
          ],
          [
           "False",
           "1960/61",
           "1962/63"
          ],
          [
           "False",
           "1933/34",
           "1942/43"
          ],
          [
           "False",
           "1943/44",
           "1943/44"
          ],
          [
           "False",
           "1933/34",
           "1939/40"
          ],
          [
           "False",
           "1940/41",
           "1942/43"
          ],
          [
           "False",
           "1943/44",
           "1943/44"
          ],
          [
           "False",
           "1944/45",
           "1944/45"
          ],
          [
           "False",
           "1960/61",
           "1996/97"
          ],
          [
           "False",
           "1997/98",
           "1998/99"
          ],
          [
           "False",
           "1932/33",
           "1932/33"
          ],
          [
           "False",
           "1933/34",
           "1936/37"
          ],
          [
           "False",
           "1937/38",
           "2019/20"
          ],
          [
           "False",
           "2020/21",
           "2021/22"
          ],
          [
           "False",
           "1920/21",
           "1925/26"
          ],
          [
           "False",
           "1926/27",
           "1926/27"
          ],
          [
           "False",
           "1947/48",
           "1950/51"
          ],
          [
           "False",
           "1925/26",
           "1928/29"
          ],
          [
           "False",
           "1929/30",
           "1929/30"
          ],
          [
           "False",
           "1944/45",
           "1944/45"
          ],
          [
           "False",
           "1945/46",
           "1945/46"
          ],
          [
           "False",
           "1946/47",
           "1948/49"
          ],
          [
           "False",
           "1946/47",
           "1948/49"
          ],
          [
           "False",
           "1926/27",
           "1926/27"
          ],
          [
           "False",
           "1930/31",
           "1943/44"
          ],
          [
           "False",
           "1944/45",
           "1944/45"
          ],
          [
           "False",
           "1946/47",
           "1946/47"
          ],
          [
           "False",
           "1947/48",
           "1949/50"
          ],
          [
           "False",
           "1920/21",
           "1923/24"
          ],
          [
           "False",
           "1924/25",
           "1925/26"
          ],
          [
           "False",
           "1926/27",
           "1926/27"
          ],
          [
           "False",
           "1927/28",
           "1929/30"
          ],
          [
           "False",
           "1920/21",
           "1926/27"
          ],
          [
           "False",
           "1946/47",
           "1948/49"
          ],
          [
           "False",
           "1949/50",
           "1949/50"
          ],
          [
           "False",
           "1920/21",
           "1920/21"
          ],
          [
           "False",
           "1921/22",
           "1921/22"
          ],
          [
           "False",
           "1933/34",
           "1934/35"
          ],
          [
           "False",
           "1923/24",
           "1923/24"
          ],
          [
           "False",
           "1924/25",
           "1927/28"
          ],
          [
           "False",
           "1931/32",
           "1931/32"
          ],
          [
           "False",
           "1920/21",
           "1920/21"
          ],
          [
           "False",
           "1921/22",
           "1921/22"
          ],
          [
           "False",
           "1920/21",
           "1922/23"
          ],
          [
           "False",
           "1923/24",
           "1926/27"
          ],
          [
           "False",
           "1952/53",
           "1952/53"
          ],
          [
           "False",
           "1920/21",
           "1929/30"
          ],
          [
           "False",
           "1920/21",
           "1920/21"
          ],
          [
           "False",
           "1925/26",
           "1926/27"
          ],
          [
           "False",
           "1921/22",
           "1921/22"
          ],
          [
           "False",
           "1928/29",
           "1928/29"
          ],
          [
           "False",
           "1923/24",
           "1925/26"
          ],
          [
           "False",
           "1926/27",
           "1927/28"
          ],
          [
           "False",
           "1921/22",
           "1922/23"
          ],
          [
           "False",
           "1924/25",
           "1931/32"
          ],
          [
           "False",
           "1920/21",
           "1926/27"
          ],
          [
           "False",
           "1926/27",
           "1926/27"
          ],
          [
           "False",
           "1924/25",
           "1924/25"
          ],
          [
           "False",
           "1925/26",
           "1926/27"
          ],
          [
           "False",
           "1924/25",
           "1924/25"
          ],
          [
           "False",
           "1926/27",
           "1926/27"
          ],
          [
           "False",
           "1946/47",
           "1949/50"
          ],
          [
           "False",
           "1921/22",
           "1923/24"
          ],
          [
           "False",
           "1926/27",
           "1926/27"
          ],
          [
           "False",
           "1946/47",
           "1946/47"
          ],
          [
           "False",
           "1922/23",
           "1926/27"
          ],
          [
           "False",
           "1921/22",
           "1924/25"
          ],
          [
           "False",
           "1929/30",
           "1930/31"
          ],
          [
           "False",
           "1920/21",
           "1921/22"
          ],
          [
           "False",
           "1921/22",
           "1921/22"
          ],
          [
           "False",
           "1946/47",
           "1949/50"
          ],
          [
           "False",
           "1927/28",
           "1928/29"
          ],
          [
           "False",
           "1949/50",
           "1949/50"
          ],
          [
           "False",
           "1950/51",
           "1951/52"
          ],
          [
           "False",
           "1929/30",
           "1929/30"
          ],
          [
           "False",
           "1930/31",
           "1930/31"
          ],
          [
           "False",
           "1922/23",
           "1923/24"
          ],
          [
           "False",
           "1925/26",
           "1931/32"
          ],
          [
           "False",
           "1922/23",
           "1924/25"
          ],
          [
           "False",
           "1926/27",
           "1926/27"
          ],
          [
           "False",
           "1920/21",
           "1925/26"
          ],
          [
           "False",
           "1920/21",
           "1925/26"
          ],
          [
           "False",
           "1923/24",
           "1923/24"
          ],
          [
           "False",
           "1934/35",
           "1934/35"
          ],
          [
           "False",
           "1929/30",
           "1932/33"
          ],
          [
           "False",
           "1922/23",
           "1923/24"
          ],
          [
           "False",
           "1921/22",
           "1921/22"
          ],
          [
           "False",
           "1921/22",
           "1921/22"
          ]
         ],
         "hovertemplate": "<b>%{hovertext}</b><br><br>Team-ID=%{y}<br>First season=%{customdata[1]}<br>Last season=%{customdata[2]}<extra></extra>",
         "hovertext": [
          "Chicago Cardinals",
          "Chi/Pit Cards/Steelers",
          "Chicago Cardinals",
          "St. Louis Cardinals",
          "Phoenix Cardinals",
          "Decatur Staleys",
          "Chicago Staleys",
          "Portsmouth Spartans",
          "Baltimore Colts",
          "Dallas Texans",
          "Oakland Raiders",
          "Los Angeles Raiders",
          "Oakland Raiders",
          "Los Angeles Chargers",
          "San Diego Chargers",
          "Cleveland Rams",
          "Los Angeles Rams",
          "St. Louis Rams",
          "Boston Patriots",
          "New York Titans",
          "Philadelphia Eagles",
          "Phi/Pit Eagles/Steelers",
          "Pittsburgh Pirates",
          "Pittsburgh Steelers",
          "Phi/Pit Eagles/Steelers",
          "Chi/Pit Cards/Steelers",
          "Houston Oilers",
          "Tennessee Oilers",
          "Boston Braves",
          "Boston Redskins",
          "Washington Redskins",
          "Washington Football Team",
          "Akron Pros",
          "Akron Indians",
          "Baltimore Colts",
          "Pottsville Maroons",
          "Boston Bulldogs",
          "Boston Yanks",
          "Bos/Bkn Yanks/Tigers",
          "Boston Yanks",
          "Brooklyn Dodgers",
          "Brooklyn Lions",
          "Brooklyn Dodgers",
          "Brooklyn Tigers",
          "Buffalo Bisons",
          "Buffalo Bills",
          "Buffalo All-Americans",
          "Buffalo Bisons",
          "Buffalo Rangers",
          "Buffalo Bisons",
          "Canton Bulldogs",
          "Chicago Rockets",
          "Chicago Hornets",
          "Chicago Tigers",
          "Cincinnati Celts",
          "Cincinnati Reds",
          "Cleveland Indians",
          "Cleveland Bulldogs",
          "Cleveland Indians",
          "Cleveland Tigers",
          "Cleveland Indians",
          "Columbus Panhandles",
          "Columbus Tigers",
          "Dallas Texans",
          "Dayton Triangles",
          "Detroit Heralds",
          "Detroit Panthers",
          "Detroit Tigers",
          "Detroit Wolverines",
          "Duluth Kelleys",
          "Duluth Eskimos",
          "Evansville Crimson Giants",
          "Frankford Yellow Jackets",
          "Hammond Pros",
          "Hartford Blues",
          "Kansas City Blues",
          "Kansas City Cowboys",
          "Kenosha Maroons",
          "Los Angeles Buccaneers",
          "Los Angeles Dons",
          "Louisville Brecks",
          "Louisville Colonels",
          "Miami Seahawks",
          "Milwaukee Badgers",
          "Minneapolis Marines",
          "Minneapolis Red Jackets",
          "Muncie Flyers",
          "New York Brickley Giants",
          "New York Yankees",
          "New York Yankees",
          "New York Bulldogs",
          "New York Yanks",
          "Orange Tornadoes",
          "Newark Tornadoes",
          "Oorang Indians",
          "Providence Steam Roller",
          "Racine Legion",
          "Racine Tornadoes",
          "Rochester Jeffersons",
          "Rock Island Independents",
          "St. Louis All-Stars",
          "St. Louis Gunners",
          "Staten Island Stapletons",
          "Toledo Maroons",
          "Tonawanda Kardex",
          "Washington Senators"
         ],
         "legendgroup": "False",
         "marker": {
          "color": "#d50a0a",
          "pattern": {
           "shape": ""
          }
         },
         "name": "False",
         "offsetgroup": "False",
         "orientation": "h",
         "showlegend": true,
         "textposition": "auto",
         "type": "bar",
         "x": [
          757296000000,
          31449600000,
          473299200000,
          883526400000,
          189216000000,
          31449600000,
          31449600000,
          126144000000,
          978220800000,
          94521600000,
          694137600000,
          410140800000,
          788918400000,
          31449600000,
          1767139200000,
          283910400000,
          1546214400000,
          662688000000,
          346982400000,
          94521600000,
          315446400000,
          31536000000,
          220838400000,
          94521600000,
          31536000000,
          31449600000,
          1167523200000,
          62985600000,
          31449600000,
          126144000000,
          2619216000000,
          62985600000,
          189216000000,
          31449600000,
          126144000000,
          126144000000,
          31449600000,
          31449600000,
          31449600000,
          94608000000,
          94608000000,
          31449600000,
          441763200000,
          31449600000,
          31449600000,
          94608000000,
          126144000000,
          62985600000,
          31449600000,
          94608000000,
          220752000000,
          94608000000,
          31449600000,
          31449600000,
          31449600000,
          62985600000,
          31536000000,
          126144000000,
          31536000000,
          31449600000,
          31449600000,
          94521600000,
          126144000000,
          31449600000,
          315446400000,
          31449600000,
          62985600000,
          31449600000,
          31449600000,
          94608000000,
          63072000000,
          62985600000,
          252374400000,
          220752000000,
          31449600000,
          31449600000,
          62985600000,
          31449600000,
          31449600000,
          126144000000,
          94608000000,
          31449600000,
          31449600000,
          157680000000,
          126144000000,
          62985600000,
          62985600000,
          31449600000,
          126144000000,
          63072000000,
          31449600000,
          63072000000,
          31449600000,
          31449600000,
          63072000000,
          220838400000,
          94608000000,
          31449600000,
          189216000000,
          189216000000,
          31536000000,
          31449600000,
          126144000000,
          63072000000,
          31449600000,
          31449600000
         ],
         "xaxis": "x",
         "y": [
          1,
          1,
          1,
          1,
          1,
          6,
          6,
          11,
          14,
          16,
          17,
          17,
          17,
          18,
          18,
          19,
          19,
          19,
          22,
          25,
          26,
          26,
          27,
          27,
          27,
          27,
          31,
          31,
          32,
          32,
          32,
          32,
          33,
          33,
          34,
          35,
          35,
          36,
          36,
          36,
          37,
          38,
          39,
          39,
          40,
          40,
          41,
          41,
          41,
          41,
          42,
          43,
          43,
          44,
          45,
          46,
          47,
          47,
          48,
          49,
          49,
          50,
          50,
          51,
          52,
          53,
          54,
          55,
          56,
          57,
          57,
          58,
          59,
          60,
          61,
          62,
          62,
          63,
          64,
          65,
          66,
          66,
          67,
          68,
          69,
          69,
          70,
          71,
          72,
          73,
          74,
          74,
          75,
          75,
          76,
          77,
          78,
          78,
          79,
          80,
          81,
          82,
          83,
          84,
          85,
          86
         ],
         "yaxis": "y"
        },
        {
         "alignmentgroup": "True",
         "base": [
          "1994-07-01",
          "1966-07-01",
          "1996-07-01",
          "1960-07-01",
          "1995-07-01",
          "1922-07-01",
          "1968-07-01",
          "1946-07-01",
          "1960-07-01",
          "1960-07-01",
          "1934-07-01",
          "1921-07-01",
          "2002-07-01",
          "1984-07-01",
          "1995-07-01",
          "1963-07-01",
          "2020-07-01",
          "2017-07-01",
          "2016-07-01",
          "1966-07-01",
          "1961-07-01",
          "1971-07-01",
          "1967-07-01",
          "1925-07-01",
          "1963-07-01",
          "1944-07-01",
          "1945-07-01",
          "1946-07-01",
          "1976-07-01",
          "1976-07-01",
          "1999-07-01",
          "2022-07-01"
         ],
         "customdata": [
          [
           "True",
           "1994/95",
           "2024/25"
          ],
          [
           "True",
           "1966/67",
           "2024/25"
          ],
          [
           "True",
           "1996/97",
           "2024/25"
          ],
          [
           "True",
           "1960/61",
           "2024/25"
          ],
          [
           "True",
           "1995/96",
           "2024/25"
          ],
          [
           "True",
           "1922/23",
           "2024/25"
          ],
          [
           "True",
           "1968/69",
           "2024/25"
          ],
          [
           "True",
           "1946/47",
           "2024/25"
          ],
          [
           "True",
           "1960/61",
           "2024/25"
          ],
          [
           "True",
           "1960/61",
           "2024/25"
          ],
          [
           "True",
           "1934/35",
           "2024/25"
          ],
          [
           "True",
           "1921/22",
           "2024/25"
          ],
          [
           "True",
           "2002/03",
           "2024/25"
          ],
          [
           "True",
           "1984/85",
           "2024/25"
          ],
          [
           "True",
           "1995/96",
           "2024/25"
          ],
          [
           "True",
           "1963/64",
           "2024/25"
          ],
          [
           "True",
           "2020/21",
           "2024/25"
          ],
          [
           "True",
           "2017/18",
           "2024/25"
          ],
          [
           "True",
           "2016/17",
           "2024/25"
          ],
          [
           "True",
           "1966/67",
           "2024/25"
          ],
          [
           "True",
           "1961/62",
           "2024/25"
          ],
          [
           "True",
           "1971/72",
           "2024/25"
          ],
          [
           "True",
           "1967/68",
           "2024/25"
          ],
          [
           "True",
           "1925/26",
           "2024/25"
          ],
          [
           "True",
           "1963/64",
           "2024/25"
          ],
          [
           "True",
           "1944/45",
           "2024/25"
          ],
          [
           "True",
           "1945/46",
           "2024/25"
          ],
          [
           "True",
           "1946/47",
           "2024/25"
          ],
          [
           "True",
           "1976/77",
           "2024/25"
          ],
          [
           "True",
           "1976/77",
           "2024/25"
          ],
          [
           "True",
           "1999/00",
           "2024/25"
          ],
          [
           "True",
           "2022/23",
           "2024/25"
          ]
         ],
         "hovertemplate": "<b>%{hovertext}</b><br><br>Team-ID=%{y}<br>First season=%{customdata[1]}<br>Last season=%{customdata[2]}<extra></extra>",
         "hovertext": [
          "Arizona Cardinals",
          "Atlanta Falcons",
          "Baltimore Ravens",
          "Buffalo Bills",
          "Carolina Panthers",
          "Chicago Bears",
          "Cincinnati Bengals",
          "Cleveland Browns",
          "Dallas Cowboys",
          "Denver Broncos",
          "Detroit Lions",
          "Green Bay Packers",
          "Houston Texans",
          "Indianapolis Colts",
          "Jacksonville Jaguars",
          "Kansas City Chiefs",
          "Las Vegas Raiders",
          "Los Angeles Chargers",
          "Los Angeles Rams",
          "Miami Dolphins",
          "Minnesota Vikings",
          "New England Patriots",
          "New Orleans Saints",
          "New York Giants",
          "New York Jets",
          "Philadelphia Eagles",
          "Pittsburgh Steelers",
          "San Francisco 49ers",
          "Seattle Seahawks",
          "Tampa Bay Buccaneers",
          "Tennessee Titans",
          "Washington Commanders"
         ],
         "legendgroup": "True",
         "marker": {
          "color": "#013369",
          "pattern": {
           "shape": ""
          }
         },
         "name": "True",
         "offsetgroup": "True",
         "orientation": "h",
         "showlegend": true,
         "textposition": "auto",
         "type": "bar",
         "x": [
          978220800000,
          1861833600000,
          915062400000,
          2051136000000,
          946684800000,
          3250368000000,
          1798675200000,
          2492985600000,
          2051136000000,
          2051136000000,
          2871676800000,
          3281904000000,
          725760000000,
          1293753600000,
          946684800000,
          1956528000000,
          157680000000,
          252374400000,
          283910400000,
          1861833600000,
          2019600000000,
          1704067200000,
          1830297600000,
          3155673600000,
          1956528000000,
          2556057600000,
          2524521600000,
          2492985600000,
          1546214400000,
          1546214400000,
          820454400000,
          94608000000
         ],
         "xaxis": "x",
         "y": [
          1,
          2,
          3,
          4,
          5,
          6,
          7,
          8,
          9,
          10,
          11,
          12,
          13,
          14,
          15,
          16,
          17,
          18,
          19,
          20,
          21,
          22,
          23,
          24,
          25,
          26,
          27,
          28,
          29,
          30,
          31,
          32
         ],
         "yaxis": "y"
        }
       ],
       "layout": {
        "barmode": "overlay",
        "height": 900,
        "legend": {
         "title": {
          "text": "Still active?"
         },
         "tracegroupgap": 0
        },
        "template": {
         "data": {
          "bar": [
           {
            "error_x": {
             "color": "#2a3f5f"
            },
            "error_y": {
             "color": "#2a3f5f"
            },
            "marker": {
             "line": {
              "color": "#E5ECF6",
              "width": 0.5
             },
             "pattern": {
              "fillmode": "overlay",
              "size": 10,
              "solidity": 0.2
             }
            },
            "type": "bar"
           }
          ],
          "barpolar": [
           {
            "marker": {
             "line": {
              "color": "#E5ECF6",
              "width": 0.5
             },
             "pattern": {
              "fillmode": "overlay",
              "size": 10,
              "solidity": 0.2
             }
            },
            "type": "barpolar"
           }
          ],
          "carpet": [
           {
            "aaxis": {
             "endlinecolor": "#2a3f5f",
             "gridcolor": "white",
             "linecolor": "white",
             "minorgridcolor": "white",
             "startlinecolor": "#2a3f5f"
            },
            "baxis": {
             "endlinecolor": "#2a3f5f",
             "gridcolor": "white",
             "linecolor": "white",
             "minorgridcolor": "white",
             "startlinecolor": "#2a3f5f"
            },
            "type": "carpet"
           }
          ],
          "choropleth": [
           {
            "colorbar": {
             "outlinewidth": 0,
             "ticks": ""
            },
            "type": "choropleth"
           }
          ],
          "contour": [
           {
            "colorbar": {
             "outlinewidth": 0,
             "ticks": ""
            },
            "colorscale": [
             [
              0,
              "#0d0887"
             ],
             [
              0.1111111111111111,
              "#46039f"
             ],
             [
              0.2222222222222222,
              "#7201a8"
             ],
             [
              0.3333333333333333,
              "#9c179e"
             ],
             [
              0.4444444444444444,
              "#bd3786"
             ],
             [
              0.5555555555555556,
              "#d8576b"
             ],
             [
              0.6666666666666666,
              "#ed7953"
             ],
             [
              0.7777777777777778,
              "#fb9f3a"
             ],
             [
              0.8888888888888888,
              "#fdca26"
             ],
             [
              1,
              "#f0f921"
             ]
            ],
            "type": "contour"
           }
          ],
          "contourcarpet": [
           {
            "colorbar": {
             "outlinewidth": 0,
             "ticks": ""
            },
            "type": "contourcarpet"
           }
          ],
          "heatmap": [
           {
            "colorbar": {
             "outlinewidth": 0,
             "ticks": ""
            },
            "colorscale": [
             [
              0,
              "#0d0887"
             ],
             [
              0.1111111111111111,
              "#46039f"
             ],
             [
              0.2222222222222222,
              "#7201a8"
             ],
             [
              0.3333333333333333,
              "#9c179e"
             ],
             [
              0.4444444444444444,
              "#bd3786"
             ],
             [
              0.5555555555555556,
              "#d8576b"
             ],
             [
              0.6666666666666666,
              "#ed7953"
             ],
             [
              0.7777777777777778,
              "#fb9f3a"
             ],
             [
              0.8888888888888888,
              "#fdca26"
             ],
             [
              1,
              "#f0f921"
             ]
            ],
            "type": "heatmap"
           }
          ],
          "heatmapgl": [
           {
            "colorbar": {
             "outlinewidth": 0,
             "ticks": ""
            },
            "colorscale": [
             [
              0,
              "#0d0887"
             ],
             [
              0.1111111111111111,
              "#46039f"
             ],
             [
              0.2222222222222222,
              "#7201a8"
             ],
             [
              0.3333333333333333,
              "#9c179e"
             ],
             [
              0.4444444444444444,
              "#bd3786"
             ],
             [
              0.5555555555555556,
              "#d8576b"
             ],
             [
              0.6666666666666666,
              "#ed7953"
             ],
             [
              0.7777777777777778,
              "#fb9f3a"
             ],
             [
              0.8888888888888888,
              "#fdca26"
             ],
             [
              1,
              "#f0f921"
             ]
            ],
            "type": "heatmapgl"
           }
          ],
          "histogram": [
           {
            "marker": {
             "pattern": {
              "fillmode": "overlay",
              "size": 10,
              "solidity": 0.2
             }
            },
            "type": "histogram"
           }
          ],
          "histogram2d": [
           {
            "colorbar": {
             "outlinewidth": 0,
             "ticks": ""
            },
            "colorscale": [
             [
              0,
              "#0d0887"
             ],
             [
              0.1111111111111111,
              "#46039f"
             ],
             [
              0.2222222222222222,
              "#7201a8"
             ],
             [
              0.3333333333333333,
              "#9c179e"
             ],
             [
              0.4444444444444444,
              "#bd3786"
             ],
             [
              0.5555555555555556,
              "#d8576b"
             ],
             [
              0.6666666666666666,
              "#ed7953"
             ],
             [
              0.7777777777777778,
              "#fb9f3a"
             ],
             [
              0.8888888888888888,
              "#fdca26"
             ],
             [
              1,
              "#f0f921"
             ]
            ],
            "type": "histogram2d"
           }
          ],
          "histogram2dcontour": [
           {
            "colorbar": {
             "outlinewidth": 0,
             "ticks": ""
            },
            "colorscale": [
             [
              0,
              "#0d0887"
             ],
             [
              0.1111111111111111,
              "#46039f"
             ],
             [
              0.2222222222222222,
              "#7201a8"
             ],
             [
              0.3333333333333333,
              "#9c179e"
             ],
             [
              0.4444444444444444,
              "#bd3786"
             ],
             [
              0.5555555555555556,
              "#d8576b"
             ],
             [
              0.6666666666666666,
              "#ed7953"
             ],
             [
              0.7777777777777778,
              "#fb9f3a"
             ],
             [
              0.8888888888888888,
              "#fdca26"
             ],
             [
              1,
              "#f0f921"
             ]
            ],
            "type": "histogram2dcontour"
           }
          ],
          "mesh3d": [
           {
            "colorbar": {
             "outlinewidth": 0,
             "ticks": ""
            },
            "type": "mesh3d"
           }
          ],
          "parcoords": [
           {
            "line": {
             "colorbar": {
              "outlinewidth": 0,
              "ticks": ""
             }
            },
            "type": "parcoords"
           }
          ],
          "pie": [
           {
            "automargin": true,
            "type": "pie"
           }
          ],
          "scatter": [
           {
            "fillpattern": {
             "fillmode": "overlay",
             "size": 10,
             "solidity": 0.2
            },
            "type": "scatter"
           }
          ],
          "scatter3d": [
           {
            "line": {
             "colorbar": {
              "outlinewidth": 0,
              "ticks": ""
             }
            },
            "marker": {
             "colorbar": {
              "outlinewidth": 0,
              "ticks": ""
             }
            },
            "type": "scatter3d"
           }
          ],
          "scattercarpet": [
           {
            "marker": {
             "colorbar": {
              "outlinewidth": 0,
              "ticks": ""
             }
            },
            "type": "scattercarpet"
           }
          ],
          "scattergeo": [
           {
            "marker": {
             "colorbar": {
              "outlinewidth": 0,
              "ticks": ""
             }
            },
            "type": "scattergeo"
           }
          ],
          "scattergl": [
           {
            "marker": {
             "colorbar": {
              "outlinewidth": 0,
              "ticks": ""
             }
            },
            "type": "scattergl"
           }
          ],
          "scattermapbox": [
           {
            "marker": {
             "colorbar": {
              "outlinewidth": 0,
              "ticks": ""
             }
            },
            "type": "scattermapbox"
           }
          ],
          "scatterpolar": [
           {
            "marker": {
             "colorbar": {
              "outlinewidth": 0,
              "ticks": ""
             }
            },
            "type": "scatterpolar"
           }
          ],
          "scatterpolargl": [
           {
            "marker": {
             "colorbar": {
              "outlinewidth": 0,
              "ticks": ""
             }
            },
            "type": "scatterpolargl"
           }
          ],
          "scatterternary": [
           {
            "marker": {
             "colorbar": {
              "outlinewidth": 0,
              "ticks": ""
             }
            },
            "type": "scatterternary"
           }
          ],
          "surface": [
           {
            "colorbar": {
             "outlinewidth": 0,
             "ticks": ""
            },
            "colorscale": [
             [
              0,
              "#0d0887"
             ],
             [
              0.1111111111111111,
              "#46039f"
             ],
             [
              0.2222222222222222,
              "#7201a8"
             ],
             [
              0.3333333333333333,
              "#9c179e"
             ],
             [
              0.4444444444444444,
              "#bd3786"
             ],
             [
              0.5555555555555556,
              "#d8576b"
             ],
             [
              0.6666666666666666,
              "#ed7953"
             ],
             [
              0.7777777777777778,
              "#fb9f3a"
             ],
             [
              0.8888888888888888,
              "#fdca26"
             ],
             [
              1,
              "#f0f921"
             ]
            ],
            "type": "surface"
           }
          ],
          "table": [
           {
            "cells": {
             "fill": {
              "color": "#EBF0F8"
             },
             "line": {
              "color": "white"
             }
            },
            "header": {
             "fill": {
              "color": "#C8D4E3"
             },
             "line": {
              "color": "white"
             }
            },
            "type": "table"
           }
          ]
         },
         "layout": {
          "annotationdefaults": {
           "arrowcolor": "#2a3f5f",
           "arrowhead": 0,
           "arrowwidth": 1
          },
          "autotypenumbers": "strict",
          "coloraxis": {
           "colorbar": {
            "outlinewidth": 0,
            "ticks": ""
           }
          },
          "colorscale": {
           "diverging": [
            [
             0,
             "#8e0152"
            ],
            [
             0.1,
             "#c51b7d"
            ],
            [
             0.2,
             "#de77ae"
            ],
            [
             0.3,
             "#f1b6da"
            ],
            [
             0.4,
             "#fde0ef"
            ],
            [
             0.5,
             "#f7f7f7"
            ],
            [
             0.6,
             "#e6f5d0"
            ],
            [
             0.7,
             "#b8e186"
            ],
            [
             0.8,
             "#7fbc41"
            ],
            [
             0.9,
             "#4d9221"
            ],
            [
             1,
             "#276419"
            ]
           ],
           "sequential": [
            [
             0,
             "#0d0887"
            ],
            [
             0.1111111111111111,
             "#46039f"
            ],
            [
             0.2222222222222222,
             "#7201a8"
            ],
            [
             0.3333333333333333,
             "#9c179e"
            ],
            [
             0.4444444444444444,
             "#bd3786"
            ],
            [
             0.5555555555555556,
             "#d8576b"
            ],
            [
             0.6666666666666666,
             "#ed7953"
            ],
            [
             0.7777777777777778,
             "#fb9f3a"
            ],
            [
             0.8888888888888888,
             "#fdca26"
            ],
            [
             1,
             "#f0f921"
            ]
           ],
           "sequentialminus": [
            [
             0,
             "#0d0887"
            ],
            [
             0.1111111111111111,
             "#46039f"
            ],
            [
             0.2222222222222222,
             "#7201a8"
            ],
            [
             0.3333333333333333,
             "#9c179e"
            ],
            [
             0.4444444444444444,
             "#bd3786"
            ],
            [
             0.5555555555555556,
             "#d8576b"
            ],
            [
             0.6666666666666666,
             "#ed7953"
            ],
            [
             0.7777777777777778,
             "#fb9f3a"
            ],
            [
             0.8888888888888888,
             "#fdca26"
            ],
            [
             1,
             "#f0f921"
            ]
           ]
          },
          "colorway": [
           "#636efa",
           "#EF553B",
           "#00cc96",
           "#ab63fa",
           "#FFA15A",
           "#19d3f3",
           "#FF6692",
           "#B6E880",
           "#FF97FF",
           "#FECB52"
          ],
          "font": {
           "color": "#2a3f5f"
          },
          "geo": {
           "bgcolor": "white",
           "lakecolor": "white",
           "landcolor": "#E5ECF6",
           "showlakes": true,
           "showland": true,
           "subunitcolor": "white"
          },
          "hoverlabel": {
           "align": "left"
          },
          "hovermode": "closest",
          "mapbox": {
           "style": "light"
          },
          "paper_bgcolor": "white",
          "plot_bgcolor": "#E5ECF6",
          "polar": {
           "angularaxis": {
            "gridcolor": "white",
            "linecolor": "white",
            "ticks": ""
           },
           "bgcolor": "#E5ECF6",
           "radialaxis": {
            "gridcolor": "white",
            "linecolor": "white",
            "ticks": ""
           }
          },
          "scene": {
           "xaxis": {
            "backgroundcolor": "#E5ECF6",
            "gridcolor": "white",
            "gridwidth": 2,
            "linecolor": "white",
            "showbackground": true,
            "ticks": "",
            "zerolinecolor": "white"
           },
           "yaxis": {
            "backgroundcolor": "#E5ECF6",
            "gridcolor": "white",
            "gridwidth": 2,
            "linecolor": "white",
            "showbackground": true,
            "ticks": "",
            "zerolinecolor": "white"
           },
           "zaxis": {
            "backgroundcolor": "#E5ECF6",
            "gridcolor": "white",
            "gridwidth": 2,
            "linecolor": "white",
            "showbackground": true,
            "ticks": "",
            "zerolinecolor": "white"
           }
          },
          "shapedefaults": {
           "line": {
            "color": "#2a3f5f"
           }
          },
          "ternary": {
           "aaxis": {
            "gridcolor": "white",
            "linecolor": "white",
            "ticks": ""
           },
           "baxis": {
            "gridcolor": "white",
            "linecolor": "white",
            "ticks": ""
           },
           "bgcolor": "#E5ECF6",
           "caxis": {
            "gridcolor": "white",
            "linecolor": "white",
            "ticks": ""
           }
          },
          "title": {
           "x": 0.05
          },
          "xaxis": {
           "automargin": true,
           "gridcolor": "white",
           "linecolor": "white",
           "ticks": "",
           "title": {
            "standoff": 15
           },
           "zerolinecolor": "white",
           "zerolinewidth": 2
          },
          "yaxis": {
           "automargin": true,
           "gridcolor": "white",
           "linecolor": "white",
           "ticks": "",
           "title": {
            "standoff": 15
           },
           "zerolinecolor": "white",
           "zerolinewidth": 2
          }
         }
        },
        "title": {
         "text": "History of Teams in the NFL"
        },
        "width": 1500,
        "xaxis": {
         "anchor": "y",
         "domain": [
          0,
          1
         ],
         "range": [
          "1920-01-01",
          "2032-12-31"
         ],
         "type": "date"
        },
        "yaxis": {
         "anchor": "x",
         "domain": [
          0,
          1
         ],
         "range": [
          0,
          87
         ],
         "title": {
          "text": "Team-ID"
         }
        }
       }
      }
     },
     "metadata": {},
     "output_type": "display_data"
    }
   ],
   "source": [
    "teams_df = pd.read_csv(\"data/teams.csv\")\n",
    "\n",
    "teams_df[\"is_active\"] = [year == 2024 for year in teams_df[\"last_year\"]]\n",
    "teams_df[\"is_active\"] = teams_df[\"is_active\"].astype(str)\n",
    "teams_df[\"first_season\"] = [f\"{year}/{str(year + 1)[2:]}\" for year in teams_df[\"first_year\"]]\n",
    "teams_df[\"last_season\"] = [f\"{year}/{str(year + 1)[2:]}\" for year in teams_df[\"last_year\"]]\n",
    "teams_df[\"id_count\"] = [sum(j == i for j in teams_df[\"team_id\"]) for i in teams_df[\"team_id\"]]\n",
    "teams_df[\"first_year\"] = [f\"{year}-07-01\" for year in teams_df[\"first_year\"]]\n",
    "teams_df[\"last_year\"] = [f\"{year + 1}-06-30\" for year in teams_df[\"last_year\"]]\n",
    "\n",
    "teams_df = teams_df[(teams_df[\"is_latest_name\"] == 0) | (teams_df[\"id_count\"] == 1)]\n",
    "\n",
    "fig = px.timeline(teams_df,\n",
    "                  x_start=\"first_year\",\n",
    "                  x_end=\"last_year\",\n",
    "                  y=\"team_id\",\n",
    "                  color=\"is_active\",\n",
    "                  color_discrete_sequence=[\"#d50a0a\",\"#013369\"],\n",
    "                  range_x=[\"1920-01-01\",\"2032-12-31\"],\n",
    "                  range_y=[0,87],\n",
    "                  hover_name=\"team_name\",\n",
    "                  hover_data={\"is_active\": False,\n",
    "                              \"first_year\": False,\n",
    "                              \"last_year\": False,\n",
    "                              \"first_season\": True,\n",
    "                              \"last_season\": True,\n",
    "                              \"team_id\": True},\n",
    "                  labels={\"first_season\": \"First season\",\n",
    "                          \"last_season\": \"Last season\",\n",
    "                          \"team_id\": \"Team-ID\",\n",
    "                          \"is_active\": \"Still active?\"},\n",
    "                  width=1500,\n",
    "                  height=900,\n",
    "                  title=\"History of Teams in the NFL\")\n",
    "\n",
    "fig.show()"
   ]
  },
  {
   "cell_type": "markdown",
   "metadata": {},
   "source": [
    "### SCORIGAMI"
   ]
  },
  {
   "cell_type": "code",
   "execution_count": 267,
   "metadata": {},
   "outputs": [
    {
     "data": {
      "application/vnd.plotly.v1+json": {
       "config": {
        "plotlyServerURL": "https://plot.ly"
       },
       "data": [
        {
         "coloraxis": "coloraxis",
         "hovertemplate": "Winner-Points: %{x}<br>Loser-Points: %{y}<br># of games: %{z}<extra></extra>",
         "name": "0",
         "type": "heatmap",
         "x": [
          [
           "count",
           0
          ],
          [
           "count",
           2
          ],
          [
           "count",
           3
          ],
          [
           "count",
           5
          ],
          [
           "count",
           6
          ],
          [
           "count",
           7
          ],
          [
           "count",
           8
          ],
          [
           "count",
           9
          ],
          [
           "count",
           10
          ],
          [
           "count",
           11
          ],
          [
           "count",
           12
          ],
          [
           "count",
           13
          ],
          [
           "count",
           14
          ],
          [
           "count",
           15
          ],
          [
           "count",
           16
          ],
          [
           "count",
           17
          ],
          [
           "count",
           18
          ],
          [
           "count",
           19
          ],
          [
           "count",
           20
          ],
          [
           "count",
           21
          ],
          [
           "count",
           22
          ],
          [
           "count",
           23
          ],
          [
           "count",
           24
          ],
          [
           "count",
           25
          ],
          [
           "count",
           26
          ],
          [
           "count",
           27
          ],
          [
           "count",
           28
          ],
          [
           "count",
           29
          ],
          [
           "count",
           30
          ],
          [
           "count",
           31
          ],
          [
           "count",
           32
          ],
          [
           "count",
           33
          ],
          [
           "count",
           34
          ],
          [
           "count",
           35
          ],
          [
           "count",
           36
          ],
          [
           "count",
           37
          ],
          [
           "count",
           38
          ],
          [
           "count",
           39
          ],
          [
           "count",
           40
          ],
          [
           "count",
           41
          ],
          [
           "count",
           42
          ],
          [
           "count",
           43
          ],
          [
           "count",
           44
          ],
          [
           "count",
           45
          ],
          [
           "count",
           46
          ],
          [
           "count",
           47
          ],
          [
           "count",
           48
          ],
          [
           "count",
           49
          ],
          [
           "count",
           50
          ],
          [
           "count",
           51
          ],
          [
           "count",
           52
          ],
          [
           "count",
           53
          ],
          [
           "count",
           54
          ],
          [
           "count",
           55
          ],
          [
           "count",
           56
          ],
          [
           "count",
           57
          ],
          [
           "count",
           58
          ],
          [
           "count",
           59
          ],
          [
           "count",
           60
          ],
          [
           "count",
           61
          ],
          [
           "count",
           62
          ],
          [
           "count",
           63
          ],
          [
           "count",
           64
          ],
          [
           "count",
           65
          ],
          [
           "count",
           66
          ],
          [
           "count",
           70
          ],
          [
           "count",
           72
          ],
          [
           "count",
           73
          ]
         ],
         "xaxis": "x",
         "y": [
          0,
          2,
          3,
          4,
          5,
          6,
          7,
          8,
          9,
          10,
          11,
          12,
          13,
          14,
          15,
          16,
          17,
          18,
          19,
          20,
          21,
          22,
          23,
          24,
          25,
          26,
          27,
          28,
          29,
          30,
          31,
          32,
          33,
          34,
          35,
          36,
          37,
          38,
          39,
          40,
          41,
          42,
          43,
          44,
          45,
          46,
          47,
          48,
          49,
          51
         ],
         "yaxis": "y",
         "z": [
          [
           73,
           5,
           60,
           3,
           80,
           93,
           5,
           32,
           61,
           1,
           22,
           65,
           77,
           15,
           48,
           58,
           3,
           35,
           71,
           68,
           14,
           43,
           63,
           11,
           30,
           66,
           42,
           5,
           21,
           46,
           10,
           9,
           47,
           24,
           7,
           17,
           23,
           5,
           5,
           20,
           16,
           6,
           8,
           11,
           null,
           4,
           7,
           6,
           null,
           3,
           3,
           2,
           1,
           2,
           4,
           3,
           1,
           4,
           2,
           null,
           1,
           null,
           1,
           null,
           1,
           null,
           null,
           1
          ],
          [
           null,
           null,
           2,
           null,
           2,
           3,
           null,
           1,
           1,
           null,
           null,
           3,
           5,
           null,
           null,
           null,
           null,
           null,
           1,
           1,
           null,
           2,
           3,
           null,
           null,
           1,
           1,
           null,
           null,
           3,
           null,
           null,
           1,
           1,
           null,
           1,
           null,
           null,
           null,
           null,
           null,
           null,
           null,
           1,
           null,
           null,
           null,
           null,
           null,
           null,
           null,
           null,
           null,
           null,
           null,
           null,
           null,
           null,
           null,
           null,
           null,
           null,
           null,
           null,
           null,
           null,
           null,
           null
          ],
          [
           null,
           null,
           13,
           1,
           35,
           30,
           1,
           17,
           46,
           2,
           5,
           50,
           40,
           4,
           27,
           64,
           2,
           19,
           65,
           23,
           8,
           37,
           64,
           4,
           21,
           47,
           27,
           7,
           21,
           41,
           4,
           11,
           32,
           19,
           1,
           13,
           21,
           2,
           5,
           11,
           6,
           2,
           1,
           12,
           1,
           2,
           5,
           2,
           null,
           2,
           1,
           null,
           null,
           null,
           2,
           null,
           null,
           null,
           null,
           null,
           1,
           null,
           null,
           null,
           null,
           null,
           null,
           null
          ],
          [
           null,
           null,
           null,
           null,
           null,
           null,
           null,
           null,
           1,
           null,
           null,
           null,
           null,
           null,
           null,
           null,
           null,
           null,
           null,
           null,
           null,
           null,
           null,
           null,
           null,
           null,
           null,
           null,
           null,
           null,
           null,
           null,
           null,
           null,
           null,
           null,
           null,
           null,
           null,
           null,
           null,
           null,
           null,
           null,
           null,
           null,
           null,
           null,
           null,
           null,
           null,
           null,
           null,
           null,
           null,
           null,
           null,
           null,
           null,
           null,
           null,
           null,
           null,
           null,
           null,
           null,
           null,
           null
          ],
          [
           null,
           null,
           null,
           null,
           null,
           1,
           1,
           2,
           1,
           null,
           null,
           null,
           2,
           null,
           null,
           2,
           null,
           1,
           null,
           null,
           2,
           null,
           1,
           null,
           null,
           null,
           null,
           null,
           null,
           1,
           null,
           null,
           1,
           null,
           null,
           1,
           1,
           null,
           null,
           null,
           null,
           null,
           null,
           null,
           null,
           null,
           null,
           null,
           null,
           null,
           null,
           null,
           null,
           null,
           null,
           null,
           null,
           null,
           null,
           null,
           null,
           null,
           null,
           null,
           null,
           null,
           null,
           null
          ],
          [
           null,
           null,
           null,
           null,
           16,
           56,
           1,
           31,
           61,
           2,
           16,
           55,
           49,
           4,
           34,
           64,
           4,
           13,
           56,
           20,
           6,
           21,
           39,
           5,
           16,
           36,
           20,
           5,
           15,
           25,
           7,
           12,
           10,
           7,
           4,
           10,
           12,
           null,
           3,
           6,
           6,
           2,
           8,
           5,
           1,
           1,
           1,
           2,
           null,
           null,
           1,
           null,
           null,
           null,
           null,
           null,
           null,
           null,
           null,
           null,
           null,
           null,
           null,
           null,
           null,
           null,
           null,
           null
          ],
          [
           null,
           null,
           null,
           null,
           null,
           31,
           null,
           40,
           86,
           3,
           24,
           78,
           90,
           10,
           42,
           109,
           8,
           39,
           92,
           85,
           13,
           72,
           83,
           8,
           36,
           95,
           82,
           19,
           48,
           82,
           5,
           22,
           66,
           49,
           9,
           31,
           46,
           3,
           21,
           25,
           29,
           4,
           20,
           25,
           null,
           6,
           10,
           6,
           1,
           5,
           2,
           2,
           1,
           3,
           4,
           null,
           null,
           1,
           null,
           2,
           3,
           1,
           null,
           null,
           null,
           null,
           null,
           null
          ],
          [
           null,
           null,
           null,
           null,
           null,
           null,
           null,
           null,
           1,
           1,
           2,
           2,
           null,
           null,
           2,
           1,
           null,
           2,
           3,
           1,
           1,
           3,
           2,
           null,
           3,
           null,
           2,
           null,
           2,
           2,
           null,
           1,
           1,
           3,
           null,
           3,
           2,
           null,
           1,
           null,
           null,
           1,
           null,
           null,
           null,
           null,
           null,
           null,
           null,
           null,
           null,
           null,
           null,
           null,
           null,
           null,
           null,
           null,
           null,
           null,
           null,
           null,
           null,
           null,
           null,
           null,
           null,
           null
          ],
          [
           null,
           null,
           null,
           null,
           null,
           null,
           null,
           null,
           37,
           null,
           19,
           35,
           27,
           5,
           14,
           38,
           null,
           16,
           22,
           16,
           6,
           11,
           25,
           1,
           11,
           16,
           6,
           3,
           10,
           13,
           2,
           1,
           7,
           10,
           1,
           3,
           9,
           null,
           2,
           7,
           null,
           null,
           2,
           null,
           1,
           1,
           1,
           1,
           null,
           null,
           2,
           null,
           null,
           null,
           null,
           null,
           null,
           null,
           null,
           null,
           null,
           null,
           null,
           null,
           null,
           null,
           null,
           null
          ],
          [
           null,
           null,
           null,
           null,
           null,
           null,
           null,
           null,
           24,
           2,
           21,
           169,
           88,
           25,
           85,
           149,
           7,
           27,
           124,
           64,
           21,
           66,
           137,
           11,
           44,
           104,
           54,
           19,
           60,
           76,
           6,
           15,
           45,
           23,
           10,
           25,
           54,
           5,
           7,
           37,
           19,
           1,
           9,
           20,
           2,
           6,
           8,
           1,
           2,
           3,
           3,
           1,
           null,
           1,
           4,
           null,
           null,
           1,
           null,
           null,
           1,
           null,
           null,
           null,
           null,
           null,
           null,
           null
          ],
          [
           null,
           null,
           null,
           null,
           null,
           null,
           null,
           null,
           null,
           null,
           null,
           2,
           4,
           null,
           2,
           2,
           null,
           5,
           null,
           4,
           null,
           1,
           1,
           1,
           4,
           7,
           3,
           null,
           1,
           null,
           null,
           null,
           4,
           2,
           null,
           null,
           1,
           null,
           1,
           null,
           null,
           1,
           1,
           null,
           null,
           null,
           null,
           1,
           null,
           null,
           null,
           null,
           1,
           null,
           null,
           null,
           null,
           null,
           null,
           null,
           null,
           null,
           null,
           null,
           null,
           null,
           null,
           null
          ],
          [
           null,
           null,
           null,
           null,
           null,
           null,
           null,
           null,
           null,
           null,
           2,
           22,
           19,
           9,
           14,
           26,
           5,
           10,
           29,
           8,
           2,
           9,
           13,
           3,
           1,
           8,
           8,
           1,
           12,
           6,
           1,
           4,
           6,
           4,
           null,
           2,
           1,
           null,
           null,
           null,
           null,
           1,
           null,
           2,
           null,
           null,
           null,
           null,
           null,
           null,
           null,
           null,
           null,
           null,
           null,
           null,
           null,
           null,
           null,
           null,
           null,
           null,
           null,
           null,
           null,
           null,
           null,
           null
          ],
          [
           null,
           null,
           null,
           null,
           null,
           null,
           null,
           null,
           null,
           null,
           null,
           18,
           58,
           18,
           145,
           109,
           5,
           51,
           118,
           52,
           16,
           52,
           70,
           6,
           22,
           76,
           40,
           11,
           45,
           64,
           7,
           17,
           45,
           22,
           4,
           22,
           21,
           1,
           5,
           14,
           7,
           4,
           6,
           5,
           1,
           3,
           3,
           4,
           null,
           1,
           1,
           null,
           2,
           1,
           null,
           null,
           null,
           1,
           null,
           null,
           null,
           null,
           null,
           null,
           null,
           null,
           null,
           null
          ],
          [
           null,
           null,
           null,
           null,
           null,
           null,
           null,
           null,
           null,
           null,
           null,
           null,
           15,
           9,
           65,
           200,
           5,
           48,
           98,
           100,
           17,
           52,
           140,
           5,
           41,
           86,
           70,
           18,
           53,
           92,
           9,
           32,
           61,
           55,
           12,
           35,
           57,
           3,
           18,
           35,
           29,
           8,
           8,
           21,
           1,
           4,
           8,
           8,
           2,
           6,
           7,
           1,
           1,
           6,
           4,
           1,
           1,
           3,
           null,
           1,
           2,
           null,
           null,
           null,
           1,
           null,
           null,
           null
          ],
          [
           null,
           null,
           null,
           null,
           null,
           null,
           null,
           null,
           null,
           null,
           null,
           null,
           null,
           null,
           14,
           15,
           9,
           4,
           17,
           4,
           1,
           11,
           9,
           4,
           8,
           6,
           4,
           4,
           7,
           11,
           null,
           1,
           6,
           5,
           1,
           4,
           6,
           null,
           1,
           1,
           1,
           null,
           1,
           1,
           null,
           null,
           null,
           1,
           null,
           null,
           null,
           null,
           null,
           null,
           null,
           null,
           null,
           null,
           null,
           null,
           null,
           null,
           null,
           null,
           null,
           null,
           null,
           null
          ],
          [
           null,
           null,
           null,
           null,
           null,
           null,
           null,
           null,
           null,
           null,
           null,
           null,
           null,
           null,
           4,
           84,
           9,
           55,
           67,
           49,
           21,
           52,
           54,
           6,
           25,
           34,
           24,
           4,
           20,
           23,
           4,
           9,
           19,
           12,
           1,
           11,
           7,
           null,
           4,
           9,
           1,
           2,
           2,
           3,
           1,
           2,
           3,
           1,
           null,
           1,
           null,
           null,
           null,
           null,
           null,
           null,
           null,
           1,
           null,
           null,
           null,
           null,
           null,
           null,
           null,
           null,
           null,
           null
          ],
          [
           null,
           null,
           null,
           null,
           null,
           null,
           null,
           null,
           null,
           null,
           null,
           null,
           null,
           null,
           null,
           21,
           15,
           60,
           297,
           106,
           26,
           128,
           179,
           14,
           34,
           124,
           65,
           13,
           54,
           104,
           5,
           28,
           67,
           46,
           5,
           15,
           45,
           4,
           10,
           23,
           23,
           5,
           9,
           25,
           null,
           7,
           12,
           8,
           3,
           3,
           3,
           null,
           null,
           1,
           5,
           null,
           null,
           null,
           null,
           1,
           null,
           null,
           null,
           null,
           null,
           null,
           null,
           null
          ],
          [
           null,
           null,
           null,
           null,
           null,
           null,
           null,
           null,
           null,
           null,
           null,
           null,
           null,
           null,
           null,
           null,
           null,
           2,
           8,
           17,
           1,
           6,
           8,
           null,
           11,
           1,
           8,
           2,
           4,
           5,
           3,
           7,
           4,
           2,
           1,
           2,
           null,
           null,
           1,
           null,
           1,
           1,
           null,
           null,
           1,
           null,
           null,
           null,
           null,
           null,
           null,
           null,
           null,
           null,
           null,
           null,
           null,
           null,
           null,
           null,
           null,
           null,
           null,
           null,
           null,
           null,
           null,
           null
          ],
          [
           null,
           null,
           null,
           null,
           null,
           null,
           null,
           null,
           null,
           null,
           null,
           null,
           null,
           null,
           null,
           null,
           null,
           1,
           47,
           29,
           19,
           20,
           35,
           7,
           5,
           23,
           12,
           6,
           9,
           16,
           1,
           9,
           9,
           5,
           2,
           4,
           5,
           null,
           null,
           4,
           5,
           1,
           1,
           2,
           null,
           null,
           3,
           1,
           1,
           null,
           1,
           null,
           1,
           null,
           1,
           null,
           null,
           null,
           null,
           null,
           null,
           null,
           null,
           null,
           null,
           null,
           null,
           null
          ],
          [
           null,
           null,
           null,
           null,
           null,
           null,
           null,
           null,
           null,
           null,
           null,
           null,
           null,
           null,
           null,
           null,
           null,
           null,
           22,
           73,
           18,
           210,
           119,
           20,
           58,
           131,
           44,
           12,
           52,
           46,
           5,
           11,
           53,
           20,
           11,
           26,
           34,
           1,
           5,
           14,
           18,
           1,
           5,
           4,
           null,
           null,
           6,
           2,
           null,
           1,
           3,
           1,
           null,
           3,
           3,
           null,
           2,
           null,
           null,
           1,
           null,
           null,
           null,
           1,
           null,
           1,
           null,
           null
          ],
          [
           null,
           null,
           null,
           null,
           null,
           null,
           null,
           null,
           null,
           null,
           null,
           null,
           null,
           null,
           null,
           null,
           null,
           null,
           null,
           15,
           22,
           57,
           159,
           8,
           39,
           95,
           76,
           19,
           31,
           82,
           7,
           15,
           43,
           38,
           5,
           29,
           39,
           1,
           9,
           27,
           25,
           3,
           9,
           26,
           2,
           2,
           16,
           12,
           3,
           3,
           9,
           null,
           null,
           3,
           2,
           1,
           null,
           1,
           null,
           null,
           null,
           1,
           null,
           null,
           null,
           null,
           null,
           null
          ],
          [
           null,
           null,
           null,
           null,
           null,
           null,
           null,
           null,
           null,
           null,
           null,
           null,
           null,
           null,
           null,
           null,
           null,
           null,
           null,
           null,
           null,
           16,
           37,
           14,
           7,
           20,
           13,
           8,
           10,
           8,
           null,
           7,
           3,
           4,
           11,
           5,
           3,
           null,
           1,
           3,
           1,
           1,
           1,
           1,
           null,
           null,
           4,
           null,
           null,
           null,
           null,
           null,
           null,
           null,
           null,
           null,
           null,
           null,
           null,
           null,
           null,
           null,
           null,
           null,
           null,
           null,
           null,
           null
          ],
          [
           null,
           null,
           null,
           null,
           null,
           null,
           null,
           null,
           null,
           null,
           null,
           null,
           null,
           null,
           null,
           null,
           null,
           null,
           null,
           null,
           null,
           5,
           77,
           10,
           53,
           52,
           33,
           14,
           41,
           35,
           3,
           3,
           18,
           14,
           null,
           5,
           13,
           1,
           3,
           7,
           5,
           3,
           4,
           1,
           1,
           1,
           4,
           1,
           null,
           3,
           null,
           null,
           null,
           2,
           1,
           null,
           null,
           null,
           null,
           null,
           null,
           null,
           null,
           null,
           null,
           null,
           null,
           null
          ],
          [
           null,
           null,
           null,
           null,
           null,
           null,
           null,
           null,
           null,
           null,
           null,
           null,
           null,
           null,
           null,
           null,
           null,
           null,
           null,
           null,
           null,
           null,
           17,
           18,
           44,
           237,
           77,
           15,
           65,
           91,
           2,
           16,
           63,
           26,
           3,
           16,
           49,
           1,
           7,
           19,
           13,
           7,
           7,
           15,
           null,
           2,
           3,
           3,
           1,
           2,
           2,
           null,
           1,
           3,
           null,
           null,
           1,
           1,
           null,
           null,
           null,
           null,
           null,
           1,
           null,
           null,
           null,
           null
          ],
          [
           null,
           null,
           null,
           null,
           null,
           null,
           null,
           null,
           null,
           null,
           null,
           null,
           null,
           null,
           null,
           null,
           null,
           null,
           null,
           null,
           null,
           null,
           null,
           null,
           3,
           11,
           22,
           4,
           3,
           6,
           4,
           7,
           4,
           3,
           2,
           2,
           3,
           null,
           1,
           3,
           null,
           null,
           null,
           1,
           1,
           2,
           2,
           1,
           null,
           null,
           1,
           null,
           null,
           null,
           null,
           null,
           null,
           null,
           null,
           null,
           null,
           null,
           null,
           null,
           null,
           null,
           null,
           null
          ],
          [
           null,
           null,
           null,
           null,
           null,
           null,
           null,
           null,
           null,
           null,
           null,
           null,
           null,
           null,
           null,
           null,
           null,
           null,
           null,
           null,
           null,
           null,
           null,
           null,
           1,
           22,
           12,
           11,
           11,
           21,
           1,
           4,
           10,
           5,
           2,
           6,
           3,
           3,
           2,
           1,
           1,
           null,
           2,
           2,
           null,
           null,
           2,
           3,
           null,
           1,
           null,
           null,
           null,
           null,
           1,
           null,
           null,
           null,
           null,
           null,
           null,
           null,
           null,
           null,
           null,
           null,
           null,
           null
          ],
          [
           null,
           null,
           null,
           null,
           null,
           null,
           null,
           null,
           null,
           null,
           null,
           null,
           null,
           null,
           null,
           null,
           null,
           null,
           null,
           null,
           null,
           null,
           null,
           null,
           null,
           6,
           43,
           18,
           95,
           55,
           4,
           27,
           53,
           19,
           3,
           15,
           15,
           1,
           1,
           12,
           8,
           1,
           5,
           6,
           1,
           4,
           3,
           3,
           null,
           3,
           1,
           1,
           null,
           1,
           null,
           null,
           1,
           null,
           null,
           null,
           null,
           null,
           null,
           null,
           null,
           1,
           null,
           null
          ],
          [
           null,
           null,
           null,
           null,
           null,
           null,
           null,
           null,
           null,
           null,
           null,
           null,
           null,
           null,
           null,
           null,
           null,
           null,
           null,
           null,
           null,
           null,
           null,
           null,
           null,
           null,
           15,
           14,
           43,
           90,
           7,
           10,
           42,
           23,
           12,
           8,
           33,
           2,
           3,
           13,
           15,
           3,
           3,
           18,
           1,
           1,
           3,
           3,
           1,
           1,
           2,
           null,
           null,
           null,
           1,
           null,
           null,
           1,
           null,
           null,
           1,
           null,
           null,
           null,
           null,
           null,
           null,
           null
          ],
          [
           null,
           null,
           null,
           null,
           null,
           null,
           null,
           null,
           null,
           null,
           null,
           null,
           null,
           null,
           null,
           null,
           null,
           null,
           null,
           null,
           null,
           null,
           null,
           null,
           null,
           null,
           null,
           1,
           7,
           12,
           8,
           2,
           8,
           2,
           null,
           4,
           2,
           1,
           2,
           2,
           2,
           null,
           null,
           3,
           null,
           null,
           1,
           2,
           null,
           2,
           null,
           null,
           null,
           null,
           null,
           null,
           null,
           null,
           null,
           null,
           null,
           null,
           null,
           null,
           null,
           null,
           null,
           null
          ],
          [
           null,
           null,
           null,
           null,
           null,
           null,
           null,
           null,
           null,
           null,
           null,
           null,
           null,
           null,
           null,
           null,
           null,
           null,
           null,
           null,
           null,
           null,
           null,
           null,
           null,
           null,
           null,
           null,
           2,
           24,
           3,
           26,
           12,
           11,
           8,
           8,
           8,
           1,
           1,
           1,
           3,
           null,
           2,
           2,
           null,
           1,
           2,
           null,
           null,
           null,
           null,
           null,
           null,
           null,
           null,
           null,
           null,
           null,
           null,
           null,
           null,
           null,
           null,
           null,
           null,
           null,
           null,
           null
          ],
          [
           null,
           null,
           null,
           null,
           null,
           null,
           null,
           null,
           null,
           null,
           null,
           null,
           null,
           null,
           null,
           null,
           null,
           null,
           null,
           null,
           null,
           null,
           null,
           null,
           null,
           null,
           null,
           null,
           null,
           6,
           9,
           14,
           81,
           21,
           4,
           30,
           38,
           3,
           null,
           12,
           7,
           null,
           2,
           9,
           1,
           1,
           1,
           5,
           null,
           1,
           3,
           null,
           1,
           1,
           1,
           1,
           null,
           null,
           null,
           null,
           null,
           null,
           null,
           null,
           null,
           null,
           null,
           null
          ],
          [
           null,
           null,
           null,
           null,
           null,
           null,
           null,
           null,
           null,
           null,
           null,
           null,
           null,
           null,
           null,
           null,
           null,
           null,
           null,
           null,
           null,
           null,
           null,
           null,
           null,
           null,
           null,
           null,
           null,
           null,
           null,
           2,
           3,
           11,
           1,
           2,
           3,
           4,
           4,
           2,
           2,
           1,
           null,
           1,
           null,
           null,
           2,
           null,
           null,
           null,
           null,
           1,
           null,
           null,
           null,
           null,
           null,
           null,
           null,
           null,
           null,
           null,
           null,
           null,
           null,
           null,
           null,
           null
          ],
          [
           null,
           null,
           null,
           null,
           null,
           null,
           null,
           null,
           null,
           null,
           null,
           null,
           null,
           null,
           null,
           null,
           null,
           null,
           null,
           null,
           null,
           null,
           null,
           null,
           null,
           null,
           null,
           null,
           null,
           null,
           null,
           1,
           14,
           6,
           7,
           4,
           6,
           1,
           4,
           5,
           2,
           null,
           1,
           2,
           null,
           null,
           1,
           1,
           null,
           null,
           1,
           null,
           null,
           null,
           null,
           1,
           null,
           null,
           null,
           null,
           null,
           null,
           null,
           null,
           null,
           null,
           null,
           null
          ],
          [
           null,
           null,
           null,
           null,
           null,
           null,
           null,
           null,
           null,
           null,
           null,
           null,
           null,
           null,
           null,
           null,
           null,
           null,
           null,
           null,
           null,
           null,
           null,
           null,
           null,
           null,
           null,
           null,
           null,
           null,
           null,
           null,
           2,
           10,
           3,
           37,
           11,
           1,
           9,
           6,
           7,
           1,
           4,
           4,
           1,
           2,
           1,
           1,
           2,
           1,
           1,
           null,
           1,
           null,
           null,
           null,
           null,
           null,
           null,
           null,
           null,
           null,
           null,
           null,
           null,
           null,
           null,
           null
          ],
          [
           null,
           null,
           null,
           null,
           null,
           null,
           null,
           null,
           null,
           null,
           null,
           null,
           null,
           null,
           null,
           null,
           null,
           null,
           null,
           null,
           null,
           null,
           null,
           null,
           null,
           null,
           null,
           null,
           null,
           null,
           null,
           null,
           null,
           5,
           5,
           11,
           25,
           3,
           1,
           8,
           5,
           3,
           null,
           8,
           null,
           null,
           1,
           2,
           null,
           1,
           2,
           null,
           null,
           null,
           1,
           null,
           null,
           null,
           null,
           null,
           null,
           1,
           null,
           null,
           null,
           null,
           null,
           null
          ],
          [
           null,
           null,
           null,
           null,
           null,
           null,
           null,
           null,
           null,
           null,
           null,
           null,
           null,
           null,
           null,
           null,
           null,
           null,
           null,
           null,
           null,
           null,
           null,
           null,
           null,
           null,
           null,
           null,
           null,
           null,
           null,
           null,
           null,
           null,
           null,
           3,
           6,
           3,
           null,
           2,
           3,
           null,
           null,
           null,
           1,
           1,
           null,
           null,
           null,
           null,
           null,
           null,
           null,
           null,
           null,
           null,
           null,
           null,
           null,
           null,
           null,
           null,
           null,
           null,
           null,
           null,
           null,
           null
          ],
          [
           null,
           null,
           null,
           null,
           null,
           null,
           null,
           null,
           null,
           null,
           null,
           null,
           null,
           null,
           null,
           null,
           null,
           null,
           null,
           null,
           null,
           null,
           null,
           null,
           null,
           null,
           null,
           null,
           null,
           null,
           null,
           null,
           null,
           null,
           null,
           1,
           3,
           1,
           2,
           3,
           3,
           4,
           1,
           2,
           null,
           null,
           1,
           2,
           null,
           null,
           1,
           null,
           null,
           null,
           null,
           null,
           1,
           null,
           null,
           null,
           null,
           null,
           null,
           null,
           null,
           null,
           null,
           null
          ],
          [
           null,
           null,
           null,
           null,
           null,
           null,
           null,
           null,
           null,
           null,
           null,
           null,
           null,
           null,
           null,
           null,
           null,
           null,
           null,
           null,
           null,
           null,
           null,
           null,
           null,
           null,
           null,
           null,
           null,
           null,
           null,
           null,
           null,
           null,
           null,
           null,
           1,
           4,
           2,
           22,
           2,
           1,
           7,
           5,
           1,
           null,
           null,
           2,
           null,
           1,
           1,
           null,
           null,
           null,
           null,
           null,
           null,
           null,
           null,
           null,
           null,
           null,
           null,
           null,
           null,
           null,
           null,
           null
          ],
          [
           null,
           null,
           null,
           null,
           null,
           null,
           null,
           null,
           null,
           null,
           null,
           null,
           null,
           null,
           null,
           null,
           null,
           null,
           null,
           null,
           null,
           null,
           null,
           null,
           null,
           null,
           null,
           null,
           null,
           null,
           null,
           null,
           null,
           null,
           null,
           null,
           null,
           null,
           2,
           1,
           1,
           1,
           null,
           1,
           null,
           null,
           null,
           1,
           null,
           null,
           null,
           null,
           null,
           null,
           null,
           null,
           null,
           null,
           null,
           null,
           null,
           null,
           null,
           null,
           null,
           null,
           null,
           null
          ],
          [
           null,
           null,
           null,
           null,
           null,
           null,
           null,
           null,
           null,
           null,
           null,
           null,
           null,
           null,
           null,
           null,
           null,
           null,
           null,
           null,
           null,
           null,
           null,
           null,
           null,
           null,
           null,
           null,
           null,
           null,
           null,
           null,
           null,
           null,
           null,
           null,
           null,
           null,
           null,
           null,
           1,
           1,
           1,
           null,
           null,
           null,
           1,
           1,
           null,
           null,
           null,
           null,
           null,
           1,
           null,
           null,
           null,
           null,
           null,
           null,
           null,
           1,
           null,
           null,
           null,
           null,
           null,
           null
          ],
          [
           null,
           null,
           null,
           null,
           null,
           null,
           null,
           null,
           null,
           null,
           null,
           null,
           null,
           null,
           null,
           null,
           null,
           null,
           null,
           null,
           null,
           null,
           null,
           null,
           null,
           null,
           null,
           null,
           null,
           null,
           null,
           null,
           null,
           null,
           null,
           null,
           null,
           null,
           null,
           null,
           2,
           null,
           4,
           3,
           null,
           2,
           2,
           1,
           null,
           null,
           null,
           null,
           null,
           null,
           null,
           null,
           null,
           null,
           null,
           null,
           null,
           null,
           null,
           null,
           null,
           null,
           1,
           null
          ],
          [
           null,
           null,
           null,
           null,
           null,
           null,
           null,
           null,
           null,
           null,
           null,
           null,
           null,
           null,
           null,
           null,
           null,
           null,
           null,
           null,
           null,
           null,
           null,
           null,
           null,
           null,
           null,
           null,
           null,
           null,
           null,
           null,
           null,
           null,
           null,
           null,
           null,
           null,
           null,
           null,
           null,
           null,
           2,
           4,
           null,
           2,
           1,
           null,
           null,
           1,
           null,
           null,
           null,
           null,
           null,
           null,
           null,
           null,
           null,
           null,
           null,
           null,
           null,
           null,
           null,
           null,
           null,
           null
          ],
          [
           null,
           null,
           null,
           null,
           null,
           null,
           null,
           null,
           null,
           null,
           null,
           null,
           null,
           null,
           null,
           null,
           null,
           null,
           null,
           null,
           null,
           null,
           null,
           null,
           null,
           null,
           null,
           null,
           null,
           null,
           null,
           null,
           null,
           null,
           null,
           null,
           null,
           null,
           null,
           null,
           null,
           1,
           null,
           null,
           null,
           null,
           null,
           null,
           1,
           null,
           null,
           null,
           null,
           null,
           null,
           null,
           null,
           null,
           null,
           null,
           null,
           null,
           null,
           null,
           null,
           null,
           null,
           null
          ],
          [
           null,
           null,
           null,
           null,
           null,
           null,
           null,
           null,
           null,
           null,
           null,
           null,
           null,
           null,
           null,
           null,
           null,
           null,
           null,
           null,
           null,
           null,
           null,
           null,
           null,
           null,
           null,
           null,
           null,
           null,
           null,
           null,
           null,
           null,
           null,
           null,
           null,
           null,
           null,
           null,
           null,
           null,
           null,
           1,
           null,
           null,
           null,
           null,
           null,
           null,
           null,
           null,
           1,
           null,
           null,
           null,
           null,
           null,
           null,
           null,
           null,
           null,
           null,
           null,
           null,
           null,
           null,
           null
          ],
          [
           null,
           null,
           null,
           null,
           null,
           null,
           null,
           null,
           null,
           null,
           null,
           null,
           null,
           null,
           null,
           null,
           null,
           null,
           null,
           null,
           null,
           null,
           null,
           null,
           null,
           null,
           null,
           null,
           null,
           null,
           null,
           null,
           null,
           null,
           null,
           null,
           null,
           null,
           null,
           null,
           null,
           null,
           null,
           null,
           1,
           null,
           1,
           null,
           null,
           3,
           null,
           null,
           null,
           null,
           null,
           null,
           null,
           null,
           null,
           null,
           null,
           null,
           null,
           null,
           null,
           null,
           null,
           null
          ],
          [
           null,
           null,
           null,
           null,
           null,
           null,
           null,
           null,
           null,
           null,
           null,
           null,
           null,
           null,
           null,
           null,
           null,
           null,
           null,
           null,
           null,
           null,
           null,
           null,
           null,
           null,
           null,
           null,
           null,
           null,
           null,
           null,
           null,
           null,
           null,
           null,
           null,
           null,
           null,
           null,
           null,
           null,
           null,
           null,
           null,
           null,
           1,
           null,
           null,
           null,
           null,
           null,
           null,
           null,
           null,
           null,
           null,
           null,
           null,
           null,
           null,
           null,
           null,
           null,
           null,
           null,
           null,
           null
          ],
          [
           null,
           null,
           null,
           null,
           null,
           null,
           null,
           null,
           null,
           null,
           null,
           null,
           null,
           null,
           null,
           null,
           null,
           null,
           null,
           null,
           null,
           null,
           null,
           null,
           null,
           null,
           null,
           null,
           null,
           null,
           null,
           null,
           null,
           null,
           null,
           null,
           null,
           null,
           null,
           null,
           null,
           null,
           null,
           null,
           null,
           null,
           1,
           null,
           null,
           null,
           null,
           null,
           null,
           null,
           null,
           null,
           null,
           null,
           null,
           null,
           null,
           null,
           null,
           null,
           null,
           null,
           null,
           null
          ],
          [
           null,
           null,
           null,
           null,
           null,
           null,
           null,
           null,
           null,
           null,
           null,
           null,
           null,
           null,
           null,
           null,
           null,
           null,
           null,
           null,
           null,
           null,
           null,
           null,
           null,
           null,
           null,
           null,
           null,
           null,
           null,
           null,
           null,
           null,
           null,
           null,
           null,
           null,
           null,
           null,
           null,
           null,
           null,
           null,
           null,
           null,
           null,
           null,
           null,
           2,
           null,
           null,
           null,
           null,
           null,
           null,
           1,
           null,
           null,
           null,
           null,
           null,
           null,
           null,
           null,
           null,
           null,
           null
          ],
          [
           null,
           null,
           null,
           null,
           null,
           null,
           null,
           null,
           null,
           null,
           null,
           null,
           null,
           null,
           null,
           null,
           null,
           null,
           null,
           null,
           null,
           null,
           null,
           null,
           null,
           null,
           null,
           null,
           null,
           null,
           null,
           null,
           null,
           null,
           null,
           null,
           null,
           null,
           null,
           null,
           null,
           null,
           null,
           null,
           null,
           null,
           null,
           null,
           null,
           null,
           2,
           null,
           null,
           null,
           null,
           null,
           null,
           null,
           null,
           null,
           null,
           null,
           null,
           null,
           null,
           null,
           null,
           null
          ],
          [
           null,
           null,
           null,
           null,
           null,
           null,
           null,
           null,
           null,
           null,
           null,
           null,
           null,
           null,
           null,
           null,
           null,
           null,
           null,
           null,
           null,
           null,
           null,
           null,
           null,
           null,
           null,
           null,
           null,
           null,
           null,
           null,
           null,
           null,
           null,
           null,
           null,
           null,
           null,
           null,
           null,
           null,
           null,
           null,
           null,
           null,
           null,
           null,
           null,
           null,
           null,
           null,
           1,
           null,
           null,
           null,
           null,
           null,
           null,
           null,
           null,
           null,
           null,
           null,
           null,
           null,
           null,
           null
          ]
         ]
        }
       ],
       "layout": {
        "coloraxis": {
         "colorbar": {
          "title": {
           "text": "# of games"
          }
         },
         "colorscale": [
          [
           0,
           "#0d0887"
          ],
          [
           0.1111111111111111,
           "#46039f"
          ],
          [
           0.2222222222222222,
           "#7201a8"
          ],
          [
           0.3333333333333333,
           "#9c179e"
          ],
          [
           0.4444444444444444,
           "#bd3786"
          ],
          [
           0.5555555555555556,
           "#d8576b"
          ],
          [
           0.6666666666666666,
           "#ed7953"
          ],
          [
           0.7777777777777778,
           "#fb9f3a"
          ],
          [
           0.8888888888888888,
           "#fdca26"
          ],
          [
           1,
           "#f0f921"
          ]
         ]
        },
        "height": 1000,
        "margin": {
         "t": 60
        },
        "template": {
         "data": {
          "bar": [
           {
            "error_x": {
             "color": "#2a3f5f"
            },
            "error_y": {
             "color": "#2a3f5f"
            },
            "marker": {
             "line": {
              "color": "#E5ECF6",
              "width": 0.5
             },
             "pattern": {
              "fillmode": "overlay",
              "size": 10,
              "solidity": 0.2
             }
            },
            "type": "bar"
           }
          ],
          "barpolar": [
           {
            "marker": {
             "line": {
              "color": "#E5ECF6",
              "width": 0.5
             },
             "pattern": {
              "fillmode": "overlay",
              "size": 10,
              "solidity": 0.2
             }
            },
            "type": "barpolar"
           }
          ],
          "carpet": [
           {
            "aaxis": {
             "endlinecolor": "#2a3f5f",
             "gridcolor": "white",
             "linecolor": "white",
             "minorgridcolor": "white",
             "startlinecolor": "#2a3f5f"
            },
            "baxis": {
             "endlinecolor": "#2a3f5f",
             "gridcolor": "white",
             "linecolor": "white",
             "minorgridcolor": "white",
             "startlinecolor": "#2a3f5f"
            },
            "type": "carpet"
           }
          ],
          "choropleth": [
           {
            "colorbar": {
             "outlinewidth": 0,
             "ticks": ""
            },
            "type": "choropleth"
           }
          ],
          "contour": [
           {
            "colorbar": {
             "outlinewidth": 0,
             "ticks": ""
            },
            "colorscale": [
             [
              0,
              "#0d0887"
             ],
             [
              0.1111111111111111,
              "#46039f"
             ],
             [
              0.2222222222222222,
              "#7201a8"
             ],
             [
              0.3333333333333333,
              "#9c179e"
             ],
             [
              0.4444444444444444,
              "#bd3786"
             ],
             [
              0.5555555555555556,
              "#d8576b"
             ],
             [
              0.6666666666666666,
              "#ed7953"
             ],
             [
              0.7777777777777778,
              "#fb9f3a"
             ],
             [
              0.8888888888888888,
              "#fdca26"
             ],
             [
              1,
              "#f0f921"
             ]
            ],
            "type": "contour"
           }
          ],
          "contourcarpet": [
           {
            "colorbar": {
             "outlinewidth": 0,
             "ticks": ""
            },
            "type": "contourcarpet"
           }
          ],
          "heatmap": [
           {
            "colorbar": {
             "outlinewidth": 0,
             "ticks": ""
            },
            "colorscale": [
             [
              0,
              "#0d0887"
             ],
             [
              0.1111111111111111,
              "#46039f"
             ],
             [
              0.2222222222222222,
              "#7201a8"
             ],
             [
              0.3333333333333333,
              "#9c179e"
             ],
             [
              0.4444444444444444,
              "#bd3786"
             ],
             [
              0.5555555555555556,
              "#d8576b"
             ],
             [
              0.6666666666666666,
              "#ed7953"
             ],
             [
              0.7777777777777778,
              "#fb9f3a"
             ],
             [
              0.8888888888888888,
              "#fdca26"
             ],
             [
              1,
              "#f0f921"
             ]
            ],
            "type": "heatmap"
           }
          ],
          "heatmapgl": [
           {
            "colorbar": {
             "outlinewidth": 0,
             "ticks": ""
            },
            "colorscale": [
             [
              0,
              "#0d0887"
             ],
             [
              0.1111111111111111,
              "#46039f"
             ],
             [
              0.2222222222222222,
              "#7201a8"
             ],
             [
              0.3333333333333333,
              "#9c179e"
             ],
             [
              0.4444444444444444,
              "#bd3786"
             ],
             [
              0.5555555555555556,
              "#d8576b"
             ],
             [
              0.6666666666666666,
              "#ed7953"
             ],
             [
              0.7777777777777778,
              "#fb9f3a"
             ],
             [
              0.8888888888888888,
              "#fdca26"
             ],
             [
              1,
              "#f0f921"
             ]
            ],
            "type": "heatmapgl"
           }
          ],
          "histogram": [
           {
            "marker": {
             "pattern": {
              "fillmode": "overlay",
              "size": 10,
              "solidity": 0.2
             }
            },
            "type": "histogram"
           }
          ],
          "histogram2d": [
           {
            "colorbar": {
             "outlinewidth": 0,
             "ticks": ""
            },
            "colorscale": [
             [
              0,
              "#0d0887"
             ],
             [
              0.1111111111111111,
              "#46039f"
             ],
             [
              0.2222222222222222,
              "#7201a8"
             ],
             [
              0.3333333333333333,
              "#9c179e"
             ],
             [
              0.4444444444444444,
              "#bd3786"
             ],
             [
              0.5555555555555556,
              "#d8576b"
             ],
             [
              0.6666666666666666,
              "#ed7953"
             ],
             [
              0.7777777777777778,
              "#fb9f3a"
             ],
             [
              0.8888888888888888,
              "#fdca26"
             ],
             [
              1,
              "#f0f921"
             ]
            ],
            "type": "histogram2d"
           }
          ],
          "histogram2dcontour": [
           {
            "colorbar": {
             "outlinewidth": 0,
             "ticks": ""
            },
            "colorscale": [
             [
              0,
              "#0d0887"
             ],
             [
              0.1111111111111111,
              "#46039f"
             ],
             [
              0.2222222222222222,
              "#7201a8"
             ],
             [
              0.3333333333333333,
              "#9c179e"
             ],
             [
              0.4444444444444444,
              "#bd3786"
             ],
             [
              0.5555555555555556,
              "#d8576b"
             ],
             [
              0.6666666666666666,
              "#ed7953"
             ],
             [
              0.7777777777777778,
              "#fb9f3a"
             ],
             [
              0.8888888888888888,
              "#fdca26"
             ],
             [
              1,
              "#f0f921"
             ]
            ],
            "type": "histogram2dcontour"
           }
          ],
          "mesh3d": [
           {
            "colorbar": {
             "outlinewidth": 0,
             "ticks": ""
            },
            "type": "mesh3d"
           }
          ],
          "parcoords": [
           {
            "line": {
             "colorbar": {
              "outlinewidth": 0,
              "ticks": ""
             }
            },
            "type": "parcoords"
           }
          ],
          "pie": [
           {
            "automargin": true,
            "type": "pie"
           }
          ],
          "scatter": [
           {
            "fillpattern": {
             "fillmode": "overlay",
             "size": 10,
             "solidity": 0.2
            },
            "type": "scatter"
           }
          ],
          "scatter3d": [
           {
            "line": {
             "colorbar": {
              "outlinewidth": 0,
              "ticks": ""
             }
            },
            "marker": {
             "colorbar": {
              "outlinewidth": 0,
              "ticks": ""
             }
            },
            "type": "scatter3d"
           }
          ],
          "scattercarpet": [
           {
            "marker": {
             "colorbar": {
              "outlinewidth": 0,
              "ticks": ""
             }
            },
            "type": "scattercarpet"
           }
          ],
          "scattergeo": [
           {
            "marker": {
             "colorbar": {
              "outlinewidth": 0,
              "ticks": ""
             }
            },
            "type": "scattergeo"
           }
          ],
          "scattergl": [
           {
            "marker": {
             "colorbar": {
              "outlinewidth": 0,
              "ticks": ""
             }
            },
            "type": "scattergl"
           }
          ],
          "scattermapbox": [
           {
            "marker": {
             "colorbar": {
              "outlinewidth": 0,
              "ticks": ""
             }
            },
            "type": "scattermapbox"
           }
          ],
          "scatterpolar": [
           {
            "marker": {
             "colorbar": {
              "outlinewidth": 0,
              "ticks": ""
             }
            },
            "type": "scatterpolar"
           }
          ],
          "scatterpolargl": [
           {
            "marker": {
             "colorbar": {
              "outlinewidth": 0,
              "ticks": ""
             }
            },
            "type": "scatterpolargl"
           }
          ],
          "scatterternary": [
           {
            "marker": {
             "colorbar": {
              "outlinewidth": 0,
              "ticks": ""
             }
            },
            "type": "scatterternary"
           }
          ],
          "surface": [
           {
            "colorbar": {
             "outlinewidth": 0,
             "ticks": ""
            },
            "colorscale": [
             [
              0,
              "#0d0887"
             ],
             [
              0.1111111111111111,
              "#46039f"
             ],
             [
              0.2222222222222222,
              "#7201a8"
             ],
             [
              0.3333333333333333,
              "#9c179e"
             ],
             [
              0.4444444444444444,
              "#bd3786"
             ],
             [
              0.5555555555555556,
              "#d8576b"
             ],
             [
              0.6666666666666666,
              "#ed7953"
             ],
             [
              0.7777777777777778,
              "#fb9f3a"
             ],
             [
              0.8888888888888888,
              "#fdca26"
             ],
             [
              1,
              "#f0f921"
             ]
            ],
            "type": "surface"
           }
          ],
          "table": [
           {
            "cells": {
             "fill": {
              "color": "#EBF0F8"
             },
             "line": {
              "color": "white"
             }
            },
            "header": {
             "fill": {
              "color": "#C8D4E3"
             },
             "line": {
              "color": "white"
             }
            },
            "type": "table"
           }
          ]
         },
         "layout": {
          "annotationdefaults": {
           "arrowcolor": "#2a3f5f",
           "arrowhead": 0,
           "arrowwidth": 1
          },
          "autotypenumbers": "strict",
          "coloraxis": {
           "colorbar": {
            "outlinewidth": 0,
            "ticks": ""
           }
          },
          "colorscale": {
           "diverging": [
            [
             0,
             "#8e0152"
            ],
            [
             0.1,
             "#c51b7d"
            ],
            [
             0.2,
             "#de77ae"
            ],
            [
             0.3,
             "#f1b6da"
            ],
            [
             0.4,
             "#fde0ef"
            ],
            [
             0.5,
             "#f7f7f7"
            ],
            [
             0.6,
             "#e6f5d0"
            ],
            [
             0.7,
             "#b8e186"
            ],
            [
             0.8,
             "#7fbc41"
            ],
            [
             0.9,
             "#4d9221"
            ],
            [
             1,
             "#276419"
            ]
           ],
           "sequential": [
            [
             0,
             "#0d0887"
            ],
            [
             0.1111111111111111,
             "#46039f"
            ],
            [
             0.2222222222222222,
             "#7201a8"
            ],
            [
             0.3333333333333333,
             "#9c179e"
            ],
            [
             0.4444444444444444,
             "#bd3786"
            ],
            [
             0.5555555555555556,
             "#d8576b"
            ],
            [
             0.6666666666666666,
             "#ed7953"
            ],
            [
             0.7777777777777778,
             "#fb9f3a"
            ],
            [
             0.8888888888888888,
             "#fdca26"
            ],
            [
             1,
             "#f0f921"
            ]
           ],
           "sequentialminus": [
            [
             0,
             "#0d0887"
            ],
            [
             0.1111111111111111,
             "#46039f"
            ],
            [
             0.2222222222222222,
             "#7201a8"
            ],
            [
             0.3333333333333333,
             "#9c179e"
            ],
            [
             0.4444444444444444,
             "#bd3786"
            ],
            [
             0.5555555555555556,
             "#d8576b"
            ],
            [
             0.6666666666666666,
             "#ed7953"
            ],
            [
             0.7777777777777778,
             "#fb9f3a"
            ],
            [
             0.8888888888888888,
             "#fdca26"
            ],
            [
             1,
             "#f0f921"
            ]
           ]
          },
          "colorway": [
           "#636efa",
           "#EF553B",
           "#00cc96",
           "#ab63fa",
           "#FFA15A",
           "#19d3f3",
           "#FF6692",
           "#B6E880",
           "#FF97FF",
           "#FECB52"
          ],
          "font": {
           "color": "#2a3f5f"
          },
          "geo": {
           "bgcolor": "white",
           "lakecolor": "white",
           "landcolor": "#E5ECF6",
           "showlakes": true,
           "showland": true,
           "subunitcolor": "white"
          },
          "hoverlabel": {
           "align": "left"
          },
          "hovermode": "closest",
          "mapbox": {
           "style": "light"
          },
          "paper_bgcolor": "white",
          "plot_bgcolor": "#E5ECF6",
          "polar": {
           "angularaxis": {
            "gridcolor": "white",
            "linecolor": "white",
            "ticks": ""
           },
           "bgcolor": "#E5ECF6",
           "radialaxis": {
            "gridcolor": "white",
            "linecolor": "white",
            "ticks": ""
           }
          },
          "scene": {
           "xaxis": {
            "backgroundcolor": "#E5ECF6",
            "gridcolor": "white",
            "gridwidth": 2,
            "linecolor": "white",
            "showbackground": true,
            "ticks": "",
            "zerolinecolor": "white"
           },
           "yaxis": {
            "backgroundcolor": "#E5ECF6",
            "gridcolor": "white",
            "gridwidth": 2,
            "linecolor": "white",
            "showbackground": true,
            "ticks": "",
            "zerolinecolor": "white"
           },
           "zaxis": {
            "backgroundcolor": "#E5ECF6",
            "gridcolor": "white",
            "gridwidth": 2,
            "linecolor": "white",
            "showbackground": true,
            "ticks": "",
            "zerolinecolor": "white"
           }
          },
          "shapedefaults": {
           "line": {
            "color": "#2a3f5f"
           }
          },
          "ternary": {
           "aaxis": {
            "gridcolor": "white",
            "linecolor": "white",
            "ticks": ""
           },
           "baxis": {
            "gridcolor": "white",
            "linecolor": "white",
            "ticks": ""
           },
           "bgcolor": "#E5ECF6",
           "caxis": {
            "gridcolor": "white",
            "linecolor": "white",
            "ticks": ""
           }
          },
          "title": {
           "x": 0.05
          },
          "xaxis": {
           "automargin": true,
           "gridcolor": "white",
           "linecolor": "white",
           "ticks": "",
           "title": {
            "standoff": 15
           },
           "zerolinecolor": "white",
           "zerolinewidth": 2
          },
          "yaxis": {
           "automargin": true,
           "gridcolor": "white",
           "linecolor": "white",
           "ticks": "",
           "title": {
            "standoff": 15
           },
           "zerolinecolor": "white",
           "zerolinewidth": 2
          }
         }
        },
        "width": 1200,
        "xaxis": {
         "anchor": "y",
         "constrain": "domain",
         "domain": [
          0,
          1
         ],
         "scaleanchor": "y",
         "title": {
          "text": "Winner-Points"
         }
        },
        "yaxis": {
         "anchor": "x",
         "autorange": "reversed",
         "constrain": "domain",
         "domain": [
          0,
          1
         ],
         "title": {
          "text": "Loser-Points"
         }
        }
       }
      }
     },
     "metadata": {},
     "output_type": "display_data"
    }
   ],
   "source": [
    "games_df = pd.read_csv(\"data/games_cleaned.csv\")\n",
    "games_df = games_df[[\"pts_w\", \"pts_l\"]]\n",
    "\n",
    "score_count = games_df.groupby([\"pts_w\", \"pts_l\"]).size().reset_index(name=\"count\")\n",
    "\n",
    "fig = px.imshow(score_count.pivot(index=\"pts_l\",columns=\"pts_w\"),labels={\"x\": \"Winner-Points\", \"y\": \"Loser-Points\", \"color\": \"# of games\"},width=1200,height=1000)\n",
    "\n",
    "fig.show()"
   ]
  },
  {
   "cell_type": "code",
   "execution_count": 213,
   "metadata": {},
   "outputs": [
    {
     "data": {
      "image/png": "[encoded data removed]",
      "text/plain": [
       "<Figure size 1500x1200 with 2 Axes>"
      ]
     },
     "metadata": {},
     "output_type": "display_data"
    }
   ],
   "source": [
    "# DataFrame erstellen\n",
    "games_df = pd.read_csv(\"data/games_cleaned.csv\")\n",
    "score_counts = games_df.groupby([\"pts_w\", \"pts_l\"]).size().reset_index(name=\"count\")\n",
    "max_points = max(score_counts[[\"pts_w\", \"pts_l\"]].max()) + 1\n",
    "heatmap_data = pd.DataFrame(0, index=range(max_points), columns=range(max_points))\n",
    "\n",
    "# Aggregierte Werte in die Heatmap einfügen\n",
    "for _, row in score_counts.iterrows():\n",
    "    heatmap_data.at[int(row[\"pts_l\"]), int(row[\"pts_w\"])] = int(row[\"count\"])  # Gewinner & Verlierer vertauscht\n",
    "\n",
    "# Maske für leere Werte erstellen\n",
    "mask_missing = heatmap_data == 0  # Maskiere alle Felder mit Wert 0\n",
    "\n",
    "# Maske für regulär unmögliche Ergebnisse (Verlierer kann nicht mehr Punkte als Gewinner haben)\n",
    "mask_impossible = np.zeros_like(heatmap_data, dtype=bool)\n",
    "for loser_points in range(max_points):\n",
    "    for winner_points in range(max_points):\n",
    "        if winner_points < loser_points:  # Unmögliches Ergebnis\n",
    "            mask_impossible[loser_points, winner_points] = True\n",
    "\n",
    "# Maske für spezielle NFL-Regel-unmögliche Kombinationen\n",
    "mask_extra_impossible = np.zeros_like(heatmap_data, dtype=bool)\n",
    "extra_black_combinations = [(1, 7), (1, 5), (1, 4), (1, 3), (1, 2), (1, 1), (1, 0), (0, 1)]\n",
    "for loser, winner in extra_black_combinations:\n",
    "    # If-Statement mit ChatGPT generiert\n",
    "    if loser < max_points and winner < max_points:\n",
    "        mask_extra_impossible[loser, winner] = True\n",
    "        heatmap_data.at[loser, winner] = np.nan  # Sicherstellen, dass sie als unmöglich behandelt werden\n",
    "\n",
    "# Heatmap erstellen\n",
    "fig, ax = plt.subplots(figsize=(15, 12))\n",
    "\n",
    "# Normale Heatmap mit weißen Rändern (für gültige Werte)\n",
    "sns.heatmap(\n",
    "    heatmap_data,\n",
    "    mask=mask_missing,  \n",
    "    cmap=sns.color_palette(\"RdYlGn_r\", as_cmap=True),  \n",
    "    linewidths=0.5,  \n",
    "    square=True, \n",
    "    cbar=True,  \n",
    "    cbar_kws={\"label\": \"Anzahl der Vorkommen\"}  \n",
    ")\n",
    "\n",
    "sns.heatmap(\n",
    "    np.where(mask_impossible, 1, np.nan),  \n",
    "    mask=~mask_impossible, \n",
    "    cmap=[\"#808080\"],  \n",
    "    linewidths=0,  # Kein Rand für diese Felder\n",
    "    square=True,\n",
    "    cbar=False  # Keine zusätzliche Farbskala\n",
    ")\n",
    "\n",
    "# Dunkelgraue Heatmap für spezielle NFL-Regeln (1-7, 1-5, ...)\n",
    "sns.heatmap(\n",
    "    np.where(mask_extra_impossible, 1, np.nan),  # Nur spezielle NFL-unmögliche Ergebnisse anzeigen\n",
    "    mask=~mask_extra_impossible,  # Umgekehrte Maske\n",
    "    cmap=[\"#000000\"],  # Dunkelgrau für NFL-Regeln\n",
    "    linewidths=0,  # KEIN RAND FÜR DIESE FELDER\n",
    "    square=True,\n",
    "    cbar=False  # Keine zusätzliche Farbskala\n",
    ")\n",
    "\n",
    "# Y-Achse nach oben verschieben\n",
    "ax.xaxis.tick_top()\n",
    "ax.xaxis.set_label_position(\"top\")\n",
    "\n",
    "# Achsentitel und Layout anpassen\n",
    "plt.title(\"NFL-Scorigami\", fontsize=16)\n",
    "plt.xlabel(\"Punkte des Gewinners\", fontsize=14)  # Jetzt Gewinner\n",
    "plt.ylabel(\"Punkte des Verlierers\", fontsize=14)  # Jetzt Verlierer\n",
    "plt.xticks(fontsize=10, rotation=45)\n",
    "plt.yticks(fontsize=10)\n",
    "\n",
    "# Heatmap anzeigen\n",
    "plt.show()"
   ]
  },
  {
   "cell_type": "code",
   "execution_count": 2,
   "metadata": {},
   "outputs": [
    {
     "data": {
      "image/png": "[encoded data removed]",
      "text/plain": [
       "<Figure size 1000x600 with 1 Axes>"
      ]
     },
     "metadata": {},
     "output_type": "display_data"
    }
   ],
   "source": [
    "import matplotlib.pyplot as plt\n",
    "import matplotlib.dates as mdates\n",
    "import datetime\n",
    "\n",
    "# Beispiel-Daten\n",
    "tasks = [\n",
    "    (\"Uranus\", \"2021-02-07\", \"2021-12-20\", \"2021-05-02\", \"2021-09-30\"),\n",
    "    (\"Thomas Lamonthezie\", \"2021-02-07\", \"2021-04-22\", \"2021-04-25\", \"2021-05-29\"),\n",
    "    (\"Shuo Li\", \"2021-02-21\", \"2021-04-15\", None, None),\n",
    "    (\"Roger Erwin\", \"2021-04-04\", \"2021-04-22\", \"2021-04-25\", \"2021-05-20\"),\n",
    "    (\"Rick Maverick\", \"2021-04-13\", \"2021-05-13\", None, None),\n",
    "    (\"Pluton\", \"2021-01-01\", \"2021-12-16\", None, None)\n",
    "]\n",
    "\n",
    "fig, ax = plt.subplots(figsize=(10, 6))\n",
    "\n",
    "# Farben\n",
    "current_color = \"royalblue\"\n",
    "next_color = \"royalblue\"\n",
    "\n",
    "# Achsen-Einstellungen\n",
    "ax.xaxis.set_major_locator(mdates.MonthLocator(interval=1))\n",
    "ax.xaxis.set_major_formatter(mdates.DateFormatter(\"%m/%Y\"))\n",
    "\n",
    "# Daten visualisieren\n",
    "for i, (task, start1, end1, start2, end2) in enumerate(tasks):\n",
    "    start1 = datetime.datetime.strptime(start1, \"%Y-%m-%d\")\n",
    "    end1 = datetime.datetime.strptime(end1, \"%Y-%m-%d\")\n",
    "    ax.barh(task, (end1 - start1).days, left=start1, color=current_color, label=\"Current Assignment\" if i == 0 else \"\")\n",
    "\n",
    "    if start2 and end2:\n",
    "        start2 = datetime.datetime.strptime(start2, \"%Y-%m-%d\")\n",
    "        end2 = datetime.datetime.strptime(end2, \"%Y-%m-%d\")\n",
    "        ax.barh(task, (end2 - start2).days, left=start2, color=next_color, label=\"Next Assignment\" if i == 0 else \"\")\n",
    "\n",
    "# Legende & Layout-Anpassungen\n",
    "ax.legend()\n",
    "plt.xlabel(\"Date\")\n",
    "plt.title(\"Current & Next Assignments Timeline\")\n",
    "plt.grid(axis=\"x\", linestyle=\"--\", alpha=0.7)\n",
    "plt.show()\n"
   ]
  }
 ],
 "metadata": {
  "kernelspec": {
   "display_name": "Python 3",
   "language": "python",
   "name": "python3"
  },
  "language_info": {
   "codemirror_mode": {
    "name": "ipython",
    "version": 3
   },
   "file_extension": ".py",
   "mimetype": "text/x-python",
   "name": "python",
   "nbconvert_exporter": "python",
   "pygments_lexer": "ipython3",
   "version": "3.11.9"
  }
 },
 "nbformat": 4,
 "nbformat_minor": 2
}
