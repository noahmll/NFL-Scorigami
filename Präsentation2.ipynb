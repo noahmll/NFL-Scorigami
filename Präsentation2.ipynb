{
 "cells": [
  {
   "cell_type": "markdown",
   "metadata": {},
   "source": [
    "<p align=\"center\">\n",
    "    <img src=\"NFL_Banner.jpg\" width=100%>\n",
    "</p>"
   ]
  },
  {
   "cell_type": "markdown",
   "metadata": {},
   "source": [
    "# NFL-Dataset\n",
    "\n",
    "### NFL Scorigamis – Einzigartige Endstände im American Football\n",
    "Ein Scorigami in der NFL bezeichnet ein Endergebnis, das in der Geschichte der Liga noch nie vorgekommen ist. Da es in American Football aufgrund der speziellen Punktevergabe (Touchdowns = 6 Punkte, Field Goals = 3 Punkte, Safeties = 2 Punkte, Extrapunkte & Two-Point Conversions) viele mögliche Endstände gibt, entstehen gelegentlich neue, zuvor unerreichte Kombinationen.\n",
    "\n",
    "Die Spielregeln beeinflussen Scorigamis erheblich, da die unterschiedlichen Punktwerte und mögliche Kombinationen aus Touchdowns, Field Goals und Safeties zu teilweise ungewöhnlichen Ergebnissen führen können. Besonders seltene Ereignisse wie Safeties oder verfehlte Extrapunkte tragen oft dazu bei, neue Scorigamis zu ermöglichen.\n",
    "\n",
    "Das Konzept wurde von Jon Bois populär gemacht, und es gibt mittlerweile eine Community, die jedes Spiel verfolgt, um zu sehen, ob ein neues Scorigami erzielt wurde."
   ]
  },
  {
   "cell_type": "markdown",
   "metadata": {},
   "source": [
    "### Schritt 1: Benötigte Libraries importieren"
   ]
  },
  {
   "cell_type": "code",
   "execution_count": 1,
   "metadata": {},
   "outputs": [],
   "source": [
    "# Benötigte Libraries\n",
    "\n",
    "# Webscraping\n",
    "import csv\n",
    "import requests\n",
    "from bs4 import BeautifulSoup\n",
    "from bs4 import Comment\n",
    "from time import sleep\n",
    "from tqdm import tqdm\n",
    "\n",
    "# Visualisieren\n",
    "import pandas as pd\n",
    "import numpy as np\n",
    "import plotly.express as px\n",
    "import plotly.graph_objects as go"
   ]
  },
  {
   "cell_type": "markdown",
   "metadata": {},
   "source": [
    "### Schritt 2: Web-Scraping\n",
    "Es wird nun der Datensatz benötigt, der alle Spiele der NFL jemals beinhaltet. Dazu bietet sich die Website [pro-football-reference.com](https://www.pro-football-reference.com/boxscores/game-scores.htm) an. Sie beinhaltet zunächst alle Endstände sowie ihre Häufigkeit. Mittels `requests` wird die .html-Datei der Seite zunächst heruntergeladen und im Verzeichnis `data/` als `scores.html` gespeichert."
   ]
  },
  {
   "cell_type": "code",
   "execution_count": 1,
   "metadata": {},
   "outputs": [
    {
     "name": "stdout",
     "output_type": "stream",
     "text": [
      "Page saved as 'scores.html'\n"
     ]
    }
   ],
   "source": [
    "# Datei herunterladen\n",
    "\n",
    "# URL, die gescraped werden soll\n",
    "url = \"https://www.pro-football-reference.com/boxscores/game-scores.htm\"\n",
    "\n",
    "# Erstelle GET-Request der URL\n",
    "response = requests.get(url)\n",
    "\n",
    "# Prüfe, ob Request erfolgreich war\n",
    "if response.status_code == 200:\n",
    "    # Speichere Seite in einer HTML-Datei\n",
    "    with open(\"data/scores.html\", \"w\", encoding=\"utf-8\") as file:\n",
    "        file.write(response.text)\n",
    "    print(\"Page saved as 'scores.html'\")\n",
    "else:\n",
    "    print(f\"Failed to download page. Status code: {response.status_code}\")"
   ]
  },
  {
   "cell_type": "markdown",
   "metadata": {},
   "source": [
    "Aus `scores.html` werden nun alle einzelnen Endstände mithilfe von `BeautifulSoup` geparsed und in der Variable `score_list` gespeichert. Basierend auf dieser Liste kann nun auf der o. g. Website auf die Spiele mit jeweiligem Endergebnis zugegriffen werden. Diese Subseiten werden mit dem Namen des Endergebnisses als .html-Datei im Verzeichnis `data/games/` gespeichert. Insgesamt entstehen dabei 1091 .html-Dateien."
   ]
  },
  {
   "cell_type": "code",
   "execution_count": 74,
   "metadata": {},
   "outputs": [
    {
     "name": "stderr",
     "output_type": "stream",
     "text": [
      "Scores herunterladen: 100%|██████████| 1091/1091 [53:59<00:00,  2.97s/it] \n"
     ]
    }
   ],
   "source": [
    "# Datei nach Scores Parsen\n",
    "\n",
    "# If the HTML is saved locally, you can use:\n",
    "with open(\"data/scores.html\", \"r\", encoding=\"utf-8\") as file:\n",
    "    soup = BeautifulSoup(file, \"html.parser\")\n",
    "\n",
    "# Initialize an empty dictionary to store the country data\n",
    "score_list = []\n",
    "\n",
    "# Find all div elements with class \"col-md-4 country\"\n",
    "for scores in soup.select(\"table.stats_table tbody tr:not([thead])\"):\n",
    "    score = scores.find(\"td\").text\n",
    "    score_list.append(score)\n",
    "\n",
    "# Alle Spiele zu jedem Score finden\n",
    "\n",
    "for score in tqdm(score_list,desc=\"Scores herunterladen\"):\n",
    "    i, j = score.split(\"-\")\n",
    "    url = f\"https://www.pro-football-reference.com/boxscores/game_scores_find.cgi?pts_win={i}&pts_lose={j}\"\n",
    "\n",
    "    # Erstelle GET-Request der URL\n",
    "    response = requests.get(url)\n",
    "\n",
    "    # Prüfe, ob Request erfolgreich war\n",
    "    if response.status_code == 200:\n",
    "        # Speichere Seite in einer HTML-Datei\n",
    "        with open(f\"data/games/{i}-{j}.html\", \"w\", encoding=\"utf-8\") as file:\n",
    "            file.write(response.text)\n",
    "    else:\n",
    "        print(f\"Failed to download {i}-{j}.html. Status code: {response.status_code}\")\n",
    "\n",
    "    sleep(.75)"
   ]
  },
  {
   "cell_type": "markdown",
   "metadata": {},
   "source": [
    "Jetzt, wo die 1091 .html-Dateien lokal gespeichert sind, können auch sie mit BeautifulSoup geparsed werden. Dabei werden zunächst alle columns übernommen und später bereinigt. Die geparseden Ergebnisse werden in der Variable `games_list` gespeichert, die daraufhin in die Datei `data/games.csv` geschrieben werden. Diese Datei enthält nun alle Spiele der NFL samt Ergebnissen, Team-Namen, Spieltagen und vielen weiteren Statistiken (unbereinigt)."
   ]
  },
  {
   "cell_type": "code",
   "execution_count": null,
   "metadata": {},
   "outputs": [
    {
     "name": "stderr",
     "output_type": "stream",
     "text": [
      "Scores kombinieren: 100%|██████████| 1091/1091 [04:20<00:00,  4.19it/s]"
     ]
    },
    {
     "name": "stdout",
     "output_type": "stream",
     "text": [
      "Done!\n"
     ]
    },
    {
     "name": "stderr",
     "output_type": "stream",
     "text": [
      "\n"
     ]
    }
   ],
   "source": [
    "# Alle Spiele\n",
    "games_list = []\n",
    "\n",
    "# Alle Spiele in Dateien speichern\n",
    "for score in tqdm(score_list,desc=\"Scores kombinieren\"):\n",
    "    i, j = score.split(\"-\")\n",
    "\n",
    "    # Datei nach jeweiligem Score speichern\n",
    "    with open(f\"data/games/{i}-{j}.html\", \"r\", encoding=\"utf-8\") as file:\n",
    "        soup = BeautifulSoup(file, \"html.parser\")\n",
    "\n",
    "    # Alle Spiele des jeweiligen Scores\n",
    "    for games in soup.select(\"table.stats_table tbody tr:not([thead])\"):\n",
    "        game = games.find_all(\"td\")\n",
    "        games_list.append([i.text.strip() for i in game])\n",
    "\n",
    "# In CSV games.csv speichern\n",
    "with open(\"data/games.csv\", \"a\", newline=\"\") as file:\n",
    "    writer = csv.writer(file)\n",
    "    \n",
    "    fields = [\"week\", \"day\", \"date\", \"outcome\", \"winner\", \"game_location\", \"loser\", \"boxscore\", \"pts_w\", \"pts_l\", \"yards_w\", \"to_w\", \"yards_l\", \"to_l\"]\n",
    "    writer.writerow(fields)\n",
    "    writer.writerows(games_list)\n",
    "\n",
    "print(\"Done!\")"
   ]
  },
  {
   "cell_type": "markdown",
   "metadata": {},
   "source": [
    "### Schritt 3: Datenbereinigung\n",
    "Schaut man sich die `games.csv` an, fällt neben anderen Unreinheiten, die gesäubert werden sollten, auf, dass oft Team-Variationen als Namen vorkommen. So spielen bspw. 1944 die *Cleveland Rams*, 1962 aber die *Los Angeles Rams*. Wer sich mit der Historie der NFL und ihrer Teams auskennt, weiß, dass in beiden Fällen de facto das gleiche Team nur unter anderem Namen auftritt. In der Tat ist es so, dass viele NFL-Teams bereits (mehrmals) ihre Namen geändert haben.  \n",
    "Diese Tatsache stellt aus der Perspektive der Datenverarbeitung in der Tat ein Problem dar. Möchte man z. B. die Anzahl der verschiedenen Teams, die in der NFL gespielt haben, zählen, würde eine verfälschte Zahl entstehen, wenn man einfach nur die Anzahl der einzigartigen Team-Namen berechnet. Es ist daher nötig, den Teams einzigartige IDs zuzuweisen, um sie definitiv voneinander unterscheiden zu können. Dadurch ist egal, wie das Team zu einem gegebenen Zeitpunkt geheißen hat, da es trotzdem noch das gleiche Team (also die gleiche ID) ist. Dadurch entsteht ein ER-Modell, was im Folgenden aufgezeigt ist.  \n",
    "Auch hierbei soll uns wieder eine Seite von [pro-football-reference.com](https://www.pro-football-reference.com/teams/), die alle Teams und ihre früheren Namen auflistet, helfen.  \n",
    "  \n",
    "<p align=\"center\">\n",
    "    <img src=\"Database-Viz.png\" width=\"1000\">\n",
    "</p>"
   ]
  },
  {
   "cell_type": "markdown",
   "metadata": {},
   "source": [
    "Zunächst wird die Seite mit den Team-Daten heruntergeladen"
   ]
  },
  {
   "cell_type": "code",
   "execution_count": 109,
   "metadata": {},
   "outputs": [
    {
     "name": "stdout",
     "output_type": "stream",
     "text": [
      "Page saved as 'teams.html'\n"
     ]
    }
   ],
   "source": [
    "# Datei herunterladen\n",
    "\n",
    "# URL, die gescraped werden soll\n",
    "url = \"https://www.pro-football-reference.com/teams/index.htm\"\n",
    "\n",
    "# Erstelle GET-Request der URL\n",
    "response = requests.get(url)\n",
    "\n",
    "# Prüfe, ob Request erfolgreich war\n",
    "if response.status_code == 200:\n",
    "    # Speichere Seite in einer HTML-Datei\n",
    "    with open(\"data/teams.html\", \"w\", encoding=\"utf-8\") as file:\n",
    "        file.write(response.text)\n",
    "    print(\"Page saved as 'teams.html'\")\n",
    "else:\n",
    "    print(f\"Failed to download page. Status code: {response.status_code}\")"
   ]
  },
  {
   "cell_type": "markdown",
   "metadata": {},
   "source": [
    "Nun muss die heruntergeladenen Seite `teams.html` geparsed werden, um alle Team-Namen zu finden. Dabei muss zwischen Team-Namen und Varianten unterschieden werden. Glücklicherweise sind diese im Quellcode durch unterschiedliche `css`-Klassen voneinander trennbar und können somit unterschieden werden."
   ]
  },
  {
   "cell_type": "code",
   "execution_count": 94,
   "metadata": {},
   "outputs": [
    {
     "name": "stdout",
     "output_type": "stream",
     "text": [
      "Done!\n"
     ]
    }
   ],
   "source": [
    "# Datei nach Scores Parsen\n",
    "\n",
    "with open(\"data/teams.html\", \"r\", encoding=\"utf-8\") as file:\n",
    "    soup = BeautifulSoup(file, \"html.parser\")\n",
    "\n",
    "all_names = dict()\n",
    "all_teams = []\n",
    "\n",
    "cntr = 0\n",
    "\n",
    "for team in soup.select(\"table.stats_table#teams_active tbody tr:not([thead])\"):\n",
    "    name = team.find(\"th\").text.strip(\"*\")\n",
    "    year_min = team.find(\"td\", {\"data-stat\": \"year_min\"}).text.strip()\n",
    "    year_max = team.find(\"td\", {\"data-stat\": \"year_max\"}).text.strip()\n",
    "    if not len(team.attrs.values()):\n",
    "        cntr +=1\n",
    "    all_teams.append([cntr,int(not len(team.attrs.values())),name,year_min,year_max])\n",
    "\n",
    "    \n",
    "\n",
    "comments = soup.find_all(string=lambda text: isinstance(text, Comment))\n",
    "soup = BeautifulSoup(comments[22], \"html.parser\")\n",
    "\n",
    "for team in soup.select(\"table.stats_table#teams_inactive tbody tr:not([thead])\"):\n",
    "    name = team.find(\"th\").text.strip(\"*\")\n",
    "    year_min = team.find(\"td\", {\"data-stat\": \"year_min\"}).text.strip()\n",
    "    year_max = team.find(\"td\", {\"data-stat\": \"year_max\"}).text.strip()\n",
    "    if not len(team.attrs.values()):\n",
    "        cntr +=1\n",
    "    all_teams.append([cntr,int(not len(team.attrs.values())),name,year_min,year_max])\n",
    "\n",
    "all_teams = pd.DataFrame(all_teams,columns=[\"team_id\", \"is_latest_name\",\"team_name\", \"first_year\", \"last_year\"])\n",
    "all_teams.drop_duplicates(inplace=True, ignore_index=True)\n",
    "all_teams.to_csv(\"data/teams.csv\",index=False)\n",
    "\n",
    "print(\"Done!\")"
   ]
  },
  {
   "cell_type": "markdown",
   "metadata": {},
   "source": [
    "Im nächsten Schritt sollen den Teams in `games.csv` nun tatsächlich ihre generierten IDs zugewiesen werden. Dabei werden auch noch weitere Kleinigkeiten gesäubert."
   ]
  },
  {
   "cell_type": "code",
   "execution_count": null,
   "metadata": {},
   "outputs": [
    {
     "name": "stderr",
     "output_type": "stream",
     "text": [
      "Applying Team-IDs to games: 17949it [00:07, 2496.38it/s]"
     ]
    },
    {
     "name": "stdout",
     "output_type": "stream",
     "text": [
      "Done!\n"
     ]
    },
    {
     "name": "stderr",
     "output_type": "stream",
     "text": [
      "\n"
     ]
    }
   ],
   "source": [
    "games_df = pd.read_csv(\"data/games.csv\")\n",
    "teams_df = pd.read_csv(\"data/teams.csv\")\n",
    "\n",
    "games_new = []\n",
    "\n",
    "games_df = games_df.drop(\"boxscore\",axis=1)\n",
    "games_df[\"game_location\"] = games_df[\"game_location\"].fillna(\" \")\n",
    "\n",
    "def find_team_id(source: pd.DataFrame, team: str, year: int):\n",
    "    try:\n",
    "        possible_teams = source[(source[\"team_name\"] == team)]\n",
    "        possible_teams = possible_teams[(year >= possible_teams[\"first_year\"]) & (year <= possible_teams[\"last_year\"] + 1)] # Die year-Spalten zeigen nur das erste Jahr der Saison.\n",
    "        return int(possible_teams[\"team_id\"].iloc[0])\n",
    "    # Es gibt in der 1920 Saison Teams, die in der teams.csv nicht aufgelistet sind. Diese werden hier mit np.nan ersetzt, um die Endstände der Spiele trotzdem beizubehalten. \n",
    "    except IndexError:\n",
    "        return np.nan\n",
    "\n",
    "for index,game in tqdm(enumerate(games_df.values,1),desc=f\"Applying Team-IDs to games\"):\n",
    "    game = (\n",
    "        [index] +\n",
    "\t\tlist(game[:4]) +\n",
    "\t\t[find_team_id(teams_df, game[4], int(game[2][:4]))] +\n",
    "\t\tlist(game[5]) +\n",
    "\t\t[find_team_id(teams_df, game[6], int(game[2][:4]))] +\n",
    "\t\tlist(game[7:]))\n",
    "    games_new.append(game)\n",
    "\n",
    "games_df = pd.DataFrame(\n",
    "    games_new,\n",
    "\tcolumns=[\"game_id\",\"week\",\"day\",\"date\",\"outcome\",\"winner_id\",\"game_location\",\"loser_id\",\"pts_w\",\"pts_l\",\"yards_w\",\"to_w\",\"yards_l\",\"to_l\"]).convert_dtypes(convert_integer=True)\n",
    "\n",
    "games_df[\"yards_w\"] = games_df[\"yards_w\"].replace(0,np.nan)\n",
    "games_df[\"yards_l\"] = games_df[\"yards_l\"].replace(0,np.nan)\n",
    "games_df.loc[games_df[\"date\"] <= \"1932-12-18\", \"to_w\"] = np.nan\n",
    "games_df.loc[games_df[\"date\"] <= \"1932-12-18\", \"to_l\"] = np.nan\n",
    "\n",
    "games_df.to_csv(\"data/games_cleaned.csv\",index=False)\n",
    "\n",
    "print(f\"Done!\")"
   ]
  },
  {
   "cell_type": "markdown",
   "metadata": {},
   "source": [
    "### Visualisierungen"
   ]
  },
  {
   "cell_type": "code",
   "execution_count": null,
   "metadata": {},
   "outputs": [
    {
     "data": {
      "application/vnd.plotly.v1+json": {
       "config": {
        "plotlyServerURL": "https://plot.ly"
       },
       "data": [
        {
         "customdata": [
          [
           2
          ],
          [
           3
          ],
          [
           3
          ],
          [
           3
          ],
          [
           3
          ],
          [
           4
          ],
          [
           4
          ],
          [
           4
          ],
          [
           4
          ],
          [
           4
          ],
          [
           5
          ],
          [
           5
          ],
          [
           6
          ],
          [
           8
          ],
          [
           8
          ],
          [
           8
          ],
          [
           8
          ],
          [
           9
          ],
          [
           9
          ],
          [
           9
          ],
          [
           9
          ],
          [
           9
          ],
          [
           9
          ],
          [
           9
          ],
          [
           9
          ],
          [
           9
          ],
          [
           11
          ],
          [
           11
          ],
          [
           11
          ],
          [
           11
          ],
          [
           11
          ],
          [
           11
          ],
          [
           11
          ],
          [
           12
          ],
          [
           12
          ],
          [
           12
          ],
          [
           12
          ],
          [
           12
          ],
          [
           12
          ],
          [
           12
          ],
          [
           21
          ],
          [
           22
          ],
          [
           22
          ],
          [
           22
          ],
          [
           22
          ],
          [
           22
          ],
          [
           24
          ],
          [
           25
          ],
          [
           26
          ],
          [
           26
          ],
          [
           26
          ],
          [
           26
          ],
          [
           26
          ],
          [
           26
          ],
          [
           26
          ],
          [
           26
          ],
          [
           28
          ],
          [
           28
          ],
          [
           28
          ],
          [
           28
          ],
          [
           28
          ],
          [
           28
          ],
          [
           28
          ],
          [
           28
          ],
          [
           28
          ],
          [
           28
          ],
          [
           28
          ],
          [
           28
          ],
          [
           28
          ],
          [
           28
          ],
          [
           28
          ],
          [
           28
          ],
          [
           28
          ],
          [
           28
          ],
          [
           28
          ],
          [
           30
          ],
          [
           31
          ],
          [
           31
          ],
          [
           31
          ],
          [
           31
          ],
          [
           31
          ],
          [
           31
          ],
          [
           32
          ],
          [
           32
          ],
          [
           32
          ],
          [
           32
          ],
          [
           32
          ],
          [
           32
          ],
          [
           32
          ],
          [
           32
          ],
          [
           32
          ],
          [
           32
          ],
          [
           32
          ],
          [
           32
          ],
          [
           32
          ],
          [
           32
          ],
          [
           32
          ],
          [
           32
          ],
          [
           32
          ],
          [
           32
          ],
          [
           32
          ],
          [
           32
          ],
          [
           32
          ],
          [
           32
          ],
          [
           32
          ]
         ],
         "hovertemplate": "<b>%{hovertext}</b><br><br># of Teams in the NFL=%{y}<br># of Teams currently in the NFL=%{customdata[0]}<extra></extra>",
         "hovertext": [
          1920,
          1921,
          1922,
          1923,
          1924,
          1925,
          1926,
          1927,
          1928,
          1929,
          1930,
          1931,
          1932,
          1933,
          1934,
          1935,
          1936,
          1937,
          1938,
          1939,
          1940,
          1941,
          1942,
          1943,
          1944,
          1945,
          1946,
          1947,
          1948,
          1949,
          1950,
          1951,
          1952,
          1953,
          1954,
          1955,
          1956,
          1957,
          1958,
          1959,
          1960,
          1961,
          1962,
          1963,
          1964,
          1965,
          1966,
          1967,
          1968,
          1969,
          1970,
          1971,
          1972,
          1973,
          1974,
          1975,
          1976,
          1977,
          1978,
          1979,
          1980,
          1981,
          1982,
          1983,
          1984,
          1985,
          1986,
          1987,
          1988,
          1989,
          1990,
          1991,
          1992,
          1993,
          1994,
          1995,
          1996,
          1997,
          1998,
          1999,
          2000,
          2001,
          2002,
          2003,
          2004,
          2005,
          2006,
          2007,
          2008,
          2009,
          2010,
          2011,
          2012,
          2013,
          2014,
          2015,
          2016,
          2017,
          2018,
          2019,
          2020,
          2021,
          2022,
          2023,
          2024
         ],
         "legendgroup": "",
         "line": {
          "color": "#013369",
          "dash": "solid"
         },
         "marker": {
          "symbol": "circle"
         },
         "mode": "lines",
         "name": "",
         "orientation": "v",
         "showlegend": false,
         "type": "scatter",
         "x": [
          1920,
          1921,
          1922,
          1923,
          1924,
          1925,
          1926,
          1927,
          1928,
          1929,
          1930,
          1931,
          1932,
          1933,
          1934,
          1935,
          1936,
          1937,
          1938,
          1939,
          1940,
          1941,
          1942,
          1943,
          1944,
          1945,
          1946,
          1947,
          1948,
          1949,
          1950,
          1951,
          1952,
          1953,
          1954,
          1955,
          1956,
          1957,
          1958,
          1959,
          1960,
          1961,
          1962,
          1963,
          1964,
          1965,
          1966,
          1967,
          1968,
          1969,
          1970,
          1971,
          1972,
          1973,
          1974,
          1975,
          1976,
          1977,
          1978,
          1979,
          1980,
          1981,
          1982,
          1983,
          1984,
          1985,
          1986,
          1987,
          1988,
          1989,
          1990,
          1991,
          1992,
          1993,
          1994,
          1995,
          1996,
          1997,
          1998,
          1999,
          2000,
          2001,
          2002,
          2003,
          2004,
          2005,
          2006,
          2007,
          2008,
          2009,
          2010,
          2011,
          2012,
          2013,
          2014,
          2015,
          2016,
          2017,
          2018,
          2019,
          2020,
          2021,
          2022,
          2023,
          2024
         ],
         "xaxis": "x",
         "y": [
          14,
          21,
          18,
          20,
          20,
          23,
          24,
          13,
          12,
          12,
          11,
          10,
          8,
          10,
          11,
          9,
          9,
          10,
          10,
          10,
          10,
          10,
          10,
          10,
          11,
          10,
          18,
          18,
          18,
          17,
          13,
          12,
          12,
          12,
          12,
          12,
          12,
          12,
          12,
          12,
          21,
          22,
          22,
          22,
          22,
          22,
          24,
          25,
          26,
          26,
          26,
          26,
          26,
          26,
          26,
          26,
          28,
          28,
          28,
          28,
          28,
          28,
          28,
          28,
          28,
          28,
          28,
          28,
          28,
          28,
          28,
          28,
          28,
          28,
          28,
          30,
          31,
          31,
          31,
          31,
          31,
          31,
          32,
          32,
          32,
          32,
          32,
          32,
          32,
          32,
          32,
          32,
          32,
          32,
          32,
          32,
          32,
          32,
          32,
          32,
          32,
          32,
          32,
          32,
          32
         ],
         "yaxis": "y"
        },
        {
         "hoverinfo": "skip",
         "line": {
          "color": "#d50a0a",
          "dash": "dash"
         },
         "mode": "lines",
         "name": "# of Teams currently in the NFL",
         "type": "scatter",
         "x": [
          1920,
          1921,
          1922,
          1923,
          1924,
          1925,
          1926,
          1927,
          1928,
          1929,
          1930,
          1931,
          1932,
          1933,
          1934,
          1935,
          1936,
          1937,
          1938,
          1939,
          1940,
          1941,
          1942,
          1943,
          1944,
          1945,
          1946,
          1947,
          1948,
          1949,
          1950,
          1951,
          1952,
          1953,
          1954,
          1955,
          1956,
          1957,
          1958,
          1959,
          1960,
          1961,
          1962,
          1963,
          1964,
          1965,
          1966,
          1967,
          1968,
          1969,
          1970,
          1971,
          1972,
          1973,
          1974,
          1975,
          1976,
          1977,
          1978,
          1979,
          1980,
          1981,
          1982,
          1983,
          1984,
          1985,
          1986,
          1987,
          1988,
          1989,
          1990,
          1991,
          1992,
          1993,
          1994,
          1995,
          1996,
          1997,
          1998,
          1999,
          2000,
          2001,
          2002,
          2003,
          2004,
          2005,
          2006,
          2007,
          2008,
          2009,
          2010,
          2011,
          2012,
          2013,
          2014,
          2015,
          2016,
          2017,
          2018,
          2019,
          2020,
          2021,
          2022,
          2023,
          2024
         ],
         "y": [
          2,
          3,
          3,
          3,
          3,
          4,
          4,
          4,
          4,
          4,
          5,
          5,
          6,
          8,
          8,
          8,
          8,
          9,
          9,
          9,
          9,
          9,
          9,
          9,
          9,
          9,
          11,
          11,
          11,
          11,
          11,
          11,
          11,
          12,
          12,
          12,
          12,
          12,
          12,
          12,
          21,
          22,
          22,
          22,
          22,
          22,
          24,
          25,
          26,
          26,
          26,
          26,
          26,
          26,
          26,
          26,
          28,
          28,
          28,
          28,
          28,
          28,
          28,
          28,
          28,
          28,
          28,
          28,
          28,
          28,
          28,
          28,
          28,
          28,
          28,
          30,
          31,
          31,
          31,
          31,
          31,
          31,
          32,
          32,
          32,
          32,
          32,
          32,
          32,
          32,
          32,
          32,
          32,
          32,
          32,
          32,
          32,
          32,
          32,
          32,
          32,
          32,
          32,
          32,
          32
         ]
        }
       ],
       "layout": {
        "legend": {
         "tracegroupgap": 0
        },
        "template": {
         "data": {
          "bar": [
           {
            "error_x": {
             "color": "#2a3f5f"
            },
            "error_y": {
             "color": "#2a3f5f"
            },
            "marker": {
             "line": {
              "color": "#E5ECF6",
              "width": 0.5
             },
             "pattern": {
              "fillmode": "overlay",
              "size": 10,
              "solidity": 0.2
             }
            },
            "type": "bar"
           }
          ],
          "barpolar": [
           {
            "marker": {
             "line": {
              "color": "#E5ECF6",
              "width": 0.5
             },
             "pattern": {
              "fillmode": "overlay",
              "size": 10,
              "solidity": 0.2
             }
            },
            "type": "barpolar"
           }
          ],
          "carpet": [
           {
            "aaxis": {
             "endlinecolor": "#2a3f5f",
             "gridcolor": "white",
             "linecolor": "white",
             "minorgridcolor": "white",
             "startlinecolor": "#2a3f5f"
            },
            "baxis": {
             "endlinecolor": "#2a3f5f",
             "gridcolor": "white",
             "linecolor": "white",
             "minorgridcolor": "white",
             "startlinecolor": "#2a3f5f"
            },
            "type": "carpet"
           }
          ],
          "choropleth": [
           {
            "colorbar": {
             "outlinewidth": 0,
             "ticks": ""
            },
            "type": "choropleth"
           }
          ],
          "contour": [
           {
            "colorbar": {
             "outlinewidth": 0,
             "ticks": ""
            },
            "colorscale": [
             [
              0,
              "#0d0887"
             ],
             [
              0.1111111111111111,
              "#46039f"
             ],
             [
              0.2222222222222222,
              "#7201a8"
             ],
             [
              0.3333333333333333,
              "#9c179e"
             ],
             [
              0.4444444444444444,
              "#bd3786"
             ],
             [
              0.5555555555555556,
              "#d8576b"
             ],
             [
              0.6666666666666666,
              "#ed7953"
             ],
             [
              0.7777777777777778,
              "#fb9f3a"
             ],
             [
              0.8888888888888888,
              "#fdca26"
             ],
             [
              1,
              "#f0f921"
             ]
            ],
            "type": "contour"
           }
          ],
          "contourcarpet": [
           {
            "colorbar": {
             "outlinewidth": 0,
             "ticks": ""
            },
            "type": "contourcarpet"
           }
          ],
          "heatmap": [
           {
            "colorbar": {
             "outlinewidth": 0,
             "ticks": ""
            },
            "colorscale": [
             [
              0,
              "#0d0887"
             ],
             [
              0.1111111111111111,
              "#46039f"
             ],
             [
              0.2222222222222222,
              "#7201a8"
             ],
             [
              0.3333333333333333,
              "#9c179e"
             ],
             [
              0.4444444444444444,
              "#bd3786"
             ],
             [
              0.5555555555555556,
              "#d8576b"
             ],
             [
              0.6666666666666666,
              "#ed7953"
             ],
             [
              0.7777777777777778,
              "#fb9f3a"
             ],
             [
              0.8888888888888888,
              "#fdca26"
             ],
             [
              1,
              "#f0f921"
             ]
            ],
            "type": "heatmap"
           }
          ],
          "heatmapgl": [
           {
            "colorbar": {
             "outlinewidth": 0,
             "ticks": ""
            },
            "colorscale": [
             [
              0,
              "#0d0887"
             ],
             [
              0.1111111111111111,
              "#46039f"
             ],
             [
              0.2222222222222222,
              "#7201a8"
             ],
             [
              0.3333333333333333,
              "#9c179e"
             ],
             [
              0.4444444444444444,
              "#bd3786"
             ],
             [
              0.5555555555555556,
              "#d8576b"
             ],
             [
              0.6666666666666666,
              "#ed7953"
             ],
             [
              0.7777777777777778,
              "#fb9f3a"
             ],
             [
              0.8888888888888888,
              "#fdca26"
             ],
             [
              1,
              "#f0f921"
             ]
            ],
            "type": "heatmapgl"
           }
          ],
          "histogram": [
           {
            "marker": {
             "pattern": {
              "fillmode": "overlay",
              "size": 10,
              "solidity": 0.2
             }
            },
            "type": "histogram"
           }
          ],
          "histogram2d": [
           {
            "colorbar": {
             "outlinewidth": 0,
             "ticks": ""
            },
            "colorscale": [
             [
              0,
              "#0d0887"
             ],
             [
              0.1111111111111111,
              "#46039f"
             ],
             [
              0.2222222222222222,
              "#7201a8"
             ],
             [
              0.3333333333333333,
              "#9c179e"
             ],
             [
              0.4444444444444444,
              "#bd3786"
             ],
             [
              0.5555555555555556,
              "#d8576b"
             ],
             [
              0.6666666666666666,
              "#ed7953"
             ],
             [
              0.7777777777777778,
              "#fb9f3a"
             ],
             [
              0.8888888888888888,
              "#fdca26"
             ],
             [
              1,
              "#f0f921"
             ]
            ],
            "type": "histogram2d"
           }
          ],
          "histogram2dcontour": [
           {
            "colorbar": {
             "outlinewidth": 0,
             "ticks": ""
            },
            "colorscale": [
             [
              0,
              "#0d0887"
             ],
             [
              0.1111111111111111,
              "#46039f"
             ],
             [
              0.2222222222222222,
              "#7201a8"
             ],
             [
              0.3333333333333333,
              "#9c179e"
             ],
             [
              0.4444444444444444,
              "#bd3786"
             ],
             [
              0.5555555555555556,
              "#d8576b"
             ],
             [
              0.6666666666666666,
              "#ed7953"
             ],
             [
              0.7777777777777778,
              "#fb9f3a"
             ],
             [
              0.8888888888888888,
              "#fdca26"
             ],
             [
              1,
              "#f0f921"
             ]
            ],
            "type": "histogram2dcontour"
           }
          ],
          "mesh3d": [
           {
            "colorbar": {
             "outlinewidth": 0,
             "ticks": ""
            },
            "type": "mesh3d"
           }
          ],
          "parcoords": [
           {
            "line": {
             "colorbar": {
              "outlinewidth": 0,
              "ticks": ""
             }
            },
            "type": "parcoords"
           }
          ],
          "pie": [
           {
            "automargin": true,
            "type": "pie"
           }
          ],
          "scatter": [
           {
            "fillpattern": {
             "fillmode": "overlay",
             "size": 10,
             "solidity": 0.2
            },
            "type": "scatter"
           }
          ],
          "scatter3d": [
           {
            "line": {
             "colorbar": {
              "outlinewidth": 0,
              "ticks": ""
             }
            },
            "marker": {
             "colorbar": {
              "outlinewidth": 0,
              "ticks": ""
             }
            },
            "type": "scatter3d"
           }
          ],
          "scattercarpet": [
           {
            "marker": {
             "colorbar": {
              "outlinewidth": 0,
              "ticks": ""
             }
            },
            "type": "scattercarpet"
           }
          ],
          "scattergeo": [
           {
            "marker": {
             "colorbar": {
              "outlinewidth": 0,
              "ticks": ""
             }
            },
            "type": "scattergeo"
           }
          ],
          "scattergl": [
           {
            "marker": {
             "colorbar": {
              "outlinewidth": 0,
              "ticks": ""
             }
            },
            "type": "scattergl"
           }
          ],
          "scattermapbox": [
           {
            "marker": {
             "colorbar": {
              "outlinewidth": 0,
              "ticks": ""
             }
            },
            "type": "scattermapbox"
           }
          ],
          "scatterpolar": [
           {
            "marker": {
             "colorbar": {
              "outlinewidth": 0,
              "ticks": ""
             }
            },
            "type": "scatterpolar"
           }
          ],
          "scatterpolargl": [
           {
            "marker": {
             "colorbar": {
              "outlinewidth": 0,
              "ticks": ""
             }
            },
            "type": "scatterpolargl"
           }
          ],
          "scatterternary": [
           {
            "marker": {
             "colorbar": {
              "outlinewidth": 0,
              "ticks": ""
             }
            },
            "type": "scatterternary"
           }
          ],
          "surface": [
           {
            "colorbar": {
             "outlinewidth": 0,
             "ticks": ""
            },
            "colorscale": [
             [
              0,
              "#0d0887"
             ],
             [
              0.1111111111111111,
              "#46039f"
             ],
             [
              0.2222222222222222,
              "#7201a8"
             ],
             [
              0.3333333333333333,
              "#9c179e"
             ],
             [
              0.4444444444444444,
              "#bd3786"
             ],
             [
              0.5555555555555556,
              "#d8576b"
             ],
             [
              0.6666666666666666,
              "#ed7953"
             ],
             [
              0.7777777777777778,
              "#fb9f3a"
             ],
             [
              0.8888888888888888,
              "#fdca26"
             ],
             [
              1,
              "#f0f921"
             ]
            ],
            "type": "surface"
           }
          ],
          "table": [
           {
            "cells": {
             "fill": {
              "color": "#EBF0F8"
             },
             "line": {
              "color": "white"
             }
            },
            "header": {
             "fill": {
              "color": "#C8D4E3"
             },
             "line": {
              "color": "white"
             }
            },
            "type": "table"
           }
          ]
         },
         "layout": {
          "annotationdefaults": {
           "arrowcolor": "#2a3f5f",
           "arrowhead": 0,
           "arrowwidth": 1
          },
          "autotypenumbers": "strict",
          "coloraxis": {
           "colorbar": {
            "outlinewidth": 0,
            "ticks": ""
           }
          },
          "colorscale": {
           "diverging": [
            [
             0,
             "#8e0152"
            ],
            [
             0.1,
             "#c51b7d"
            ],
            [
             0.2,
             "#de77ae"
            ],
            [
             0.3,
             "#f1b6da"
            ],
            [
             0.4,
             "#fde0ef"
            ],
            [
             0.5,
             "#f7f7f7"
            ],
            [
             0.6,
             "#e6f5d0"
            ],
            [
             0.7,
             "#b8e186"
            ],
            [
             0.8,
             "#7fbc41"
            ],
            [
             0.9,
             "#4d9221"
            ],
            [
             1,
             "#276419"
            ]
           ],
           "sequential": [
            [
             0,
             "#0d0887"
            ],
            [
             0.1111111111111111,
             "#46039f"
            ],
            [
             0.2222222222222222,
             "#7201a8"
            ],
            [
             0.3333333333333333,
             "#9c179e"
            ],
            [
             0.4444444444444444,
             "#bd3786"
            ],
            [
             0.5555555555555556,
             "#d8576b"
            ],
            [
             0.6666666666666666,
             "#ed7953"
            ],
            [
             0.7777777777777778,
             "#fb9f3a"
            ],
            [
             0.8888888888888888,
             "#fdca26"
            ],
            [
             1,
             "#f0f921"
            ]
           ],
           "sequentialminus": [
            [
             0,
             "#0d0887"
            ],
            [
             0.1111111111111111,
             "#46039f"
            ],
            [
             0.2222222222222222,
             "#7201a8"
            ],
            [
             0.3333333333333333,
             "#9c179e"
            ],
            [
             0.4444444444444444,
             "#bd3786"
            ],
            [
             0.5555555555555556,
             "#d8576b"
            ],
            [
             0.6666666666666666,
             "#ed7953"
            ],
            [
             0.7777777777777778,
             "#fb9f3a"
            ],
            [
             0.8888888888888888,
             "#fdca26"
            ],
            [
             1,
             "#f0f921"
            ]
           ]
          },
          "colorway": [
           "#636efa",
           "#EF553B",
           "#00cc96",
           "#ab63fa",
           "#FFA15A",
           "#19d3f3",
           "#FF6692",
           "#B6E880",
           "#FF97FF",
           "#FECB52"
          ],
          "font": {
           "color": "#2a3f5f"
          },
          "geo": {
           "bgcolor": "white",
           "lakecolor": "white",
           "landcolor": "#E5ECF6",
           "showlakes": true,
           "showland": true,
           "subunitcolor": "white"
          },
          "hoverlabel": {
           "align": "left"
          },
          "hovermode": "closest",
          "mapbox": {
           "style": "light"
          },
          "paper_bgcolor": "white",
          "plot_bgcolor": "#E5ECF6",
          "polar": {
           "angularaxis": {
            "gridcolor": "white",
            "linecolor": "white",
            "ticks": ""
           },
           "bgcolor": "#E5ECF6",
           "radialaxis": {
            "gridcolor": "white",
            "linecolor": "white",
            "ticks": ""
           }
          },
          "scene": {
           "xaxis": {
            "backgroundcolor": "#E5ECF6",
            "gridcolor": "white",
            "gridwidth": 2,
            "linecolor": "white",
            "showbackground": true,
            "ticks": "",
            "zerolinecolor": "white"
           },
           "yaxis": {
            "backgroundcolor": "#E5ECF6",
            "gridcolor": "white",
            "gridwidth": 2,
            "linecolor": "white",
            "showbackground": true,
            "ticks": "",
            "zerolinecolor": "white"
           },
           "zaxis": {
            "backgroundcolor": "#E5ECF6",
            "gridcolor": "white",
            "gridwidth": 2,
            "linecolor": "white",
            "showbackground": true,
            "ticks": "",
            "zerolinecolor": "white"
           }
          },
          "shapedefaults": {
           "line": {
            "color": "#2a3f5f"
           }
          },
          "ternary": {
           "aaxis": {
            "gridcolor": "white",
            "linecolor": "white",
            "ticks": ""
           },
           "baxis": {
            "gridcolor": "white",
            "linecolor": "white",
            "ticks": ""
           },
           "bgcolor": "#E5ECF6",
           "caxis": {
            "gridcolor": "white",
            "linecolor": "white",
            "ticks": ""
           }
          },
          "title": {
           "x": 0.05
          },
          "xaxis": {
           "automargin": true,
           "gridcolor": "white",
           "linecolor": "white",
           "ticks": "",
           "title": {
            "standoff": 15
           },
           "zerolinecolor": "white",
           "zerolinewidth": 2
          },
          "yaxis": {
           "automargin": true,
           "gridcolor": "white",
           "linecolor": "white",
           "ticks": "",
           "title": {
            "standoff": 15
           },
           "zerolinecolor": "white",
           "zerolinewidth": 2
          }
         }
        },
        "title": {
         "text": "NFL Team-History"
        },
        "xaxis": {
         "anchor": "y",
         "domain": [
          0,
          1
         ],
         "title": {
          "text": "Year"
         }
        },
        "yaxis": {
         "anchor": "x",
         "domain": [
          0,
          1
         ],
         "range": [
          0,
          35
         ],
         "title": {
          "text": "# of Teams in the NFL"
         }
        }
       }
      }
     },
     "metadata": {},
     "output_type": "display_data"
    }
   ],
   "source": [
    "teams_df = pd.read_csv(\"data/teams.csv\")\n",
    "\n",
    "x = range(1920,2025)\n",
    "y1 = [teams_df[(teams_df[\"is_latest_name\"] == 1) & (year >= teams_df[\"first_year\"]) & (year <= teams_df[\"last_year\"])][\"team_id\"].count() for year in x]\n",
    "y2 = [teams_df[(teams_df[\"is_latest_name\"] == 1) & (year >= teams_df[\"first_year\"]) & (2024 == teams_df[\"last_year\"])][\"team_id\"].count() for year in x]\n",
    "\n",
    "data = pd.DataFrame({\"year\": x,\"#1\": y1,\"#2\":y2})\n",
    "\n",
    "fig = px.line(data,\n",
    "              x=\"year\",\n",
    "              y=\"#1\",\n",
    "              range_y=[0,35],\n",
    "              hover_name=\"year\",\n",
    "              hover_data={\"#1\":True,\"#2\": True,\"year\":False},\n",
    "              color_discrete_sequence=[\"#013369\"],\n",
    "              labels={\"year\": \"Year\",\"#1\": \"# of Teams in the NFL\",\"#2\": \"# of Teams currently in the NFL\"},\n",
    "              title=\"NFL Team-History\")\n",
    "\n",
    "fig.add_scatter(\n",
    "              x=data[\"year\"],\n",
    "              y=data[\"#2\"],\n",
    "              hoverinfo=\"skip\",\n",
    "              name=\"# of Teams currently in the NFL\",\n",
    "              line={\"dash\": \"dash\", \"color\": \"#d50a0a\"},\n",
    "              mode=\"lines\")\n",
    "\n",
    "fig.show()"
   ]
  },
  {
   "cell_type": "code",
   "execution_count": 155,
   "metadata": {},
   "outputs": [
    {
     "data": {
      "application/vnd.plotly.v1+json": {
       "config": {
        "plotlyServerURL": "https://plot.ly"
       },
       "data": [
        {
         "alignmentgroup": "True",
         "base": [
          "1920-07-01",
          "1944-07-01",
          "1945-07-01",
          "1960-07-01",
          "1988-07-01",
          "1920-07-01",
          "1921-07-01",
          "1930-07-01",
          "1953-07-01",
          "1960-07-01",
          "1960-07-01",
          "1982-07-01",
          "1995-07-01",
          "1960-07-01",
          "1961-07-01",
          "1937-07-01",
          "1946-07-01",
          "1995-07-01",
          "1960-07-01",
          "1960-07-01",
          "1933-07-01",
          "1943-07-01",
          "1933-07-01",
          "1940-07-01",
          "1943-07-01",
          "1944-07-01",
          "1960-07-01",
          "1997-07-01",
          "1932-07-01",
          "1933-07-01",
          "1937-07-01",
          "2020-07-01",
          "1920-07-01",
          "1926-07-01",
          "1947-07-01",
          "1925-07-01",
          "1929-07-01",
          "1944-07-01",
          "1945-07-01",
          "1946-07-01",
          "1946-07-01",
          "1926-07-01",
          "1930-07-01",
          "1944-07-01",
          "1946-07-01",
          "1947-07-01",
          "1920-07-01",
          "1924-07-01",
          "1926-07-01",
          "1927-07-01",
          "1920-07-01",
          "1946-07-01",
          "1949-07-01",
          "1920-07-01",
          "1921-07-01",
          "1933-07-01",
          "1923-07-01",
          "1924-07-01",
          "1931-07-01",
          "1920-07-01",
          "1921-07-01",
          "1920-07-01",
          "1923-07-01",
          "1952-07-01",
          "1920-07-01",
          "1920-07-01",
          "1925-07-01",
          "1921-07-01",
          "1928-07-01",
          "1923-07-01",
          "1926-07-01",
          "1921-07-01",
          "1924-07-01",
          "1920-07-01",
          "1926-07-01",
          "1924-07-01",
          "1925-07-01",
          "1924-07-01",
          "1926-07-01",
          "1946-07-01",
          "1921-07-01",
          "1926-07-01",
          "1946-07-01",
          "1922-07-01",
          "1921-07-01",
          "1929-07-01",
          "1920-07-01",
          "1921-07-01",
          "1946-07-01",
          "1927-07-01",
          "1949-07-01",
          "1950-07-01",
          "1929-07-01",
          "1930-07-01",
          "1922-07-01",
          "1925-07-01",
          "1922-07-01",
          "1926-07-01",
          "1920-07-01",
          "1920-07-01",
          "1923-07-01",
          "1934-07-01",
          "1929-07-01",
          "1922-07-01",
          "1921-07-01",
          "1921-07-01"
         ],
         "customdata": [
          [
           "Chicago Cardinals",
           "1",
           "1920/21",
           "1943/44"
          ],
          [
           "Chi/Pit Cards/Steelers",
           "1",
           "1944/45",
           "1944/45"
          ],
          [
           "Chicago Cardinals",
           "1",
           "1945/46",
           "1959/60"
          ],
          [
           "St. Louis Cardinals",
           "1",
           "1960/61",
           "1987/88"
          ],
          [
           "Phoenix Cardinals",
           "1",
           "1988/89",
           "1993/94"
          ],
          [
           "Decatur Staleys",
           "6",
           "1920/21",
           "1920/21"
          ],
          [
           "Chicago Staleys",
           "6",
           "1921/22",
           "1921/22"
          ],
          [
           "Portsmouth Spartans",
           "11",
           "1930/31",
           "1933/34"
          ],
          [
           "Baltimore Colts",
           "14",
           "1953/54",
           "1983/84"
          ],
          [
           "Dallas Texans",
           "16",
           "1960/61",
           "1962/63"
          ],
          [
           "Oakland Raiders",
           "17",
           "1960/61",
           "1981/82"
          ],
          [
           "Los Angeles Raiders",
           "17",
           "1982/83",
           "1994/95"
          ],
          [
           "Oakland Raiders",
           "17",
           "1995/96",
           "2019/20"
          ],
          [
           "Los Angeles Chargers",
           "18",
           "1960/61",
           "1960/61"
          ],
          [
           "San Diego Chargers",
           "18",
           "1961/62",
           "2016/17"
          ],
          [
           "Cleveland Rams",
           "19",
           "1937/38",
           "1945/46"
          ],
          [
           "Los Angeles Rams",
           "19",
           "1946/47",
           "1994/95"
          ],
          [
           "St. Louis Rams",
           "19",
           "1995/96",
           "2015/16"
          ],
          [
           "Boston Patriots",
           "22",
           "1960/61",
           "1970/71"
          ],
          [
           "New York Titans",
           "25",
           "1960/61",
           "1962/63"
          ],
          [
           "Philadelphia Eagles",
           "26",
           "1933/34",
           "1942/43"
          ],
          [
           "Phi/Pit Eagles/Steelers",
           "26",
           "1943/44",
           "1943/44"
          ],
          [
           "Pittsburgh Pirates",
           "27",
           "1933/34",
           "1939/40"
          ],
          [
           "Pittsburgh Steelers",
           "27",
           "1940/41",
           "1942/43"
          ],
          [
           "Phi/Pit Eagles/Steelers",
           "27",
           "1943/44",
           "1943/44"
          ],
          [
           "Chi/Pit Cards/Steelers",
           "27",
           "1944/45",
           "1944/45"
          ],
          [
           "Houston Oilers",
           "31",
           "1960/61",
           "1996/97"
          ],
          [
           "Tennessee Oilers",
           "31",
           "1997/98",
           "1998/99"
          ],
          [
           "Boston Braves",
           "32",
           "1932/33",
           "1932/33"
          ],
          [
           "Boston Redskins",
           "32",
           "1933/34",
           "1936/37"
          ],
          [
           "Washington Redskins",
           "32",
           "1937/38",
           "2019/20"
          ],
          [
           "Washington Football Team",
           "32",
           "2020/21",
           "2021/22"
          ],
          [
           "Akron Pros",
           "33",
           "1920/21",
           "1925/26"
          ],
          [
           "Akron Indians",
           "33",
           "1926/27",
           "1926/27"
          ],
          [
           "Baltimore Colts",
           "34",
           "1947/48",
           "1950/51"
          ],
          [
           "Pottsville Maroons",
           "35",
           "1925/26",
           "1928/29"
          ],
          [
           "Boston Bulldogs",
           "35",
           "1929/30",
           "1929/30"
          ],
          [
           "Boston Yanks",
           "36",
           "1944/45",
           "1944/45"
          ],
          [
           "Bos/Bkn Yanks/Tigers",
           "36",
           "1945/46",
           "1945/46"
          ],
          [
           "Boston Yanks",
           "36",
           "1946/47",
           "1948/49"
          ],
          [
           "Brooklyn Dodgers",
           "37",
           "1946/47",
           "1948/49"
          ],
          [
           "Brooklyn Lions",
           "38",
           "1926/27",
           "1926/27"
          ],
          [
           "Brooklyn Dodgers",
           "39",
           "1930/31",
           "1943/44"
          ],
          [
           "Brooklyn Tigers",
           "39",
           "1944/45",
           "1944/45"
          ],
          [
           "Buffalo Bisons",
           "40",
           "1946/47",
           "1946/47"
          ],
          [
           "Buffalo Bills",
           "40",
           "1947/48",
           "1949/50"
          ],
          [
           "Buffalo All-Americans",
           "41",
           "1920/21",
           "1923/24"
          ],
          [
           "Buffalo Bisons",
           "41",
           "1924/25",
           "1925/26"
          ],
          [
           "Buffalo Rangers",
           "41",
           "1926/27",
           "1926/27"
          ],
          [
           "Buffalo Bisons",
           "41",
           "1927/28",
           "1929/30"
          ],
          [
           "Canton Bulldogs",
           "42",
           "1920/21",
           "1926/27"
          ],
          [
           "Chicago Rockets",
           "43",
           "1946/47",
           "1948/49"
          ],
          [
           "Chicago Hornets",
           "43",
           "1949/50",
           "1949/50"
          ],
          [
           "Chicago Tigers",
           "44",
           "1920/21",
           "1920/21"
          ],
          [
           "Cincinnati Celts",
           "45",
           "1921/22",
           "1921/22"
          ],
          [
           "Cincinnati Reds",
           "46",
           "1933/34",
           "1934/35"
          ],
          [
           "Cleveland Indians",
           "47",
           "1923/24",
           "1923/24"
          ],
          [
           "Cleveland Bulldogs",
           "47",
           "1924/25",
           "1927/28"
          ],
          [
           "Cleveland Indians",
           "48",
           "1931/32",
           "1931/32"
          ],
          [
           "Cleveland Tigers",
           "49",
           "1920/21",
           "1920/21"
          ],
          [
           "Cleveland Indians",
           "49",
           "1921/22",
           "1921/22"
          ],
          [
           "Columbus Panhandles",
           "50",
           "1920/21",
           "1922/23"
          ],
          [
           "Columbus Tigers",
           "50",
           "1923/24",
           "1926/27"
          ],
          [
           "Dallas Texans",
           "51",
           "1952/53",
           "1952/53"
          ],
          [
           "Dayton Triangles",
           "52",
           "1920/21",
           "1929/30"
          ],
          [
           "Detroit Heralds",
           "53",
           "1920/21",
           "1920/21"
          ],
          [
           "Detroit Panthers",
           "54",
           "1925/26",
           "1926/27"
          ],
          [
           "Detroit Tigers",
           "55",
           "1921/22",
           "1921/22"
          ],
          [
           "Detroit Wolverines",
           "56",
           "1928/29",
           "1928/29"
          ],
          [
           "Duluth Kelleys",
           "57",
           "1923/24",
           "1925/26"
          ],
          [
           "Duluth Eskimos",
           "57",
           "1926/27",
           "1927/28"
          ],
          [
           "Evansville Crimson Giants",
           "58",
           "1921/22",
           "1922/23"
          ],
          [
           "Frankford Yellow Jackets",
           "59",
           "1924/25",
           "1931/32"
          ],
          [
           "Hammond Pros",
           "60",
           "1920/21",
           "1926/27"
          ],
          [
           "Hartford Blues",
           "61",
           "1926/27",
           "1926/27"
          ],
          [
           "Kansas City Blues",
           "62",
           "1924/25",
           "1924/25"
          ],
          [
           "Kansas City Cowboys",
           "62",
           "1925/26",
           "1926/27"
          ],
          [
           "Kenosha Maroons",
           "63",
           "1924/25",
           "1924/25"
          ],
          [
           "Los Angeles Buccaneers",
           "64",
           "1926/27",
           "1926/27"
          ],
          [
           "Los Angeles Dons",
           "65",
           "1946/47",
           "1949/50"
          ],
          [
           "Louisville Brecks",
           "66",
           "1921/22",
           "1923/24"
          ],
          [
           "Louisville Colonels",
           "66",
           "1926/27",
           "1926/27"
          ],
          [
           "Miami Seahawks",
           "67",
           "1946/47",
           "1946/47"
          ],
          [
           "Milwaukee Badgers",
           "68",
           "1922/23",
           "1926/27"
          ],
          [
           "Minneapolis Marines",
           "69",
           "1921/22",
           "1924/25"
          ],
          [
           "Minneapolis Red Jackets",
           "69",
           "1929/30",
           "1930/31"
          ],
          [
           "Muncie Flyers",
           "70",
           "1920/21",
           "1921/22"
          ],
          [
           "New York Brickley Giants",
           "71",
           "1921/22",
           "1921/22"
          ],
          [
           "New York Yankees",
           "72",
           "1946/47",
           "1949/50"
          ],
          [
           "New York Yankees",
           "73",
           "1927/28",
           "1928/29"
          ],
          [
           "New York Bulldogs",
           "74",
           "1949/50",
           "1949/50"
          ],
          [
           "New York Yanks",
           "74",
           "1950/51",
           "1951/52"
          ],
          [
           "Orange Tornadoes",
           "75",
           "1929/30",
           "1929/30"
          ],
          [
           "Newark Tornadoes",
           "75",
           "1930/31",
           "1930/31"
          ],
          [
           "Oorang Indians",
           "76",
           "1922/23",
           "1923/24"
          ],
          [
           "Providence Steam Roller",
           "77",
           "1925/26",
           "1931/32"
          ],
          [
           "Racine Legion",
           "78",
           "1922/23",
           "1924/25"
          ],
          [
           "Racine Tornadoes",
           "78",
           "1926/27",
           "1926/27"
          ],
          [
           "Rochester Jeffersons",
           "79",
           "1920/21",
           "1925/26"
          ],
          [
           "Rock Island Independents",
           "80",
           "1920/21",
           "1925/26"
          ],
          [
           "St. Louis All-Stars",
           "81",
           "1923/24",
           "1923/24"
          ],
          [
           "St. Louis Gunners",
           "82",
           "1934/35",
           "1934/35"
          ],
          [
           "Staten Island Stapletons",
           "83",
           "1929/30",
           "1932/33"
          ],
          [
           "Toledo Maroons",
           "84",
           "1922/23",
           "1923/24"
          ],
          [
           "Tonawanda Kardex",
           "85",
           "1921/22",
           "1921/22"
          ],
          [
           "Washington Senators",
           "86",
           "1921/22",
           "1921/22"
          ]
         ],
         "hovertemplate": "<b>%{customdata[0]} </b><br><br>First Season: %{customdata[2]}<br>Last Season: %{customdata[3]}<extra><b>(%{customdata[1]})</b></extra>",
         "legendgroup": "False",
         "marker": {
          "color": "#d50a0a",
          "pattern": {
           "shape": ""
          }
         },
         "name": "False",
         "offsetgroup": "False",
         "orientation": "h",
         "showlegend": true,
         "textposition": "auto",
         "type": "bar",
         "x": [
          757296000000,
          31449600000,
          473299200000,
          883526400000,
          189216000000,
          31449600000,
          31449600000,
          126144000000,
          978220800000,
          94521600000,
          694137600000,
          410140800000,
          788918400000,
          31449600000,
          1767139200000,
          283910400000,
          1546214400000,
          662688000000,
          346982400000,
          94521600000,
          315446400000,
          31536000000,
          220838400000,
          94521600000,
          31536000000,
          31449600000,
          1167523200000,
          62985600000,
          31449600000,
          126144000000,
          2619216000000,
          62985600000,
          189216000000,
          31449600000,
          126144000000,
          126144000000,
          31449600000,
          31449600000,
          31449600000,
          94608000000,
          94608000000,
          31449600000,
          441763200000,
          31449600000,
          31449600000,
          94608000000,
          126144000000,
          62985600000,
          31449600000,
          94608000000,
          220752000000,
          94608000000,
          31449600000,
          31449600000,
          31449600000,
          62985600000,
          31536000000,
          126144000000,
          31536000000,
          31449600000,
          31449600000,
          94521600000,
          126144000000,
          31449600000,
          315446400000,
          31449600000,
          62985600000,
          31449600000,
          31449600000,
          94608000000,
          63072000000,
          62985600000,
          252374400000,
          220752000000,
          31449600000,
          31449600000,
          62985600000,
          31449600000,
          31449600000,
          126144000000,
          94608000000,
          31449600000,
          31449600000,
          157680000000,
          126144000000,
          62985600000,
          62985600000,
          31449600000,
          126144000000,
          63072000000,
          31449600000,
          63072000000,
          31449600000,
          31449600000,
          63072000000,
          220838400000,
          94608000000,
          31449600000,
          189216000000,
          189216000000,
          31536000000,
          31449600000,
          126144000000,
          63072000000,
          31449600000,
          31449600000
         ],
         "xaxis": "x",
         "y": [
          "1",
          "1",
          "1",
          "1",
          "1",
          "6",
          "6",
          "11",
          "14",
          "16",
          "17",
          "17",
          "17",
          "18",
          "18",
          "19",
          "19",
          "19",
          "22",
          "25",
          "26",
          "26",
          "27",
          "27",
          "27",
          "27",
          "31",
          "31",
          "32",
          "32",
          "32",
          "32",
          "33",
          "33",
          "34",
          "35",
          "35",
          "36",
          "36",
          "36",
          "37",
          "38",
          "39",
          "39",
          "40",
          "40",
          "41",
          "41",
          "41",
          "41",
          "42",
          "43",
          "43",
          "44",
          "45",
          "46",
          "47",
          "47",
          "48",
          "49",
          "49",
          "50",
          "50",
          "51",
          "52",
          "53",
          "54",
          "55",
          "56",
          "57",
          "57",
          "58",
          "59",
          "60",
          "61",
          "62",
          "62",
          "63",
          "64",
          "65",
          "66",
          "66",
          "67",
          "68",
          "69",
          "69",
          "70",
          "71",
          "72",
          "73",
          "74",
          "74",
          "75",
          "75",
          "76",
          "77",
          "78",
          "78",
          "79",
          "80",
          "81",
          "82",
          "83",
          "84",
          "85",
          "86"
         ],
         "yaxis": "y"
        },
        {
         "alignmentgroup": "True",
         "base": [
          "1994-07-01",
          "1966-07-01",
          "1996-07-01",
          "1960-07-01",
          "1995-07-01",
          "1922-07-01",
          "1968-07-01",
          "1946-07-01",
          "1960-07-01",
          "1960-07-01",
          "1934-07-01",
          "1921-07-01",
          "2002-07-01",
          "1984-07-01",
          "1995-07-01",
          "1963-07-01",
          "2020-07-01",
          "2017-07-01",
          "2016-07-01",
          "1966-07-01",
          "1961-07-01",
          "1971-07-01",
          "1967-07-01",
          "1925-07-01",
          "1963-07-01",
          "1944-07-01",
          "1945-07-01",
          "1946-07-01",
          "1976-07-01",
          "1976-07-01",
          "1999-07-01",
          "2022-07-01"
         ],
         "customdata": [
          [
           "Arizona Cardinals",
           "1",
           "1994/95",
           "2024/25"
          ],
          [
           "Atlanta Falcons",
           "2",
           "1966/67",
           "2024/25"
          ],
          [
           "Baltimore Ravens",
           "3",
           "1996/97",
           "2024/25"
          ],
          [
           "Buffalo Bills",
           "4",
           "1960/61",
           "2024/25"
          ],
          [
           "Carolina Panthers",
           "5",
           "1995/96",
           "2024/25"
          ],
          [
           "Chicago Bears",
           "6",
           "1922/23",
           "2024/25"
          ],
          [
           "Cincinnati Bengals",
           "7",
           "1968/69",
           "2024/25"
          ],
          [
           "Cleveland Browns",
           "8",
           "1946/47",
           "2024/25"
          ],
          [
           "Dallas Cowboys",
           "9",
           "1960/61",
           "2024/25"
          ],
          [
           "Denver Broncos",
           "10",
           "1960/61",
           "2024/25"
          ],
          [
           "Detroit Lions",
           "11",
           "1934/35",
           "2024/25"
          ],
          [
           "Green Bay Packers",
           "12",
           "1921/22",
           "2024/25"
          ],
          [
           "Houston Texans",
           "13",
           "2002/03",
           "2024/25"
          ],
          [
           "Indianapolis Colts",
           "14",
           "1984/85",
           "2024/25"
          ],
          [
           "Jacksonville Jaguars",
           "15",
           "1995/96",
           "2024/25"
          ],
          [
           "Kansas City Chiefs",
           "16",
           "1963/64",
           "2024/25"
          ],
          [
           "Las Vegas Raiders",
           "17",
           "2020/21",
           "2024/25"
          ],
          [
           "Los Angeles Chargers",
           "18",
           "2017/18",
           "2024/25"
          ],
          [
           "Los Angeles Rams",
           "19",
           "2016/17",
           "2024/25"
          ],
          [
           "Miami Dolphins",
           "20",
           "1966/67",
           "2024/25"
          ],
          [
           "Minnesota Vikings",
           "21",
           "1961/62",
           "2024/25"
          ],
          [
           "New England Patriots",
           "22",
           "1971/72",
           "2024/25"
          ],
          [
           "New Orleans Saints",
           "23",
           "1967/68",
           "2024/25"
          ],
          [
           "New York Giants",
           "24",
           "1925/26",
           "2024/25"
          ],
          [
           "New York Jets",
           "25",
           "1963/64",
           "2024/25"
          ],
          [
           "Philadelphia Eagles",
           "26",
           "1944/45",
           "2024/25"
          ],
          [
           "Pittsburgh Steelers",
           "27",
           "1945/46",
           "2024/25"
          ],
          [
           "San Francisco 49ers",
           "28",
           "1946/47",
           "2024/25"
          ],
          [
           "Seattle Seahawks",
           "29",
           "1976/77",
           "2024/25"
          ],
          [
           "Tampa Bay Buccaneers",
           "30",
           "1976/77",
           "2024/25"
          ],
          [
           "Tennessee Titans",
           "31",
           "1999/00",
           "2024/25"
          ],
          [
           "Washington Commanders",
           "32",
           "2022/23",
           "2024/25"
          ]
         ],
         "hovertemplate": "<b>%{customdata[0]} </b><br><br>First Season: %{customdata[2]}<br>Last Season: %{customdata[3]}<extra><b>(%{customdata[1]})</b></extra>",
         "legendgroup": "True",
         "marker": {
          "color": "#013369",
          "pattern": {
           "shape": ""
          }
         },
         "name": "True",
         "offsetgroup": "True",
         "orientation": "h",
         "showlegend": true,
         "textposition": "auto",
         "type": "bar",
         "x": [
          978220800000,
          1861833600000,
          915062400000,
          2051136000000,
          946684800000,
          3250368000000,
          1798675200000,
          2492985600000,
          2051136000000,
          2051136000000,
          2871676800000,
          3281904000000,
          725760000000,
          1293753600000,
          946684800000,
          1956528000000,
          157680000000,
          252374400000,
          283910400000,
          1861833600000,
          2019600000000,
          1704067200000,
          1830297600000,
          3155673600000,
          1956528000000,
          2556057600000,
          2524521600000,
          2492985600000,
          1546214400000,
          1546214400000,
          820454400000,
          94608000000
         ],
         "xaxis": "x",
         "y": [
          "1",
          "2",
          "3",
          "4",
          "5",
          "6",
          "7",
          "8",
          "9",
          "10",
          "11",
          "12",
          "13",
          "14",
          "15",
          "16",
          "17",
          "18",
          "19",
          "20",
          "21",
          "22",
          "23",
          "24",
          "25",
          "26",
          "27",
          "28",
          "29",
          "30",
          "31",
          "32"
         ],
         "yaxis": "y"
        }
       ],
       "layout": {
        "barmode": "overlay",
        "height": 900,
        "legend": {
         "title": {
          "text": "Still active?"
         },
         "tracegroupgap": 0
        },
        "template": {
         "data": {
          "bar": [
           {
            "error_x": {
             "color": "#2a3f5f"
            },
            "error_y": {
             "color": "#2a3f5f"
            },
            "marker": {
             "line": {
              "color": "#E5ECF6",
              "width": 0.5
             },
             "pattern": {
              "fillmode": "overlay",
              "size": 10,
              "solidity": 0.2
             }
            },
            "type": "bar"
           }
          ],
          "barpolar": [
           {
            "marker": {
             "line": {
              "color": "#E5ECF6",
              "width": 0.5
             },
             "pattern": {
              "fillmode": "overlay",
              "size": 10,
              "solidity": 0.2
             }
            },
            "type": "barpolar"
           }
          ],
          "carpet": [
           {
            "aaxis": {
             "endlinecolor": "#2a3f5f",
             "gridcolor": "white",
             "linecolor": "white",
             "minorgridcolor": "white",
             "startlinecolor": "#2a3f5f"
            },
            "baxis": {
             "endlinecolor": "#2a3f5f",
             "gridcolor": "white",
             "linecolor": "white",
             "minorgridcolor": "white",
             "startlinecolor": "#2a3f5f"
            },
            "type": "carpet"
           }
          ],
          "choropleth": [
           {
            "colorbar": {
             "outlinewidth": 0,
             "ticks": ""
            },
            "type": "choropleth"
           }
          ],
          "contour": [
           {
            "colorbar": {
             "outlinewidth": 0,
             "ticks": ""
            },
            "colorscale": [
             [
              0,
              "#0d0887"
             ],
             [
              0.1111111111111111,
              "#46039f"
             ],
             [
              0.2222222222222222,
              "#7201a8"
             ],
             [
              0.3333333333333333,
              "#9c179e"
             ],
             [
              0.4444444444444444,
              "#bd3786"
             ],
             [
              0.5555555555555556,
              "#d8576b"
             ],
             [
              0.6666666666666666,
              "#ed7953"
             ],
             [
              0.7777777777777778,
              "#fb9f3a"
             ],
             [
              0.8888888888888888,
              "#fdca26"
             ],
             [
              1,
              "#f0f921"
             ]
            ],
            "type": "contour"
           }
          ],
          "contourcarpet": [
           {
            "colorbar": {
             "outlinewidth": 0,
             "ticks": ""
            },
            "type": "contourcarpet"
           }
          ],
          "heatmap": [
           {
            "colorbar": {
             "outlinewidth": 0,
             "ticks": ""
            },
            "colorscale": [
             [
              0,
              "#0d0887"
             ],
             [
              0.1111111111111111,
              "#46039f"
             ],
             [
              0.2222222222222222,
              "#7201a8"
             ],
             [
              0.3333333333333333,
              "#9c179e"
             ],
             [
              0.4444444444444444,
              "#bd3786"
             ],
             [
              0.5555555555555556,
              "#d8576b"
             ],
             [
              0.6666666666666666,
              "#ed7953"
             ],
             [
              0.7777777777777778,
              "#fb9f3a"
             ],
             [
              0.8888888888888888,
              "#fdca26"
             ],
             [
              1,
              "#f0f921"
             ]
            ],
            "type": "heatmap"
           }
          ],
          "heatmapgl": [
           {
            "colorbar": {
             "outlinewidth": 0,
             "ticks": ""
            },
            "colorscale": [
             [
              0,
              "#0d0887"
             ],
             [
              0.1111111111111111,
              "#46039f"
             ],
             [
              0.2222222222222222,
              "#7201a8"
             ],
             [
              0.3333333333333333,
              "#9c179e"
             ],
             [
              0.4444444444444444,
              "#bd3786"
             ],
             [
              0.5555555555555556,
              "#d8576b"
             ],
             [
              0.6666666666666666,
              "#ed7953"
             ],
             [
              0.7777777777777778,
              "#fb9f3a"
             ],
             [
              0.8888888888888888,
              "#fdca26"
             ],
             [
              1,
              "#f0f921"
             ]
            ],
            "type": "heatmapgl"
           }
          ],
          "histogram": [
           {
            "marker": {
             "pattern": {
              "fillmode": "overlay",
              "size": 10,
              "solidity": 0.2
             }
            },
            "type": "histogram"
           }
          ],
          "histogram2d": [
           {
            "colorbar": {
             "outlinewidth": 0,
             "ticks": ""
            },
            "colorscale": [
             [
              0,
              "#0d0887"
             ],
             [
              0.1111111111111111,
              "#46039f"
             ],
             [
              0.2222222222222222,
              "#7201a8"
             ],
             [
              0.3333333333333333,
              "#9c179e"
             ],
             [
              0.4444444444444444,
              "#bd3786"
             ],
             [
              0.5555555555555556,
              "#d8576b"
             ],
             [
              0.6666666666666666,
              "#ed7953"
             ],
             [
              0.7777777777777778,
              "#fb9f3a"
             ],
             [
              0.8888888888888888,
              "#fdca26"
             ],
             [
              1,
              "#f0f921"
             ]
            ],
            "type": "histogram2d"
           }
          ],
          "histogram2dcontour": [
           {
            "colorbar": {
             "outlinewidth": 0,
             "ticks": ""
            },
            "colorscale": [
             [
              0,
              "#0d0887"
             ],
             [
              0.1111111111111111,
              "#46039f"
             ],
             [
              0.2222222222222222,
              "#7201a8"
             ],
             [
              0.3333333333333333,
              "#9c179e"
             ],
             [
              0.4444444444444444,
              "#bd3786"
             ],
             [
              0.5555555555555556,
              "#d8576b"
             ],
             [
              0.6666666666666666,
              "#ed7953"
             ],
             [
              0.7777777777777778,
              "#fb9f3a"
             ],
             [
              0.8888888888888888,
              "#fdca26"
             ],
             [
              1,
              "#f0f921"
             ]
            ],
            "type": "histogram2dcontour"
           }
          ],
          "mesh3d": [
           {
            "colorbar": {
             "outlinewidth": 0,
             "ticks": ""
            },
            "type": "mesh3d"
           }
          ],
          "parcoords": [
           {
            "line": {
             "colorbar": {
              "outlinewidth": 0,
              "ticks": ""
             }
            },
            "type": "parcoords"
           }
          ],
          "pie": [
           {
            "automargin": true,
            "type": "pie"
           }
          ],
          "scatter": [
           {
            "fillpattern": {
             "fillmode": "overlay",
             "size": 10,
             "solidity": 0.2
            },
            "type": "scatter"
           }
          ],
          "scatter3d": [
           {
            "line": {
             "colorbar": {
              "outlinewidth": 0,
              "ticks": ""
             }
            },
            "marker": {
             "colorbar": {
              "outlinewidth": 0,
              "ticks": ""
             }
            },
            "type": "scatter3d"
           }
          ],
          "scattercarpet": [
           {
            "marker": {
             "colorbar": {
              "outlinewidth": 0,
              "ticks": ""
             }
            },
            "type": "scattercarpet"
           }
          ],
          "scattergeo": [
           {
            "marker": {
             "colorbar": {
              "outlinewidth": 0,
              "ticks": ""
             }
            },
            "type": "scattergeo"
           }
          ],
          "scattergl": [
           {
            "marker": {
             "colorbar": {
              "outlinewidth": 0,
              "ticks": ""
             }
            },
            "type": "scattergl"
           }
          ],
          "scattermapbox": [
           {
            "marker": {
             "colorbar": {
              "outlinewidth": 0,
              "ticks": ""
             }
            },
            "type": "scattermapbox"
           }
          ],
          "scatterpolar": [
           {
            "marker": {
             "colorbar": {
              "outlinewidth": 0,
              "ticks": ""
             }
            },
            "type": "scatterpolar"
           }
          ],
          "scatterpolargl": [
           {
            "marker": {
             "colorbar": {
              "outlinewidth": 0,
              "ticks": ""
             }
            },
            "type": "scatterpolargl"
           }
          ],
          "scatterternary": [
           {
            "marker": {
             "colorbar": {
              "outlinewidth": 0,
              "ticks": ""
             }
            },
            "type": "scatterternary"
           }
          ],
          "surface": [
           {
            "colorbar": {
             "outlinewidth": 0,
             "ticks": ""
            },
            "colorscale": [
             [
              0,
              "#0d0887"
             ],
             [
              0.1111111111111111,
              "#46039f"
             ],
             [
              0.2222222222222222,
              "#7201a8"
             ],
             [
              0.3333333333333333,
              "#9c179e"
             ],
             [
              0.4444444444444444,
              "#bd3786"
             ],
             [
              0.5555555555555556,
              "#d8576b"
             ],
             [
              0.6666666666666666,
              "#ed7953"
             ],
             [
              0.7777777777777778,
              "#fb9f3a"
             ],
             [
              0.8888888888888888,
              "#fdca26"
             ],
             [
              1,
              "#f0f921"
             ]
            ],
            "type": "surface"
           }
          ],
          "table": [
           {
            "cells": {
             "fill": {
              "color": "#EBF0F8"
             },
             "line": {
              "color": "white"
             }
            },
            "header": {
             "fill": {
              "color": "#C8D4E3"
             },
             "line": {
              "color": "white"
             }
            },
            "type": "table"
           }
          ]
         },
         "layout": {
          "annotationdefaults": {
           "arrowcolor": "#2a3f5f",
           "arrowhead": 0,
           "arrowwidth": 1
          },
          "autotypenumbers": "strict",
          "coloraxis": {
           "colorbar": {
            "outlinewidth": 0,
            "ticks": ""
           }
          },
          "colorscale": {
           "diverging": [
            [
             0,
             "#8e0152"
            ],
            [
             0.1,
             "#c51b7d"
            ],
            [
             0.2,
             "#de77ae"
            ],
            [
             0.3,
             "#f1b6da"
            ],
            [
             0.4,
             "#fde0ef"
            ],
            [
             0.5,
             "#f7f7f7"
            ],
            [
             0.6,
             "#e6f5d0"
            ],
            [
             0.7,
             "#b8e186"
            ],
            [
             0.8,
             "#7fbc41"
            ],
            [
             0.9,
             "#4d9221"
            ],
            [
             1,
             "#276419"
            ]
           ],
           "sequential": [
            [
             0,
             "#0d0887"
            ],
            [
             0.1111111111111111,
             "#46039f"
            ],
            [
             0.2222222222222222,
             "#7201a8"
            ],
            [
             0.3333333333333333,
             "#9c179e"
            ],
            [
             0.4444444444444444,
             "#bd3786"
            ],
            [
             0.5555555555555556,
             "#d8576b"
            ],
            [
             0.6666666666666666,
             "#ed7953"
            ],
            [
             0.7777777777777778,
             "#fb9f3a"
            ],
            [
             0.8888888888888888,
             "#fdca26"
            ],
            [
             1,
             "#f0f921"
            ]
           ],
           "sequentialminus": [
            [
             0,
             "#0d0887"
            ],
            [
             0.1111111111111111,
             "#46039f"
            ],
            [
             0.2222222222222222,
             "#7201a8"
            ],
            [
             0.3333333333333333,
             "#9c179e"
            ],
            [
             0.4444444444444444,
             "#bd3786"
            ],
            [
             0.5555555555555556,
             "#d8576b"
            ],
            [
             0.6666666666666666,
             "#ed7953"
            ],
            [
             0.7777777777777778,
             "#fb9f3a"
            ],
            [
             0.8888888888888888,
             "#fdca26"
            ],
            [
             1,
             "#f0f921"
            ]
           ]
          },
          "colorway": [
           "#636efa",
           "#EF553B",
           "#00cc96",
           "#ab63fa",
           "#FFA15A",
           "#19d3f3",
           "#FF6692",
           "#B6E880",
           "#FF97FF",
           "#FECB52"
          ],
          "font": {
           "color": "#2a3f5f"
          },
          "geo": {
           "bgcolor": "white",
           "lakecolor": "white",
           "landcolor": "#E5ECF6",
           "showlakes": true,
           "showland": true,
           "subunitcolor": "white"
          },
          "hoverlabel": {
           "align": "left"
          },
          "hovermode": "closest",
          "mapbox": {
           "style": "light"
          },
          "paper_bgcolor": "white",
          "plot_bgcolor": "#E5ECF6",
          "polar": {
           "angularaxis": {
            "gridcolor": "white",
            "linecolor": "white",
            "ticks": ""
           },
           "bgcolor": "#E5ECF6",
           "radialaxis": {
            "gridcolor": "white",
            "linecolor": "white",
            "ticks": ""
           }
          },
          "scene": {
           "xaxis": {
            "backgroundcolor": "#E5ECF6",
            "gridcolor": "white",
            "gridwidth": 2,
            "linecolor": "white",
            "showbackground": true,
            "ticks": "",
            "zerolinecolor": "white"
           },
           "yaxis": {
            "backgroundcolor": "#E5ECF6",
            "gridcolor": "white",
            "gridwidth": 2,
            "linecolor": "white",
            "showbackground": true,
            "ticks": "",
            "zerolinecolor": "white"
           },
           "zaxis": {
            "backgroundcolor": "#E5ECF6",
            "gridcolor": "white",
            "gridwidth": 2,
            "linecolor": "white",
            "showbackground": true,
            "ticks": "",
            "zerolinecolor": "white"
           }
          },
          "shapedefaults": {
           "line": {
            "color": "#2a3f5f"
           }
          },
          "ternary": {
           "aaxis": {
            "gridcolor": "white",
            "linecolor": "white",
            "ticks": ""
           },
           "baxis": {
            "gridcolor": "white",
            "linecolor": "white",
            "ticks": ""
           },
           "bgcolor": "#E5ECF6",
           "caxis": {
            "gridcolor": "white",
            "linecolor": "white",
            "ticks": ""
           }
          },
          "title": {
           "x": 0.05
          },
          "xaxis": {
           "automargin": true,
           "gridcolor": "white",
           "linecolor": "white",
           "ticks": "",
           "title": {
            "standoff": 15
           },
           "zerolinecolor": "white",
           "zerolinewidth": 2
          },
          "yaxis": {
           "automargin": true,
           "gridcolor": "white",
           "linecolor": "white",
           "ticks": "",
           "title": {
            "standoff": 15
           },
           "zerolinecolor": "white",
           "zerolinewidth": 2
          }
         }
        },
        "title": {
         "text": "History of Teams in the NFL: Timeline"
        },
        "width": 1500,
        "xaxis": {
         "anchor": "y",
         "domain": [
          0,
          1
         ],
         "range": [
          "1920-01-01",
          "2032-12-31"
         ],
         "type": "date"
        },
        "yaxis": {
         "anchor": "x",
         "categoryarray": [
          "13",
          "3",
          "15",
          "5",
          "30",
          "29",
          "7",
          "23",
          "20",
          "2",
          "21",
          "17",
          "18",
          "31",
          "22",
          "25",
          "16",
          "10",
          "9",
          "4",
          "14",
          "28",
          "8",
          "19",
          "27",
          "26",
          "32",
          "11",
          "24",
          "12",
          "1",
          "6",
          "51",
          "74",
          "34",
          "43",
          "40",
          "72",
          "65",
          "37",
          "36",
          "67",
          "39",
          "82",
          "46",
          "83",
          "48",
          "77",
          "59",
          "75",
          "69",
          "35",
          "41",
          "52",
          "56",
          "73",
          "57",
          "47",
          "64",
          "61",
          "38",
          "54",
          "62",
          "78",
          "68",
          "66",
          "33",
          "50",
          "60",
          "42",
          "80",
          "79",
          "63",
          "81",
          "84",
          "76",
          "58",
          "86",
          "85",
          "71",
          "55",
          "45",
          "49",
          "70",
          "53",
          "44"
         ],
         "categoryorder": "array",
         "domain": [
          0,
          1
         ],
         "showticklabels": false,
         "title": {
          "text": "Team"
         }
        }
       }
      }
     },
     "metadata": {},
     "output_type": "display_data"
    }
   ],
   "source": [
    "teams_df = pd.read_csv(\"data/teams.csv\")\n",
    "\n",
    "teams_df[\"is_active\"] = [year == 2024 for year in teams_df[\"last_year\"]]\n",
    "teams_df[\"is_active\"] = teams_df[\"is_active\"].astype(str)\n",
    "teams_df[\"first_season\"] = [f\"{year}/{str(year + 1)[2:]}\" for year in teams_df[\"first_year\"]]\n",
    "teams_df[\"last_season\"] = [f\"{year}/{str(year + 1)[2:]}\" for year in teams_df[\"last_year\"]]\n",
    "teams_df[\"id_count\"] = [sum(j == i for j in teams_df[\"team_id\"]) for i in teams_df[\"team_id\"]]\n",
    "teams_df[\"first_year\"] = [f\"{year}-07-01\" for year in teams_df[\"first_year\"]]\n",
    "teams_df[\"last_year\"] = [f\"{year + 1}-06-30\" for year in teams_df[\"last_year\"]]\n",
    "teams_df[\"name_since\"] = [teams_df[teams_df[\"team_id\"] == i][\"first_year\"].max() for i in teams_df[\"team_id\"]]\n",
    "teams_df['team_id'] = teams_df['team_id'].astype(str)\n",
    "\n",
    "order = list(pd.unique(teams_df[teams_df[\"is_latest_name\"] == 1].sort_values(by=[\"last_year\",\"first_year\",\"name_since\"])[\"team_id\"]))\n",
    "\n",
    "teams_df = teams_df[(teams_df[\"is_latest_name\"] == 0) | (teams_df[\"id_count\"] == 1)]\n",
    "\n",
    "fig = px.timeline(\n",
    "    teams_df,\n",
    "\tx_start=\"first_year\",\n",
    "\tx_end=\"last_year\",\n",
    "\ty=\"team_id\",\n",
    "\tcolor=\"is_active\",\n",
    "\tcolor_discrete_sequence=[\"#d50a0a\",\"#013369\"],\n",
    "\tcategory_orders={'team_id': order},\n",
    "\trange_x=[\"1920-01-01\",\"2032-12-31\"],\n",
    "\tcustom_data=[\"team_name\",\"team_id\",\"first_season\",\"last_season\"],\n",
    "\tlabels={\n",
    "        \"team_id\": \"Team\",\n",
    "\t\t\"is_active\": \"Still active?\"},\n",
    "\twidth=1500,\n",
    "\theight=900,\n",
    "\ttitle=\"History of Teams in the NFL: Timeline\")\n",
    "\n",
    "fig.update_traces(hovertemplate=\"<b>%{customdata[0]} </b><br><br>First Season: %{customdata[2]}<br>Last Season: %{customdata[3]}<extra><b>(%{customdata[1]})</b></extra>\")\n",
    "fig.update_yaxes(showticklabels=False)\n",
    "\n",
    "fig.show()"
   ]
  },
  {
   "cell_type": "markdown",
   "metadata": {},
   "source": [
    "### SCORIGAMI"
   ]
  },
  {
   "cell_type": "code",
   "execution_count": null,
   "metadata": {},
   "outputs": [
    {
     "data": {
      "application/vnd.plotly.v1+json": {
       "config": {
        "plotlyServerURL": "https://plot.ly"
       },
       "data": [
        {
         "coloraxis": "coloraxis",
         "histfunc": "sum",
         "hovertemplate": "Score<br># Games <extra><b>%{x} - %{y}<br>%{z}</b></extra>",
         "name": "",
         "nbinsx": 100,
         "nbinsy": 100,
         "type": "histogram2d",
         "x": [
          0,
          2,
          3,
          3,
          3,
          5,
          5,
          6,
          6,
          6,
          6,
          7,
          7,
          7,
          7,
          7,
          7,
          8,
          8,
          8,
          8,
          9,
          9,
          9,
          9,
          9,
          9,
          10,
          10,
          10,
          10,
          10,
          10,
          10,
          10,
          10,
          10,
          11,
          11,
          11,
          11,
          11,
          11,
          12,
          12,
          12,
          12,
          12,
          12,
          12,
          12,
          13,
          13,
          13,
          13,
          13,
          13,
          13,
          13,
          13,
          13,
          13,
          14,
          14,
          14,
          14,
          14,
          14,
          14,
          14,
          14,
          14,
          14,
          14,
          15,
          15,
          15,
          15,
          15,
          15,
          15,
          15,
          15,
          16,
          16,
          16,
          16,
          16,
          16,
          16,
          16,
          16,
          16,
          16,
          16,
          16,
          17,
          17,
          17,
          17,
          17,
          17,
          17,
          17,
          17,
          17,
          17,
          17,
          17,
          17,
          17,
          18,
          18,
          18,
          18,
          18,
          18,
          18,
          18,
          18,
          18,
          18,
          19,
          19,
          19,
          19,
          19,
          19,
          19,
          19,
          19,
          19,
          19,
          19,
          19,
          19,
          19,
          19,
          19,
          20,
          20,
          20,
          20,
          20,
          20,
          20,
          20,
          20,
          20,
          20,
          20,
          20,
          20,
          20,
          20,
          20,
          21,
          21,
          21,
          21,
          21,
          21,
          21,
          21,
          21,
          21,
          21,
          21,
          21,
          21,
          21,
          21,
          21,
          21,
          21,
          22,
          22,
          22,
          22,
          22,
          22,
          22,
          22,
          22,
          22,
          22,
          22,
          22,
          22,
          22,
          22,
          22,
          22,
          23,
          23,
          23,
          23,
          23,
          23,
          23,
          23,
          23,
          23,
          23,
          23,
          23,
          23,
          23,
          23,
          23,
          23,
          23,
          23,
          23,
          24,
          24,
          24,
          24,
          24,
          24,
          24,
          24,
          24,
          24,
          24,
          24,
          24,
          24,
          24,
          24,
          24,
          24,
          24,
          24,
          24,
          24,
          24,
          25,
          25,
          25,
          25,
          25,
          25,
          25,
          25,
          25,
          25,
          25,
          25,
          25,
          25,
          25,
          25,
          25,
          25,
          25,
          26,
          26,
          26,
          26,
          26,
          26,
          26,
          26,
          26,
          26,
          26,
          26,
          26,
          26,
          26,
          26,
          26,
          26,
          26,
          26,
          26,
          26,
          26,
          27,
          27,
          27,
          27,
          27,
          27,
          27,
          27,
          27,
          27,
          27,
          27,
          27,
          27,
          27,
          27,
          27,
          27,
          27,
          27,
          27,
          27,
          27,
          27,
          28,
          28,
          28,
          28,
          28,
          28,
          28,
          28,
          28,
          28,
          28,
          28,
          28,
          28,
          28,
          28,
          28,
          28,
          28,
          28,
          28,
          28,
          28,
          28,
          28,
          28,
          29,
          29,
          29,
          29,
          29,
          29,
          29,
          29,
          29,
          29,
          29,
          29,
          29,
          29,
          29,
          29,
          29,
          29,
          29,
          29,
          29,
          29,
          29,
          29,
          30,
          30,
          30,
          30,
          30,
          30,
          30,
          30,
          30,
          30,
          30,
          30,
          30,
          30,
          30,
          30,
          30,
          30,
          30,
          30,
          30,
          30,
          30,
          30,
          30,
          30,
          30,
          31,
          31,
          31,
          31,
          31,
          31,
          31,
          31,
          31,
          31,
          31,
          31,
          31,
          31,
          31,
          31,
          31,
          31,
          31,
          31,
          31,
          31,
          31,
          31,
          31,
          31,
          31,
          31,
          31,
          32,
          32,
          32,
          32,
          32,
          32,
          32,
          32,
          32,
          32,
          32,
          32,
          32,
          32,
          32,
          32,
          32,
          32,
          32,
          32,
          32,
          32,
          32,
          32,
          33,
          33,
          33,
          33,
          33,
          33,
          33,
          33,
          33,
          33,
          33,
          33,
          33,
          33,
          33,
          33,
          33,
          33,
          33,
          33,
          33,
          33,
          33,
          33,
          33,
          33,
          33,
          33,
          33,
          34,
          34,
          34,
          34,
          34,
          34,
          34,
          34,
          34,
          34,
          34,
          34,
          34,
          34,
          34,
          34,
          34,
          34,
          34,
          34,
          34,
          34,
          34,
          34,
          34,
          34,
          34,
          34,
          34,
          34,
          34,
          34,
          34,
          35,
          35,
          35,
          35,
          35,
          35,
          35,
          35,
          35,
          35,
          35,
          35,
          35,
          35,
          35,
          35,
          35,
          35,
          35,
          35,
          35,
          35,
          35,
          35,
          35,
          35,
          35,
          35,
          35,
          35,
          35,
          35,
          35,
          36,
          36,
          36,
          36,
          36,
          36,
          36,
          36,
          36,
          36,
          36,
          36,
          36,
          36,
          36,
          36,
          36,
          36,
          36,
          36,
          36,
          36,
          36,
          36,
          36,
          36,
          36,
          37,
          37,
          37,
          37,
          37,
          37,
          37,
          37,
          37,
          37,
          37,
          37,
          37,
          37,
          37,
          37,
          37,
          37,
          37,
          37,
          37,
          37,
          37,
          37,
          37,
          37,
          37,
          37,
          37,
          37,
          37,
          37,
          37,
          37,
          37,
          38,
          38,
          38,
          38,
          38,
          38,
          38,
          38,
          38,
          38,
          38,
          38,
          38,
          38,
          38,
          38,
          38,
          38,
          38,
          38,
          38,
          38,
          38,
          38,
          38,
          38,
          38,
          38,
          38,
          38,
          38,
          38,
          38,
          38,
          38,
          39,
          39,
          39,
          39,
          39,
          39,
          39,
          39,
          39,
          39,
          39,
          39,
          39,
          39,
          39,
          39,
          39,
          39,
          39,
          39,
          39,
          39,
          39,
          39,
          40,
          40,
          40,
          40,
          40,
          40,
          40,
          40,
          40,
          40,
          40,
          40,
          40,
          40,
          40,
          40,
          40,
          40,
          40,
          40,
          40,
          40,
          40,
          40,
          40,
          40,
          40,
          40,
          40,
          40,
          40,
          40,
          41,
          41,
          41,
          41,
          41,
          41,
          41,
          41,
          41,
          41,
          41,
          41,
          41,
          41,
          41,
          41,
          41,
          41,
          41,
          41,
          41,
          41,
          41,
          41,
          41,
          41,
          41,
          41,
          41,
          41,
          41,
          41,
          42,
          42,
          42,
          42,
          42,
          42,
          42,
          42,
          42,
          42,
          42,
          42,
          42,
          42,
          42,
          42,
          42,
          42,
          42,
          42,
          42,
          42,
          42,
          42,
          42,
          42,
          42,
          42,
          42,
          42,
          42,
          42,
          42,
          43,
          43,
          43,
          43,
          43,
          43,
          43,
          43,
          43,
          43,
          43,
          43,
          43,
          43,
          43,
          43,
          43,
          43,
          43,
          43,
          43,
          43,
          43,
          43,
          43,
          43,
          43,
          43,
          43,
          44,
          44,
          44,
          44,
          44,
          44,
          44,
          44,
          44,
          44,
          44,
          44,
          44,
          44,
          44,
          44,
          44,
          44,
          44,
          44,
          44,
          44,
          44,
          44,
          44,
          44,
          44,
          44,
          44,
          44,
          45,
          45,
          45,
          45,
          45,
          45,
          45,
          45,
          45,
          45,
          45,
          45,
          45,
          45,
          45,
          45,
          45,
          45,
          45,
          45,
          45,
          45,
          45,
          45,
          45,
          45,
          45,
          45,
          45,
          45,
          45,
          45,
          45,
          45,
          45,
          46,
          46,
          46,
          46,
          46,
          46,
          46,
          46,
          46,
          46,
          46,
          46,
          46,
          46,
          46,
          46,
          46,
          46,
          47,
          47,
          47,
          47,
          47,
          47,
          47,
          47,
          47,
          47,
          47,
          47,
          47,
          47,
          47,
          47,
          47,
          47,
          47,
          47,
          47,
          47,
          48,
          48,
          48,
          48,
          48,
          48,
          48,
          48,
          48,
          48,
          48,
          48,
          48,
          48,
          48,
          48,
          48,
          48,
          48,
          48,
          48,
          48,
          48,
          48,
          48,
          48,
          48,
          48,
          48,
          48,
          48,
          48,
          48,
          48,
          49,
          49,
          49,
          49,
          49,
          49,
          49,
          49,
          49,
          49,
          49,
          49,
          49,
          49,
          49,
          49,
          49,
          49,
          49,
          49,
          49,
          49,
          49,
          49,
          49,
          49,
          49,
          49,
          49,
          49,
          49,
          50,
          50,
          50,
          50,
          50,
          50,
          50,
          50,
          50,
          50,
          51,
          51,
          51,
          51,
          51,
          51,
          51,
          51,
          51,
          51,
          51,
          51,
          51,
          51,
          51,
          51,
          51,
          51,
          51,
          51,
          51,
          51,
          51,
          52,
          52,
          52,
          52,
          52,
          52,
          52,
          52,
          52,
          52,
          52,
          52,
          52,
          52,
          52,
          52,
          52,
          52,
          52,
          52,
          52,
          52,
          52,
          53,
          53,
          53,
          53,
          53,
          53,
          53,
          54,
          54,
          54,
          54,
          54,
          54,
          54,
          54,
          54,
          54,
          54,
          55,
          55,
          55,
          55,
          55,
          55,
          55,
          55,
          55,
          55,
          55,
          55,
          55,
          56,
          56,
          56,
          56,
          56,
          56,
          56,
          56,
          56,
          56,
          56,
          56,
          56,
          56,
          57,
          57,
          57,
          57,
          57,
          58,
          58,
          58,
          58,
          58,
          58,
          58,
          59,
          59,
          59,
          59,
          59,
          59,
          59,
          59,
          59,
          60,
          61,
          61,
          61,
          61,
          62,
          62,
          62,
          62,
          62,
          62,
          63,
          63,
          63,
          63,
          64,
          65,
          65,
          66,
          66,
          70,
          70,
          72,
          73
         ],
         "xaxis": "x",
         "xbingroup": "x",
         "y": [
          0,
          0,
          0,
          2,
          3,
          0,
          3,
          0,
          2,
          3,
          6,
          0,
          2,
          3,
          5,
          6,
          7,
          0,
          3,
          5,
          6,
          0,
          2,
          3,
          5,
          6,
          7,
          0,
          2,
          3,
          4,
          5,
          6,
          7,
          8,
          9,
          10,
          0,
          3,
          6,
          7,
          8,
          10,
          0,
          3,
          6,
          7,
          8,
          9,
          10,
          12,
          0,
          2,
          3,
          6,
          7,
          8,
          9,
          10,
          11,
          12,
          13,
          0,
          2,
          3,
          5,
          6,
          7,
          9,
          10,
          11,
          12,
          13,
          14,
          0,
          3,
          6,
          7,
          9,
          10,
          12,
          13,
          14,
          0,
          3,
          6,
          7,
          8,
          9,
          10,
          11,
          12,
          13,
          14,
          15,
          16,
          0,
          3,
          5,
          6,
          7,
          8,
          9,
          10,
          11,
          12,
          13,
          14,
          15,
          16,
          17,
          0,
          3,
          6,
          7,
          10,
          12,
          13,
          14,
          15,
          16,
          17,
          0,
          3,
          5,
          6,
          7,
          8,
          9,
          10,
          11,
          12,
          13,
          14,
          15,
          16,
          17,
          18,
          19,
          0,
          2,
          3,
          6,
          7,
          8,
          9,
          10,
          12,
          13,
          14,
          15,
          16,
          17,
          18,
          19,
          20,
          0,
          2,
          3,
          6,
          7,
          8,
          9,
          10,
          11,
          12,
          13,
          14,
          15,
          16,
          17,
          18,
          19,
          20,
          21,
          0,
          3,
          5,
          6,
          7,
          8,
          9,
          10,
          12,
          13,
          14,
          15,
          16,
          17,
          18,
          19,
          20,
          21,
          0,
          2,
          3,
          6,
          7,
          8,
          9,
          10,
          11,
          12,
          13,
          14,
          15,
          16,
          17,
          18,
          19,
          20,
          21,
          22,
          23,
          0,
          2,
          3,
          5,
          6,
          7,
          8,
          9,
          10,
          11,
          12,
          13,
          14,
          15,
          16,
          17,
          18,
          19,
          20,
          21,
          22,
          23,
          24,
          0,
          3,
          6,
          7,
          9,
          10,
          11,
          12,
          13,
          14,
          15,
          16,
          17,
          19,
          20,
          21,
          22,
          23,
          24,
          0,
          3,
          6,
          7,
          8,
          9,
          10,
          11,
          12,
          13,
          14,
          15,
          16,
          17,
          18,
          19,
          20,
          21,
          22,
          23,
          24,
          25,
          26,
          0,
          2,
          3,
          6,
          7,
          9,
          10,
          11,
          12,
          13,
          14,
          15,
          16,
          17,
          18,
          19,
          20,
          21,
          22,
          23,
          24,
          25,
          26,
          27,
          0,
          2,
          3,
          6,
          7,
          8,
          9,
          10,
          11,
          12,
          13,
          14,
          15,
          16,
          17,
          18,
          19,
          20,
          21,
          22,
          23,
          24,
          25,
          26,
          27,
          28,
          0,
          3,
          6,
          7,
          9,
          10,
          12,
          13,
          14,
          15,
          16,
          17,
          18,
          19,
          20,
          21,
          22,
          23,
          24,
          25,
          26,
          27,
          28,
          29,
          0,
          3,
          6,
          7,
          8,
          9,
          10,
          11,
          12,
          13,
          14,
          15,
          16,
          17,
          18,
          19,
          20,
          21,
          22,
          23,
          24,
          25,
          26,
          27,
          28,
          29,
          30,
          0,
          2,
          3,
          5,
          6,
          7,
          8,
          9,
          10,
          12,
          13,
          14,
          15,
          16,
          17,
          18,
          19,
          20,
          21,
          22,
          23,
          24,
          25,
          26,
          27,
          28,
          29,
          30,
          31,
          0,
          3,
          6,
          7,
          9,
          10,
          12,
          13,
          14,
          16,
          17,
          18,
          19,
          20,
          21,
          23,
          24,
          25,
          26,
          27,
          28,
          29,
          30,
          31,
          0,
          3,
          6,
          7,
          8,
          9,
          10,
          12,
          13,
          14,
          15,
          16,
          17,
          18,
          19,
          20,
          21,
          22,
          23,
          24,
          25,
          26,
          27,
          28,
          29,
          30,
          31,
          32,
          33,
          0,
          2,
          3,
          5,
          6,
          7,
          8,
          9,
          10,
          11,
          12,
          13,
          14,
          15,
          16,
          17,
          18,
          19,
          20,
          21,
          22,
          23,
          24,
          25,
          26,
          27,
          28,
          29,
          30,
          31,
          32,
          33,
          34,
          0,
          2,
          3,
          6,
          7,
          8,
          9,
          10,
          11,
          12,
          13,
          14,
          15,
          16,
          17,
          18,
          19,
          20,
          21,
          22,
          23,
          24,
          25,
          26,
          27,
          28,
          29,
          30,
          31,
          32,
          33,
          34,
          35,
          0,
          3,
          6,
          7,
          9,
          10,
          13,
          14,
          15,
          16,
          17,
          18,
          19,
          20,
          21,
          22,
          24,
          25,
          26,
          27,
          28,
          30,
          31,
          32,
          33,
          34,
          35,
          0,
          2,
          3,
          5,
          6,
          7,
          8,
          9,
          10,
          12,
          13,
          14,
          15,
          16,
          17,
          18,
          19,
          20,
          21,
          22,
          23,
          24,
          25,
          26,
          27,
          28,
          29,
          30,
          31,
          32,
          33,
          34,
          35,
          36,
          37,
          0,
          3,
          5,
          6,
          7,
          8,
          9,
          10,
          11,
          12,
          13,
          14,
          15,
          16,
          17,
          19,
          20,
          21,
          22,
          23,
          24,
          25,
          26,
          27,
          28,
          29,
          30,
          31,
          32,
          33,
          34,
          35,
          36,
          37,
          38,
          0,
          3,
          7,
          10,
          13,
          14,
          17,
          20,
          21,
          23,
          24,
          26,
          27,
          28,
          29,
          30,
          31,
          32,
          33,
          34,
          35,
          36,
          37,
          38,
          0,
          3,
          6,
          7,
          8,
          9,
          10,
          11,
          13,
          14,
          15,
          16,
          17,
          18,
          20,
          21,
          22,
          23,
          24,
          25,
          26,
          27,
          28,
          29,
          30,
          32,
          33,
          34,
          35,
          37,
          38,
          39,
          0,
          3,
          6,
          7,
          9,
          10,
          13,
          14,
          15,
          16,
          17,
          19,
          20,
          21,
          22,
          23,
          24,
          25,
          26,
          27,
          28,
          29,
          30,
          31,
          32,
          33,
          34,
          35,
          36,
          37,
          38,
          39,
          0,
          3,
          6,
          7,
          10,
          13,
          14,
          15,
          16,
          17,
          18,
          19,
          20,
          21,
          22,
          23,
          24,
          26,
          27,
          28,
          29,
          30,
          31,
          32,
          33,
          34,
          35,
          36,
          37,
          38,
          39,
          40,
          41,
          0,
          3,
          6,
          7,
          8,
          10,
          11,
          12,
          13,
          14,
          16,
          17,
          18,
          19,
          20,
          21,
          22,
          23,
          24,
          27,
          28,
          32,
          34,
          35,
          37,
          38,
          39,
          40,
          43,
          0,
          3,
          6,
          7,
          9,
          10,
          11,
          13,
          14,
          15,
          16,
          17,
          19,
          20,
          21,
          22,
          23,
          24,
          26,
          27,
          28,
          30,
          31,
          33,
          34,
          37,
          38,
          40,
          41,
          42,
          0,
          2,
          3,
          6,
          7,
          10,
          12,
          13,
          14,
          15,
          16,
          17,
          19,
          20,
          21,
          22,
          23,
          24,
          25,
          26,
          27,
          28,
          29,
          30,
          31,
          32,
          33,
          34,
          35,
          37,
          38,
          39,
          41,
          42,
          44,
          3,
          6,
          9,
          10,
          13,
          14,
          16,
          18,
          21,
          23,
          25,
          27,
          28,
          31,
          34,
          36,
          38,
          45,
          0,
          3,
          6,
          7,
          9,
          10,
          13,
          14,
          16,
          17,
          21,
          23,
          24,
          25,
          27,
          28,
          30,
          31,
          34,
          36,
          41,
          42,
          0,
          3,
          6,
          7,
          9,
          10,
          13,
          14,
          16,
          17,
          19,
          20,
          21,
          22,
          23,
          24,
          25,
          26,
          27,
          28,
          29,
          30,
          31,
          32,
          33,
          34,
          35,
          37,
          40,
          41,
          42,
          45,
          46,
          47,
          0,
          3,
          6,
          7,
          9,
          10,
          11,
          13,
          14,
          15,
          16,
          17,
          19,
          20,
          21,
          23,
          24,
          25,
          26,
          27,
          28,
          29,
          31,
          33,
          34,
          35,
          37,
          38,
          39,
          40,
          41,
          7,
          10,
          14,
          17,
          19,
          21,
          24,
          28,
          34,
          43,
          0,
          3,
          7,
          10,
          13,
          14,
          16,
          17,
          20,
          21,
          23,
          24,
          26,
          27,
          28,
          29,
          31,
          34,
          35,
          38,
          42,
          45,
          48,
          0,
          3,
          6,
          7,
          9,
          10,
          13,
          14,
          17,
          19,
          20,
          21,
          24,
          25,
          27,
          28,
          31,
          33,
          34,
          35,
          37,
          38,
          49,
          0,
          7,
          10,
          14,
          20,
          27,
          32,
          0,
          7,
          11,
          13,
          14,
          19,
          24,
          31,
          34,
          44,
          51,
          0,
          7,
          10,
          13,
          14,
          17,
          20,
          21,
          23,
          24,
          27,
          31,
          40,
          0,
          3,
          7,
          10,
          14,
          17,
          19,
          20,
          21,
          23,
          26,
          28,
          31,
          35,
          0,
          14,
          21,
          31,
          33,
          0,
          14,
          20,
          24,
          27,
          37,
          48,
          0,
          7,
          10,
          13,
          14,
          16,
          21,
          24,
          28,
          0,
          7,
          14,
          17,
          20,
          0,
          3,
          7,
          10,
          14,
          28,
          7,
          21,
          35,
          40,
          0,
          20,
          24,
          0,
          14,
          20,
          27,
          41,
          0
         ],
         "yaxis": "y",
         "ybingroup": "y",
         "z": [
          73,
          5,
          60,
          2,
          13,
          3,
          1,
          80,
          2,
          35,
          16,
          93,
          3,
          30,
          1,
          56,
          31,
          5,
          1,
          1,
          1,
          32,
          1,
          17,
          2,
          31,
          40,
          61,
          1,
          46,
          1,
          1,
          61,
          86,
          1,
          37,
          24,
          1,
          2,
          2,
          3,
          1,
          2,
          22,
          5,
          16,
          24,
          2,
          19,
          21,
          2,
          65,
          3,
          50,
          55,
          78,
          2,
          35,
          169,
          2,
          22,
          18,
          77,
          5,
          40,
          2,
          49,
          90,
          27,
          88,
          4,
          19,
          58,
          15,
          15,
          4,
          4,
          10,
          5,
          25,
          9,
          18,
          9,
          48,
          27,
          34,
          42,
          2,
          14,
          85,
          2,
          14,
          145,
          65,
          14,
          4,
          58,
          64,
          2,
          64,
          109,
          1,
          38,
          149,
          2,
          26,
          109,
          200,
          15,
          84,
          21,
          3,
          2,
          4,
          8,
          7,
          5,
          5,
          5,
          9,
          9,
          15,
          35,
          19,
          1,
          13,
          39,
          2,
          16,
          27,
          5,
          10,
          51,
          48,
          4,
          55,
          60,
          2,
          1,
          71,
          1,
          65,
          56,
          92,
          3,
          22,
          124,
          29,
          118,
          98,
          17,
          67,
          297,
          8,
          47,
          22,
          68,
          1,
          23,
          20,
          85,
          1,
          16,
          64,
          4,
          8,
          52,
          100,
          4,
          49,
          106,
          17,
          29,
          73,
          15,
          14,
          8,
          2,
          6,
          13,
          1,
          6,
          21,
          2,
          16,
          17,
          1,
          21,
          26,
          1,
          19,
          18,
          22,
          43,
          2,
          37,
          21,
          72,
          3,
          11,
          66,
          1,
          9,
          52,
          52,
          11,
          52,
          128,
          6,
          20,
          210,
          57,
          16,
          5,
          63,
          3,
          64,
          1,
          39,
          83,
          2,
          25,
          137,
          1,
          13,
          70,
          140,
          9,
          54,
          179,
          8,
          35,
          119,
          159,
          37,
          77,
          17,
          11,
          4,
          5,
          8,
          1,
          11,
          1,
          3,
          6,
          5,
          4,
          6,
          14,
          7,
          20,
          8,
          14,
          10,
          18,
          30,
          21,
          16,
          36,
          3,
          11,
          44,
          4,
          1,
          22,
          41,
          8,
          25,
          34,
          11,
          5,
          58,
          39,
          7,
          53,
          44,
          3,
          1,
          66,
          1,
          47,
          36,
          95,
          16,
          104,
          7,
          8,
          76,
          86,
          6,
          34,
          124,
          1,
          23,
          131,
          95,
          20,
          52,
          237,
          11,
          22,
          6,
          42,
          1,
          27,
          20,
          82,
          2,
          6,
          54,
          3,
          8,
          40,
          70,
          4,
          24,
          65,
          8,
          12,
          44,
          76,
          13,
          33,
          77,
          22,
          12,
          43,
          15,
          5,
          7,
          5,
          19,
          3,
          19,
          1,
          11,
          18,
          4,
          4,
          13,
          2,
          6,
          12,
          19,
          8,
          14,
          15,
          4,
          11,
          18,
          14,
          1,
          21,
          21,
          15,
          48,
          2,
          10,
          60,
          1,
          12,
          45,
          53,
          7,
          20,
          54,
          4,
          9,
          52,
          31,
          10,
          41,
          65,
          3,
          11,
          95,
          43,
          7,
          2,
          46,
          3,
          41,
          1,
          25,
          82,
          2,
          13,
          76,
          6,
          64,
          92,
          11,
          23,
          104,
          5,
          16,
          46,
          82,
          8,
          35,
          91,
          6,
          21,
          55,
          90,
          12,
          24,
          6,
          10,
          4,
          7,
          5,
          2,
          6,
          1,
          7,
          9,
          4,
          5,
          3,
          1,
          5,
          7,
          3,
          2,
          4,
          1,
          4,
          7,
          8,
          3,
          9,
          9,
          11,
          12,
          22,
          1,
          1,
          15,
          4,
          17,
          32,
          1,
          9,
          28,
          7,
          9,
          11,
          15,
          7,
          3,
          16,
          7,
          4,
          27,
          10,
          2,
          26,
          14,
          2,
          1,
          47,
          1,
          32,
          1,
          10,
          66,
          1,
          7,
          45,
          4,
          6,
          45,
          61,
          6,
          19,
          67,
          4,
          9,
          53,
          43,
          3,
          18,
          63,
          4,
          10,
          53,
          42,
          8,
          12,
          81,
          3,
          14,
          2,
          24,
          1,
          19,
          7,
          49,
          3,
          10,
          23,
          2,
          4,
          22,
          55,
          5,
          12,
          46,
          2,
          5,
          20,
          38,
          4,
          14,
          26,
          3,
          5,
          19,
          23,
          2,
          11,
          21,
          11,
          6,
          10,
          5,
          7,
          1,
          4,
          9,
          1,
          10,
          4,
          12,
          1,
          1,
          5,
          1,
          2,
          11,
          5,
          11,
          3,
          2,
          2,
          3,
          12,
          8,
          4,
          1,
          7,
          3,
          5,
          17,
          1,
          13,
          1,
          10,
          31,
          3,
          3,
          25,
          2,
          22,
          35,
          4,
          11,
          15,
          2,
          4,
          26,
          29,
          5,
          5,
          16,
          2,
          6,
          15,
          8,
          4,
          8,
          30,
          2,
          4,
          37,
          11,
          3,
          1,
          23,
          21,
          1,
          12,
          46,
          2,
          9,
          54,
          1,
          1,
          21,
          57,
          6,
          7,
          45,
          5,
          34,
          39,
          3,
          13,
          49,
          3,
          3,
          15,
          33,
          2,
          8,
          38,
          3,
          6,
          11,
          25,
          6,
          3,
          1,
          5,
          2,
          3,
          5,
          1,
          3,
          4,
          1,
          1,
          1,
          1,
          3,
          1,
          2,
          1,
          1,
          3,
          4,
          1,
          1,
          3,
          3,
          1,
          4,
          5,
          5,
          3,
          21,
          1,
          2,
          7,
          1,
          5,
          18,
          1,
          4,
          10,
          1,
          5,
          9,
          1,
          3,
          7,
          1,
          2,
          1,
          3,
          2,
          1,
          4,
          4,
          9,
          1,
          2,
          2,
          2,
          20,
          11,
          6,
          25,
          7,
          37,
          14,
          35,
          1,
          9,
          23,
          4,
          14,
          27,
          3,
          7,
          19,
          3,
          1,
          12,
          13,
          2,
          1,
          12,
          2,
          5,
          6,
          8,
          2,
          3,
          22,
          1,
          16,
          6,
          6,
          29,
          19,
          7,
          29,
          1,
          1,
          23,
          1,
          5,
          18,
          25,
          1,
          5,
          13,
          1,
          8,
          15,
          2,
          3,
          7,
          2,
          2,
          7,
          5,
          3,
          3,
          2,
          1,
          1,
          2,
          6,
          2,
          2,
          4,
          1,
          1,
          1,
          1,
          4,
          8,
          2,
          5,
          1,
          1,
          1,
          3,
          1,
          3,
          7,
          1,
          3,
          1,
          1,
          3,
          4,
          1,
          1,
          1,
          1,
          8,
          1,
          8,
          20,
          2,
          9,
          1,
          6,
          8,
          1,
          2,
          9,
          1,
          5,
          9,
          1,
          4,
          7,
          2,
          5,
          3,
          2,
          2,
          1,
          4,
          1,
          7,
          1,
          4,
          2,
          11,
          1,
          12,
          5,
          25,
          20,
          2,
          5,
          21,
          1,
          3,
          25,
          2,
          4,
          26,
          1,
          1,
          15,
          1,
          2,
          6,
          18,
          3,
          2,
          9,
          1,
          2,
          4,
          8,
          2,
          5,
          1,
          3,
          4,
          1,
          1,
          1,
          1,
          2,
          1,
          1,
          1,
          1,
          2,
          1,
          1,
          1,
          1,
          1,
          1,
          1,
          1,
          1,
          4,
          2,
          1,
          6,
          1,
          6,
          3,
          4,
          2,
          7,
          2,
          1,
          2,
          2,
          4,
          1,
          1,
          1,
          2,
          1,
          2,
          2,
          7,
          5,
          1,
          10,
          1,
          8,
          3,
          8,
          3,
          12,
          3,
          6,
          16,
          4,
          4,
          3,
          2,
          2,
          3,
          3,
          1,
          2,
          1,
          2,
          1,
          1,
          1,
          1,
          1,
          2,
          1,
          1,
          1,
          1,
          6,
          2,
          2,
          6,
          1,
          1,
          1,
          4,
          8,
          1,
          1,
          8,
          1,
          2,
          12,
          1,
          3,
          1,
          3,
          3,
          3,
          2,
          5,
          1,
          1,
          2,
          2,
          2,
          1,
          1,
          1,
          1,
          2,
          2,
          3,
          1,
          3,
          1,
          1,
          2,
          1,
          3,
          2,
          5,
          3,
          1,
          6,
          1,
          3,
          1,
          3,
          3,
          2,
          1,
          3,
          1,
          2,
          1,
          1,
          1,
          1,
          1,
          3,
          2,
          3,
          1,
          1,
          2,
          2,
          3,
          1,
          7,
          3,
          1,
          3,
          9,
          2,
          1,
          1,
          2,
          3,
          1,
          1,
          2,
          1,
          1,
          2,
          2,
          2,
          1,
          1,
          1,
          1,
          1,
          1,
          1,
          1,
          2,
          1,
          1,
          1,
          1,
          1,
          1,
          1,
          2,
          3,
          1,
          1,
          6,
          1,
          3,
          3,
          2,
          3,
          1,
          1,
          1,
          4,
          2,
          4,
          4,
          4,
          5,
          1,
          3,
          2,
          1,
          1,
          1,
          1,
          1,
          3,
          1,
          1,
          1,
          1,
          1,
          1,
          2,
          1,
          1,
          1,
          1,
          4,
          1,
          1,
          1,
          3,
          1,
          1,
          1,
          1,
          2,
          2,
          1,
          1,
          1,
          1,
          1,
          3,
          1,
          2,
          1,
          1,
          1,
          1,
          1,
          1,
          1,
          1,
          1,
          1,
          1,
          1,
          1,
          1
         ]
        }
       ],
       "layout": {
        "coloraxis": {
         "colorbar": {
          "bgcolor": "white",
          "bordercolor": "black",
          "borderwidth": 2,
          "thickness": 20,
          "title": {
           "text": ""
          }
         },
         "colorscale": [
          [
           0,
           "white"
          ],
          [
           0.00001,
           "darkolivegreen"
          ],
          [
           0.03,
           "green"
          ],
          [
           0.3333333333333333,
           "yellow"
          ],
          [
           1,
           "red"
          ]
         ]
        },
        "height": 1000,
        "hoverlabel": {
         "bgcolor": "red"
        },
        "legend": {
         "tracegroupgap": 0
        },
        "margin": {
         "b": 10,
         "l": 60,
         "r": 10,
         "t": 90
        },
        "paper_bgcolor": "azure",
        "shapes": [
         {
          "fillcolor": "black",
          "line": {
           "width": 0
          },
          "path": "M 6.5 0.5 H 7.5 V 1.5 H 6.5 V 0.5 M -0.5 0.5 H 0.5 V -0.5 H 1.5 V 0.5 H 5.5 V 1.5 H 0.5H 0.5 V 1.5 H 1.5 V 2.5 H 2.5 V 3.5 H 3.5 V 4.5 H 4.5 V 5.5 H 5.5 V 6.5 H 6.5 V 7.5 H 7.5 V 8.5 H 8.5 V 9.5 H 9.5 V 10.5 H 10.5 V 11.5 H 11.5 V 12.5 H 12.5 V 13.5 H 13.5 V 14.5 H 14.5 V 15.5 H 15.5 V 16.5 H 16.5 V 17.5 H 17.5 V 18.5 H 18.5 V 19.5 H 19.5 V 20.5 H 20.5 V 21.5 H 21.5 V 22.5 H 22.5 V 23.5 H 23.5 V 24.5 H 24.5 V 25.5 H 25.5 V 26.5 H 26.5 V 27.5 H 27.5 V 28.5 H 28.5 V 29.5 H 29.5 V 30.5 H 30.5 V 31.5 H 31.5 V 32.5 H 32.5 V 33.5 H 33.5 V 34.5 H 34.5 V 35.5 H 35.5 V 36.5 H 36.5 V 37.5 H 37.5 V 38.5 H 38.5 V 39.5 H 39.5 V 40.5 H 40.5 V 41.5 H 41.5 V 42.5 H 42.5 V 43.5 H 43.5 V 44.5 H 44.5 V 45.5 H 45.5 V 46.5 H 46.5 V 47.5 H 47.5 V 48.5 H 48.5 V 49.5 H 49.5 V 50.5 H 50.5 V 51.5 H -0.5 Z",
          "type": "path",
          "xref": "x",
          "yref": "y"
         },
         {
          "line": {
           "color": "black",
           "width": 2
          },
          "type": "rect",
          "x0": -0.5,
          "x1": 73.5,
          "y0": -0.5,
          "y1": 51.5
         }
        ],
        "template": {
         "data": {
          "bar": [
           {
            "error_x": {
             "color": "#2a3f5f"
            },
            "error_y": {
             "color": "#2a3f5f"
            },
            "marker": {
             "line": {
              "color": "#E5ECF6",
              "width": 0.5
             },
             "pattern": {
              "fillmode": "overlay",
              "size": 10,
              "solidity": 0.2
             }
            },
            "type": "bar"
           }
          ],
          "barpolar": [
           {
            "marker": {
             "line": {
              "color": "#E5ECF6",
              "width": 0.5
             },
             "pattern": {
              "fillmode": "overlay",
              "size": 10,
              "solidity": 0.2
             }
            },
            "type": "barpolar"
           }
          ],
          "carpet": [
           {
            "aaxis": {
             "endlinecolor": "#2a3f5f",
             "gridcolor": "white",
             "linecolor": "white",
             "minorgridcolor": "white",
             "startlinecolor": "#2a3f5f"
            },
            "baxis": {
             "endlinecolor": "#2a3f5f",
             "gridcolor": "white",
             "linecolor": "white",
             "minorgridcolor": "white",
             "startlinecolor": "#2a3f5f"
            },
            "type": "carpet"
           }
          ],
          "choropleth": [
           {
            "colorbar": {
             "outlinewidth": 0,
             "ticks": ""
            },
            "type": "choropleth"
           }
          ],
          "contour": [
           {
            "colorbar": {
             "outlinewidth": 0,
             "ticks": ""
            },
            "colorscale": [
             [
              0,
              "#0d0887"
             ],
             [
              0.1111111111111111,
              "#46039f"
             ],
             [
              0.2222222222222222,
              "#7201a8"
             ],
             [
              0.3333333333333333,
              "#9c179e"
             ],
             [
              0.4444444444444444,
              "#bd3786"
             ],
             [
              0.5555555555555556,
              "#d8576b"
             ],
             [
              0.6666666666666666,
              "#ed7953"
             ],
             [
              0.7777777777777778,
              "#fb9f3a"
             ],
             [
              0.8888888888888888,
              "#fdca26"
             ],
             [
              1,
              "#f0f921"
             ]
            ],
            "type": "contour"
           }
          ],
          "contourcarpet": [
           {
            "colorbar": {
             "outlinewidth": 0,
             "ticks": ""
            },
            "type": "contourcarpet"
           }
          ],
          "heatmap": [
           {
            "colorbar": {
             "outlinewidth": 0,
             "ticks": ""
            },
            "colorscale": [
             [
              0,
              "#0d0887"
             ],
             [
              0.1111111111111111,
              "#46039f"
             ],
             [
              0.2222222222222222,
              "#7201a8"
             ],
             [
              0.3333333333333333,
              "#9c179e"
             ],
             [
              0.4444444444444444,
              "#bd3786"
             ],
             [
              0.5555555555555556,
              "#d8576b"
             ],
             [
              0.6666666666666666,
              "#ed7953"
             ],
             [
              0.7777777777777778,
              "#fb9f3a"
             ],
             [
              0.8888888888888888,
              "#fdca26"
             ],
             [
              1,
              "#f0f921"
             ]
            ],
            "type": "heatmap"
           }
          ],
          "heatmapgl": [
           {
            "colorbar": {
             "outlinewidth": 0,
             "ticks": ""
            },
            "colorscale": [
             [
              0,
              "#0d0887"
             ],
             [
              0.1111111111111111,
              "#46039f"
             ],
             [
              0.2222222222222222,
              "#7201a8"
             ],
             [
              0.3333333333333333,
              "#9c179e"
             ],
             [
              0.4444444444444444,
              "#bd3786"
             ],
             [
              0.5555555555555556,
              "#d8576b"
             ],
             [
              0.6666666666666666,
              "#ed7953"
             ],
             [
              0.7777777777777778,
              "#fb9f3a"
             ],
             [
              0.8888888888888888,
              "#fdca26"
             ],
             [
              1,
              "#f0f921"
             ]
            ],
            "type": "heatmapgl"
           }
          ],
          "histogram": [
           {
            "marker": {
             "pattern": {
              "fillmode": "overlay",
              "size": 10,
              "solidity": 0.2
             }
            },
            "type": "histogram"
           }
          ],
          "histogram2d": [
           {
            "colorbar": {
             "outlinewidth": 0,
             "ticks": ""
            },
            "colorscale": [
             [
              0,
              "#0d0887"
             ],
             [
              0.1111111111111111,
              "#46039f"
             ],
             [
              0.2222222222222222,
              "#7201a8"
             ],
             [
              0.3333333333333333,
              "#9c179e"
             ],
             [
              0.4444444444444444,
              "#bd3786"
             ],
             [
              0.5555555555555556,
              "#d8576b"
             ],
             [
              0.6666666666666666,
              "#ed7953"
             ],
             [
              0.7777777777777778,
              "#fb9f3a"
             ],
             [
              0.8888888888888888,
              "#fdca26"
             ],
             [
              1,
              "#f0f921"
             ]
            ],
            "type": "histogram2d"
           }
          ],
          "histogram2dcontour": [
           {
            "colorbar": {
             "outlinewidth": 0,
             "ticks": ""
            },
            "colorscale": [
             [
              0,
              "#0d0887"
             ],
             [
              0.1111111111111111,
              "#46039f"
             ],
             [
              0.2222222222222222,
              "#7201a8"
             ],
             [
              0.3333333333333333,
              "#9c179e"
             ],
             [
              0.4444444444444444,
              "#bd3786"
             ],
             [
              0.5555555555555556,
              "#d8576b"
             ],
             [
              0.6666666666666666,
              "#ed7953"
             ],
             [
              0.7777777777777778,
              "#fb9f3a"
             ],
             [
              0.8888888888888888,
              "#fdca26"
             ],
             [
              1,
              "#f0f921"
             ]
            ],
            "type": "histogram2dcontour"
           }
          ],
          "mesh3d": [
           {
            "colorbar": {
             "outlinewidth": 0,
             "ticks": ""
            },
            "type": "mesh3d"
           }
          ],
          "parcoords": [
           {
            "line": {
             "colorbar": {
              "outlinewidth": 0,
              "ticks": ""
             }
            },
            "type": "parcoords"
           }
          ],
          "pie": [
           {
            "automargin": true,
            "type": "pie"
           }
          ],
          "scatter": [
           {
            "fillpattern": {
             "fillmode": "overlay",
             "size": 10,
             "solidity": 0.2
            },
            "type": "scatter"
           }
          ],
          "scatter3d": [
           {
            "line": {
             "colorbar": {
              "outlinewidth": 0,
              "ticks": ""
             }
            },
            "marker": {
             "colorbar": {
              "outlinewidth": 0,
              "ticks": ""
             }
            },
            "type": "scatter3d"
           }
          ],
          "scattercarpet": [
           {
            "marker": {
             "colorbar": {
              "outlinewidth": 0,
              "ticks": ""
             }
            },
            "type": "scattercarpet"
           }
          ],
          "scattergeo": [
           {
            "marker": {
             "colorbar": {
              "outlinewidth": 0,
              "ticks": ""
             }
            },
            "type": "scattergeo"
           }
          ],
          "scattergl": [
           {
            "marker": {
             "colorbar": {
              "outlinewidth": 0,
              "ticks": ""
             }
            },
            "type": "scattergl"
           }
          ],
          "scattermapbox": [
           {
            "marker": {
             "colorbar": {
              "outlinewidth": 0,
              "ticks": ""
             }
            },
            "type": "scattermapbox"
           }
          ],
          "scatterpolar": [
           {
            "marker": {
             "colorbar": {
              "outlinewidth": 0,
              "ticks": ""
             }
            },
            "type": "scatterpolar"
           }
          ],
          "scatterpolargl": [
           {
            "marker": {
             "colorbar": {
              "outlinewidth": 0,
              "ticks": ""
             }
            },
            "type": "scatterpolargl"
           }
          ],
          "scatterternary": [
           {
            "marker": {
             "colorbar": {
              "outlinewidth": 0,
              "ticks": ""
             }
            },
            "type": "scatterternary"
           }
          ],
          "surface": [
           {
            "colorbar": {
             "outlinewidth": 0,
             "ticks": ""
            },
            "colorscale": [
             [
              0,
              "#0d0887"
             ],
             [
              0.1111111111111111,
              "#46039f"
             ],
             [
              0.2222222222222222,
              "#7201a8"
             ],
             [
              0.3333333333333333,
              "#9c179e"
             ],
             [
              0.4444444444444444,
              "#bd3786"
             ],
             [
              0.5555555555555556,
              "#d8576b"
             ],
             [
              0.6666666666666666,
              "#ed7953"
             ],
             [
              0.7777777777777778,
              "#fb9f3a"
             ],
             [
              0.8888888888888888,
              "#fdca26"
             ],
             [
              1,
              "#f0f921"
             ]
            ],
            "type": "surface"
           }
          ],
          "table": [
           {
            "cells": {
             "fill": {
              "color": "#EBF0F8"
             },
             "line": {
              "color": "white"
             }
            },
            "header": {
             "fill": {
              "color": "#C8D4E3"
             },
             "line": {
              "color": "white"
             }
            },
            "type": "table"
           }
          ]
         },
         "layout": {
          "annotationdefaults": {
           "arrowcolor": "#2a3f5f",
           "arrowhead": 0,
           "arrowwidth": 1
          },
          "autotypenumbers": "strict",
          "coloraxis": {
           "colorbar": {
            "outlinewidth": 0,
            "ticks": ""
           }
          },
          "colorscale": {
           "diverging": [
            [
             0,
             "#8e0152"
            ],
            [
             0.1,
             "#c51b7d"
            ],
            [
             0.2,
             "#de77ae"
            ],
            [
             0.3,
             "#f1b6da"
            ],
            [
             0.4,
             "#fde0ef"
            ],
            [
             0.5,
             "#f7f7f7"
            ],
            [
             0.6,
             "#e6f5d0"
            ],
            [
             0.7,
             "#b8e186"
            ],
            [
             0.8,
             "#7fbc41"
            ],
            [
             0.9,
             "#4d9221"
            ],
            [
             1,
             "#276419"
            ]
           ],
           "sequential": [
            [
             0,
             "#0d0887"
            ],
            [
             0.1111111111111111,
             "#46039f"
            ],
            [
             0.2222222222222222,
             "#7201a8"
            ],
            [
             0.3333333333333333,
             "#9c179e"
            ],
            [
             0.4444444444444444,
             "#bd3786"
            ],
            [
             0.5555555555555556,
             "#d8576b"
            ],
            [
             0.6666666666666666,
             "#ed7953"
            ],
            [
             0.7777777777777778,
             "#fb9f3a"
            ],
            [
             0.8888888888888888,
             "#fdca26"
            ],
            [
             1,
             "#f0f921"
            ]
           ],
           "sequentialminus": [
            [
             0,
             "#0d0887"
            ],
            [
             0.1111111111111111,
             "#46039f"
            ],
            [
             0.2222222222222222,
             "#7201a8"
            ],
            [
             0.3333333333333333,
             "#9c179e"
            ],
            [
             0.4444444444444444,
             "#bd3786"
            ],
            [
             0.5555555555555556,
             "#d8576b"
            ],
            [
             0.6666666666666666,
             "#ed7953"
            ],
            [
             0.7777777777777778,
             "#fb9f3a"
            ],
            [
             0.8888888888888888,
             "#fdca26"
            ],
            [
             1,
             "#f0f921"
            ]
           ]
          },
          "colorway": [
           "#636efa",
           "#EF553B",
           "#00cc96",
           "#ab63fa",
           "#FFA15A",
           "#19d3f3",
           "#FF6692",
           "#B6E880",
           "#FF97FF",
           "#FECB52"
          ],
          "font": {
           "color": "#2a3f5f"
          },
          "geo": {
           "bgcolor": "white",
           "lakecolor": "white",
           "landcolor": "#E5ECF6",
           "showlakes": true,
           "showland": true,
           "subunitcolor": "white"
          },
          "hoverlabel": {
           "align": "left"
          },
          "hovermode": "closest",
          "mapbox": {
           "style": "light"
          },
          "paper_bgcolor": "white",
          "plot_bgcolor": "#E5ECF6",
          "polar": {
           "angularaxis": {
            "gridcolor": "white",
            "linecolor": "white",
            "ticks": ""
           },
           "bgcolor": "#E5ECF6",
           "radialaxis": {
            "gridcolor": "white",
            "linecolor": "white",
            "ticks": ""
           }
          },
          "scene": {
           "xaxis": {
            "backgroundcolor": "#E5ECF6",
            "gridcolor": "white",
            "gridwidth": 2,
            "linecolor": "white",
            "showbackground": true,
            "ticks": "",
            "zerolinecolor": "white"
           },
           "yaxis": {
            "backgroundcolor": "#E5ECF6",
            "gridcolor": "white",
            "gridwidth": 2,
            "linecolor": "white",
            "showbackground": true,
            "ticks": "",
            "zerolinecolor": "white"
           },
           "zaxis": {
            "backgroundcolor": "#E5ECF6",
            "gridcolor": "white",
            "gridwidth": 2,
            "linecolor": "white",
            "showbackground": true,
            "ticks": "",
            "zerolinecolor": "white"
           }
          },
          "shapedefaults": {
           "line": {
            "color": "#2a3f5f"
           }
          },
          "ternary": {
           "aaxis": {
            "gridcolor": "white",
            "linecolor": "white",
            "ticks": ""
           },
           "baxis": {
            "gridcolor": "white",
            "linecolor": "white",
            "ticks": ""
           },
           "bgcolor": "#E5ECF6",
           "caxis": {
            "gridcolor": "white",
            "linecolor": "white",
            "ticks": ""
           }
          },
          "title": {
           "x": 0.05
          },
          "xaxis": {
           "automargin": true,
           "gridcolor": "white",
           "linecolor": "white",
           "ticks": "",
           "title": {
            "standoff": 15
           },
           "zerolinecolor": "white",
           "zerolinewidth": 2
          },
          "yaxis": {
           "automargin": true,
           "gridcolor": "white",
           "linecolor": "white",
           "ticks": "",
           "title": {
            "standoff": 15
           },
           "zerolinecolor": "white",
           "zerolinewidth": 2
          }
         }
        },
        "title": {
         "font": {
          "weight": 1000
         },
         "text": "Scorigami-Heatmap: Frequency of Final Scores",
         "x": 0.015,
         "y": 0.98
        },
        "width": 1500,
        "xaxis": {
         "anchor": "y",
         "domain": [
          0,
          1
         ],
         "dtick": 2,
         "showspikes": true,
         "side": "top",
         "spikethickness": 0,
         "tickcolor": "dimgray",
         "ticklen": 3,
         "ticks": "outside",
         "title": {
          "font": {
           "variant": "small-caps"
          },
          "standoff": 5,
          "text": "Winning Points"
         }
        },
        "yaxis": {
         "anchor": "x",
         "autorange": "reversed",
         "domain": [
          0,
          1
         ],
         "dtick": 2,
         "showspikes": true,
         "spikethickness": 0,
         "tickcolor": "dimgray",
         "ticklen": 3,
         "ticks": "outside",
         "title": {
          "font": {
           "variant": "small-caps"
          },
          "standoff": 5,
          "text": "Losing Points"
         }
        }
       }
      }
     },
     "metadata": {},
     "output_type": "display_data"
    }
   ],
   "source": [
    "games_df = pd.read_csv(\"data/games_cleaned.csv\")\n",
    "\n",
    "score_counts = games_df.groupby([\"pts_w\", \"pts_l\"]).size().reset_index(name=\"count\")\n",
    "\n",
    "custom_colorscale = [\n",
    "    [0, \"white\"],\n",
    "    [0.00001, \"darkolivegreen\"],\n",
    "    [0.03, \"green\"],\n",
    "    [1/3, \"yellow\"],\n",
    "    [1, \"red\"]]\n",
    "\n",
    "fig = px.density_heatmap(\n",
    "    score_counts,\n",
    "    x=\"pts_w\",\n",
    "    y=\"pts_l\",\n",
    "    z=\"count\",\n",
    "    color_continuous_scale=custom_colorscale,\n",
    "    labels={\n",
    "        \"pts_w\": \"Winning Points\",\n",
    "\t\t\"pts_l\": \"Losing Points\",\n",
    "\t\t\"count\": \"Anzahl Spiele\"},\n",
    "    title=\"Scorigami-Heatmap: Frequency of Final Scores\",\n",
    "    nbinsx=100,\n",
    "    nbinsy=100,\n",
    "    width=1500,\n",
    "    height=1000)\n",
    "\n",
    "path = \"M 6.5 0.5 H 7.5 V 1.5 H 6.5 V 0.5 M -0.5 0.5 H 0.5 V -0.5 H 1.5 V 0.5 H 5.5 V 1.5 H 0.5\" + \"\".join([f\"H {0.5 + i} V {1.5 + i} \" for i in range(51)]) + \"H -0.5 Z\"\n",
    "fig.add_shape(\n",
    "    type=\"path\",\n",
    "    path=path,\n",
    "    xref=\"x\",\n",
    "    yref=\"y\",\n",
    "    line_width=0,\n",
    "    fillcolor=\"black\")\n",
    "\n",
    "fig.add_shape(\n",
    "    type=\"rect\",\n",
    "    x0=-0.5,\n",
    "    x1=73.5,\n",
    "    y0=-0.5,\n",
    "    y1=51.5,\n",
    "    line_width=2,\n",
    "    line_color=\"black\")\n",
    "\n",
    "fig.update_layout(\n",
    "    margin=dict(t=90, r=10, b=10, l=60),\n",
    "    hoverlabel_bgcolor=\"red\",\n",
    "    paper_bgcolor=\"azure\",\n",
    "    title=dict(\n",
    "        font_weight=1000,\n",
    "        x=0.015,\n",
    "        y=0.98),\n",
    "    coloraxis_colorbar=dict(\n",
    "        title=\"\",\n",
    "        bgcolor=\"white\",\n",
    "        bordercolor=\"black\",\n",
    "        borderwidth=2,\n",
    "        thickness=20),\n",
    "    xaxis=dict(\n",
    "        showspikes=True,\n",
    "        spikethickness=0,\n",
    "        side=\"top\",\n",
    "        dtick=2,\n",
    "        ticks=\"outside\",\n",
    "        ticklen=3,\n",
    "        tickcolor=\"dimgray\",\n",
    "        title_standoff=5,\n",
    "        title_font_variant=\"small-caps\"),\n",
    "    yaxis=dict(\n",
    "        showspikes=True,\n",
    "        spikethickness=0,\n",
    "        autorange=\"reversed\",\n",
    "        dtick=2,\n",
    "        ticks=\"outside\",\n",
    "        ticklen=3,\n",
    "        tickcolor=\"dimgray\",\n",
    "        title_standoff=5,\n",
    "        title_font_variant=\"small-caps\"))\n",
    "\n",
    "fig.update_traces(hovertemplate=\"Score<br># Games <extra><b>%{x} - %{y}<br>%{z}</b></extra>\")\n",
    "\n",
    "fig.show()\n",
    "\n",
    "# Grafik-Erweiterung: Colorscale nach Zeit - Wann ist dieser Score das erste (letzte?) mal passiert?"
   ]
  },
  {
   "cell_type": "code",
   "execution_count": null,
   "metadata": {},
   "outputs": [
    {
     "ename": "AttributeError",
     "evalue": "'DataFrame' object has no attribute 'append'",
     "output_type": "error",
     "traceback": [
      "\u001b[1;31m---------------------------------------------------------------------------\u001b[0m",
      "\u001b[1;31mAttributeError\u001b[0m                            Traceback (most recent call last)",
      "\u001b[1;32m~\\AppData\\Local\\Temp\\ipykernel_26436\\731029775.py\u001b[0m in \u001b[0;36m?\u001b[1;34m()\u001b[0m\n\u001b[0;32m      1\u001b[0m \u001b[0mgames_df\u001b[0m \u001b[1;33m=\u001b[0m \u001b[0mpd\u001b[0m\u001b[1;33m.\u001b[0m\u001b[0mread_csv\u001b[0m\u001b[1;33m(\u001b[0m\u001b[1;34m\"data/games_cleaned.csv\"\u001b[0m\u001b[1;33m)\u001b[0m\u001b[1;33m\u001b[0m\u001b[1;33m\u001b[0m\u001b[0m\n\u001b[0;32m      2\u001b[0m \u001b[1;33m\u001b[0m\u001b[0m\n\u001b[0;32m      3\u001b[0m \u001b[0mscore_counts\u001b[0m \u001b[1;33m=\u001b[0m \u001b[0mgames_df\u001b[0m\u001b[1;33m.\u001b[0m\u001b[0mgroupby\u001b[0m\u001b[1;33m(\u001b[0m\u001b[1;33m[\u001b[0m\u001b[1;34m\"pts_w\"\u001b[0m\u001b[1;33m,\u001b[0m \u001b[1;34m\"pts_l\"\u001b[0m\u001b[1;33m]\u001b[0m\u001b[1;33m)\u001b[0m\u001b[1;33m.\u001b[0m\u001b[0msize\u001b[0m\u001b[1;33m(\u001b[0m\u001b[1;33m)\u001b[0m\u001b[1;33m.\u001b[0m\u001b[0mreset_index\u001b[0m\u001b[1;33m(\u001b[0m\u001b[0mname\u001b[0m\u001b[1;33m=\u001b[0m\u001b[1;34m\"count\"\u001b[0m\u001b[1;33m)\u001b[0m\u001b[1;33m\u001b[0m\u001b[1;33m\u001b[0m\u001b[0m\n\u001b[0;32m      4\u001b[0m \u001b[1;33m\u001b[0m\u001b[0m\n\u001b[1;32m----> 5\u001b[1;33m \u001b[0mscore_counts\u001b[0m \u001b[1;33m=\u001b[0m \u001b[0mscore_counts\u001b[0m\u001b[1;33m.\u001b[0m\u001b[0mappend\u001b[0m\u001b[1;33m(\u001b[0m\u001b[1;33m)\u001b[0m\u001b[1;33m\u001b[0m\u001b[1;33m\u001b[0m\u001b[0m\n\u001b[0m\u001b[0;32m      6\u001b[0m \u001b[1;33m\u001b[0m\u001b[0m\n\u001b[0;32m      7\u001b[0m custom_colorscale = [\n\u001b[0;32m      8\u001b[0m     \u001b[1;33m[\u001b[0m\u001b[1;36m0\u001b[0m\u001b[1;33m,\u001b[0m \u001b[1;34m\"white\"\u001b[0m\u001b[1;33m]\u001b[0m\u001b[1;33m,\u001b[0m\u001b[1;33m\u001b[0m\u001b[1;33m\u001b[0m\u001b[0m\n",
      "\u001b[1;32m~\\AppData\\Local\\Packages\\PythonSoftwareFoundation.Python.3.11_qbz5n2kfra8p0\\LocalCache\\local-packages\\Python311\\site-packages\\pandas\\core\\generic.py\u001b[0m in \u001b[0;36m?\u001b[1;34m(self, name)\u001b[0m\n\u001b[0;32m   6295\u001b[0m             \u001b[1;32mand\u001b[0m \u001b[0mname\u001b[0m \u001b[1;32mnot\u001b[0m \u001b[1;32min\u001b[0m \u001b[0mself\u001b[0m\u001b[1;33m.\u001b[0m\u001b[0m_accessors\u001b[0m\u001b[1;33m\u001b[0m\u001b[1;33m\u001b[0m\u001b[0m\n\u001b[0;32m   6296\u001b[0m             \u001b[1;32mand\u001b[0m \u001b[0mself\u001b[0m\u001b[1;33m.\u001b[0m\u001b[0m_info_axis\u001b[0m\u001b[1;33m.\u001b[0m\u001b[0m_can_hold_identifiers_and_holds_name\u001b[0m\u001b[1;33m(\u001b[0m\u001b[0mname\u001b[0m\u001b[1;33m)\u001b[0m\u001b[1;33m\u001b[0m\u001b[1;33m\u001b[0m\u001b[0m\n\u001b[0;32m   6297\u001b[0m         ):\n\u001b[0;32m   6298\u001b[0m             \u001b[1;32mreturn\u001b[0m \u001b[0mself\u001b[0m\u001b[1;33m[\u001b[0m\u001b[0mname\u001b[0m\u001b[1;33m]\u001b[0m\u001b[1;33m\u001b[0m\u001b[1;33m\u001b[0m\u001b[0m\n\u001b[1;32m-> 6299\u001b[1;33m         \u001b[1;32mreturn\u001b[0m \u001b[0mobject\u001b[0m\u001b[1;33m.\u001b[0m\u001b[0m__getattribute__\u001b[0m\u001b[1;33m(\u001b[0m\u001b[0mself\u001b[0m\u001b[1;33m,\u001b[0m \u001b[0mname\u001b[0m\u001b[1;33m)\u001b[0m\u001b[1;33m\u001b[0m\u001b[1;33m\u001b[0m\u001b[0m\n\u001b[0m",
      "\u001b[1;31mAttributeError\u001b[0m: 'DataFrame' object has no attribute 'append'"
     ]
    }
   ],
   "source": [
    "games_df = pd.read_csv(\"data/games_cleaned.csv\")\n",
    "\n",
    "score_counts = games_df.groupby([\"pts_w\", \"pts_l\"]).size().reset_index(name=\"count\")\n",
    "\n",
    "custom_colorscale = [\n",
    "    [0, \"white\"],\n",
    "    [0.00001, \"darkolivegreen\"],\n",
    "    [0.03, \"green\"],\n",
    "    [0.33, \"yellow\"],\n",
    "    [1, \"red\"]]\n",
    "\n",
    "fig = go.Figure(data=go.Heatmap(\n",
    "    x=score_counts[\"pts_w\"],\n",
    "    y=score_counts[\"pts_l\"],\n",
    "    z=[i or 0 for i in score_counts[\"count\"]],\n",
    "    zmin=-1,\n",
    "    zmax=300,\n",
    "    colorscale=custom_colorscale\n",
    "    # labels={\n",
    "    #     \"pts_w\": \"Winning Points\",\n",
    "\t# \t\"pts_l\": \"Losing Points\",\n",
    "\t# \t\"count\": \"Anzahl Spiele\"},\n",
    "    # title=\"Scorigami-Heatmap: Frequency of Final Scores\",\n",
    "    # nbinsx=100,\n",
    "    # nbinsy=100,\n",
    "    ))\n",
    "\n",
    "path = \"M 6.5 0.5 H 7.5 V 1.5 H 6.5 V 0.5 M -0.5 0.5 H 0.5 V -0.5 H 1.5 V 0.5 H 5.5 V 1.5 H 0.5\" + \"\".join([f\"H {0.5 + i} V {1.5 + i} \" for i in range(51)]) + \"H -0.5 Z\"\n",
    "fig.add_shape(\n",
    "    type=\"path\",\n",
    "    path=path,\n",
    "    xref=\"x\",\n",
    "    yref=\"y\",\n",
    "    line_width=0,\n",
    "    fillcolor=\"black\")\n",
    "\n",
    "fig.update_traces(customdata=[\"count\"],hovertemplate=\"Score<br># Games <extra><b>%{x} - %{y}<br>%{z}</b></extra>\")\n",
    "fig.update_layout(\n",
    "    width=1500,\n",
    "    height=1050,\n",
    "    # coloraxis_colorbar_title=\"\",\n",
    "    # colorscale_sequential=custom_colorscale,\n",
    "    xaxis=dict(\n",
    "        range=[-0.5,73.5],\n",
    "        side=\"top\",\n",
    "        dtick=1,\n",
    "        ticks=\"outside\",\n",
    "        ticklen=3,\n",
    "        tickcolor=\"black\"),\n",
    "    yaxis=dict(\n",
    "        range=[51,-0.5],\n",
    "        # autorange=\"reversed\",\n",
    "        dtick=1,\n",
    "        ticks=\"outside\",\n",
    "        ticklen=3,\n",
    "        tickcolor=\"black\"))\n",
    "\n",
    "fig.show()"
   ]
  },
  {
   "cell_type": "code",
   "execution_count": 178,
   "metadata": {},
   "outputs": [
    {
     "data": {
      "application/vnd.plotly.v1+json": {
       "config": {
        "plotlyServerURL": "https://plot.ly"
       },
       "data": [
        {
         "alignmentgroup": "True",
         "hovertemplate": "pts=%{x}<br>%=%{y}<extra></extra>",
         "legendgroup": "",
         "marker": {
          "color": "#636efa",
          "pattern": {
           "shape": ""
          }
         },
         "name": "",
         "offsetgroup": "",
         "orientation": "v",
         "showlegend": false,
         "textposition": "auto",
         "type": "bar",
         "x": [
          2,
          3,
          4,
          5,
          6,
          7,
          8,
          9,
          10,
          11,
          12,
          13,
          14,
          15,
          16,
          17,
          18,
          19,
          20,
          21,
          22,
          23,
          24,
          25,
          26,
          27,
          28,
          29,
          30,
          31,
          32,
          33,
          34,
          35,
          36,
          37,
          38,
          39,
          40,
          41,
          42,
          43,
          44,
          45,
          46,
          47,
          48,
          49,
          50,
          51,
          52,
          53,
          54,
          55,
          56,
          57,
          58,
          59,
          60,
          61,
          62,
          63,
          64,
          65,
          66,
          67,
          68,
          69,
          70,
          71,
          72,
          73
         ],
         "xaxis": "x",
         "y": [
          0.02,
          0.78,
          0.0004,
          0.013000000000000001,
          0.5856060000000001,
          4.690182,
          0.24780808000000001,
          0.28868634000000004,
          1.7450976010000003,
          0.08932838859999999,
          0.11091429121200003,
          0.8511516991379999,
          6.32688600006414,
          0.3405622451439,
          0.35873798857216166,
          2.0009394654449646,
          0.10771307673943686,
          0.12225592588438491,
          0.8819482679637713,
          6.361486022932105,
          0.33664232637160146,
          0.34688710369039927,
          1.8942085200719385,
          0.1008189356446348,
          0.11252263025405931,
          0.7981771015664002,
          5.683121123138265,
          0.2974420243195718,
          0.3033058533910557,
          1.6393353552376324,
          0.08652533279388419,
          0.0957323266650867,
          0.6734419820888264,
          4.759631860116542,
          0.24740333468792247,
          0.2506365483477032,
          1.3463762818738936,
          0.0706571793245707,
          0.07774861686383312,
          0.5441031958243244,
          3.826745132122826,
          0.19799205155116753,
          0.19969686800740216,
          1.0682435978524036,
          0.05583750753544067,
          0.06120773877311617,
          0.4267893611825463,
          2.9912391721641023,
          0.15424966182724684,
          0.15508280616485007,
          0.8270579500991384,
          0.04310413919803721,
          0.04711694649342773,
          0.32764975407902774,
          2.2904345704384603,
          0.11781589460213326,
          0.11816701802064422,
          0.6287230928656654,
          0.03269408377328203,
          0.035660548590448204,
          0.2474649237195038,
          1.7264150576957795,
          0.08863062401739612,
          0.08872713173423027,
          0.4712226300048477,
          0.02446062371673773,
          0.026634337631498327,
          0.18452102297787856,
          1.2852200985192543,
          0.06587748101567636,
          0.06584918208094137,
          0.3492045277842274
         ],
         "yaxis": "y"
        }
       ],
       "layout": {
        "barmode": "relative",
        "legend": {
         "tracegroupgap": 0
        },
        "margin": {
         "t": 60
        },
        "template": {
         "data": {
          "bar": [
           {
            "error_x": {
             "color": "#2a3f5f"
            },
            "error_y": {
             "color": "#2a3f5f"
            },
            "marker": {
             "line": {
              "color": "#E5ECF6",
              "width": 0.5
             },
             "pattern": {
              "fillmode": "overlay",
              "size": 10,
              "solidity": 0.2
             }
            },
            "type": "bar"
           }
          ],
          "barpolar": [
           {
            "marker": {
             "line": {
              "color": "#E5ECF6",
              "width": 0.5
             },
             "pattern": {
              "fillmode": "overlay",
              "size": 10,
              "solidity": 0.2
             }
            },
            "type": "barpolar"
           }
          ],
          "carpet": [
           {
            "aaxis": {
             "endlinecolor": "#2a3f5f",
             "gridcolor": "white",
             "linecolor": "white",
             "minorgridcolor": "white",
             "startlinecolor": "#2a3f5f"
            },
            "baxis": {
             "endlinecolor": "#2a3f5f",
             "gridcolor": "white",
             "linecolor": "white",
             "minorgridcolor": "white",
             "startlinecolor": "#2a3f5f"
            },
            "type": "carpet"
           }
          ],
          "choropleth": [
           {
            "colorbar": {
             "outlinewidth": 0,
             "ticks": ""
            },
            "type": "choropleth"
           }
          ],
          "contour": [
           {
            "colorbar": {
             "outlinewidth": 0,
             "ticks": ""
            },
            "colorscale": [
             [
              0,
              "#0d0887"
             ],
             [
              0.1111111111111111,
              "#46039f"
             ],
             [
              0.2222222222222222,
              "#7201a8"
             ],
             [
              0.3333333333333333,
              "#9c179e"
             ],
             [
              0.4444444444444444,
              "#bd3786"
             ],
             [
              0.5555555555555556,
              "#d8576b"
             ],
             [
              0.6666666666666666,
              "#ed7953"
             ],
             [
              0.7777777777777778,
              "#fb9f3a"
             ],
             [
              0.8888888888888888,
              "#fdca26"
             ],
             [
              1,
              "#f0f921"
             ]
            ],
            "type": "contour"
           }
          ],
          "contourcarpet": [
           {
            "colorbar": {
             "outlinewidth": 0,
             "ticks": ""
            },
            "type": "contourcarpet"
           }
          ],
          "heatmap": [
           {
            "colorbar": {
             "outlinewidth": 0,
             "ticks": ""
            },
            "colorscale": [
             [
              0,
              "#0d0887"
             ],
             [
              0.1111111111111111,
              "#46039f"
             ],
             [
              0.2222222222222222,
              "#7201a8"
             ],
             [
              0.3333333333333333,
              "#9c179e"
             ],
             [
              0.4444444444444444,
              "#bd3786"
             ],
             [
              0.5555555555555556,
              "#d8576b"
             ],
             [
              0.6666666666666666,
              "#ed7953"
             ],
             [
              0.7777777777777778,
              "#fb9f3a"
             ],
             [
              0.8888888888888888,
              "#fdca26"
             ],
             [
              1,
              "#f0f921"
             ]
            ],
            "type": "heatmap"
           }
          ],
          "heatmapgl": [
           {
            "colorbar": {
             "outlinewidth": 0,
             "ticks": ""
            },
            "colorscale": [
             [
              0,
              "#0d0887"
             ],
             [
              0.1111111111111111,
              "#46039f"
             ],
             [
              0.2222222222222222,
              "#7201a8"
             ],
             [
              0.3333333333333333,
              "#9c179e"
             ],
             [
              0.4444444444444444,
              "#bd3786"
             ],
             [
              0.5555555555555556,
              "#d8576b"
             ],
             [
              0.6666666666666666,
              "#ed7953"
             ],
             [
              0.7777777777777778,
              "#fb9f3a"
             ],
             [
              0.8888888888888888,
              "#fdca26"
             ],
             [
              1,
              "#f0f921"
             ]
            ],
            "type": "heatmapgl"
           }
          ],
          "histogram": [
           {
            "marker": {
             "pattern": {
              "fillmode": "overlay",
              "size": 10,
              "solidity": 0.2
             }
            },
            "type": "histogram"
           }
          ],
          "histogram2d": [
           {
            "colorbar": {
             "outlinewidth": 0,
             "ticks": ""
            },
            "colorscale": [
             [
              0,
              "#0d0887"
             ],
             [
              0.1111111111111111,
              "#46039f"
             ],
             [
              0.2222222222222222,
              "#7201a8"
             ],
             [
              0.3333333333333333,
              "#9c179e"
             ],
             [
              0.4444444444444444,
              "#bd3786"
             ],
             [
              0.5555555555555556,
              "#d8576b"
             ],
             [
              0.6666666666666666,
              "#ed7953"
             ],
             [
              0.7777777777777778,
              "#fb9f3a"
             ],
             [
              0.8888888888888888,
              "#fdca26"
             ],
             [
              1,
              "#f0f921"
             ]
            ],
            "type": "histogram2d"
           }
          ],
          "histogram2dcontour": [
           {
            "colorbar": {
             "outlinewidth": 0,
             "ticks": ""
            },
            "colorscale": [
             [
              0,
              "#0d0887"
             ],
             [
              0.1111111111111111,
              "#46039f"
             ],
             [
              0.2222222222222222,
              "#7201a8"
             ],
             [
              0.3333333333333333,
              "#9c179e"
             ],
             [
              0.4444444444444444,
              "#bd3786"
             ],
             [
              0.5555555555555556,
              "#d8576b"
             ],
             [
              0.6666666666666666,
              "#ed7953"
             ],
             [
              0.7777777777777778,
              "#fb9f3a"
             ],
             [
              0.8888888888888888,
              "#fdca26"
             ],
             [
              1,
              "#f0f921"
             ]
            ],
            "type": "histogram2dcontour"
           }
          ],
          "mesh3d": [
           {
            "colorbar": {
             "outlinewidth": 0,
             "ticks": ""
            },
            "type": "mesh3d"
           }
          ],
          "parcoords": [
           {
            "line": {
             "colorbar": {
              "outlinewidth": 0,
              "ticks": ""
             }
            },
            "type": "parcoords"
           }
          ],
          "pie": [
           {
            "automargin": true,
            "type": "pie"
           }
          ],
          "scatter": [
           {
            "fillpattern": {
             "fillmode": "overlay",
             "size": 10,
             "solidity": 0.2
            },
            "type": "scatter"
           }
          ],
          "scatter3d": [
           {
            "line": {
             "colorbar": {
              "outlinewidth": 0,
              "ticks": ""
             }
            },
            "marker": {
             "colorbar": {
              "outlinewidth": 0,
              "ticks": ""
             }
            },
            "type": "scatter3d"
           }
          ],
          "scattercarpet": [
           {
            "marker": {
             "colorbar": {
              "outlinewidth": 0,
              "ticks": ""
             }
            },
            "type": "scattercarpet"
           }
          ],
          "scattergeo": [
           {
            "marker": {
             "colorbar": {
              "outlinewidth": 0,
              "ticks": ""
             }
            },
            "type": "scattergeo"
           }
          ],
          "scattergl": [
           {
            "marker": {
             "colorbar": {
              "outlinewidth": 0,
              "ticks": ""
             }
            },
            "type": "scattergl"
           }
          ],
          "scattermapbox": [
           {
            "marker": {
             "colorbar": {
              "outlinewidth": 0,
              "ticks": ""
             }
            },
            "type": "scattermapbox"
           }
          ],
          "scatterpolar": [
           {
            "marker": {
             "colorbar": {
              "outlinewidth": 0,
              "ticks": ""
             }
            },
            "type": "scatterpolar"
           }
          ],
          "scatterpolargl": [
           {
            "marker": {
             "colorbar": {
              "outlinewidth": 0,
              "ticks": ""
             }
            },
            "type": "scatterpolargl"
           }
          ],
          "scatterternary": [
           {
            "marker": {
             "colorbar": {
              "outlinewidth": 0,
              "ticks": ""
             }
            },
            "type": "scatterternary"
           }
          ],
          "surface": [
           {
            "colorbar": {
             "outlinewidth": 0,
             "ticks": ""
            },
            "colorscale": [
             [
              0,
              "#0d0887"
             ],
             [
              0.1111111111111111,
              "#46039f"
             ],
             [
              0.2222222222222222,
              "#7201a8"
             ],
             [
              0.3333333333333333,
              "#9c179e"
             ],
             [
              0.4444444444444444,
              "#bd3786"
             ],
             [
              0.5555555555555556,
              "#d8576b"
             ],
             [
              0.6666666666666666,
              "#ed7953"
             ],
             [
              0.7777777777777778,
              "#fb9f3a"
             ],
             [
              0.8888888888888888,
              "#fdca26"
             ],
             [
              1,
              "#f0f921"
             ]
            ],
            "type": "surface"
           }
          ],
          "table": [
           {
            "cells": {
             "fill": {
              "color": "#EBF0F8"
             },
             "line": {
              "color": "white"
             }
            },
            "header": {
             "fill": {
              "color": "#C8D4E3"
             },
             "line": {
              "color": "white"
             }
            },
            "type": "table"
           }
          ]
         },
         "layout": {
          "annotationdefaults": {
           "arrowcolor": "#2a3f5f",
           "arrowhead": 0,
           "arrowwidth": 1
          },
          "autotypenumbers": "strict",
          "coloraxis": {
           "colorbar": {
            "outlinewidth": 0,
            "ticks": ""
           }
          },
          "colorscale": {
           "diverging": [
            [
             0,
             "#8e0152"
            ],
            [
             0.1,
             "#c51b7d"
            ],
            [
             0.2,
             "#de77ae"
            ],
            [
             0.3,
             "#f1b6da"
            ],
            [
             0.4,
             "#fde0ef"
            ],
            [
             0.5,
             "#f7f7f7"
            ],
            [
             0.6,
             "#e6f5d0"
            ],
            [
             0.7,
             "#b8e186"
            ],
            [
             0.8,
             "#7fbc41"
            ],
            [
             0.9,
             "#4d9221"
            ],
            [
             1,
             "#276419"
            ]
           ],
           "sequential": [
            [
             0,
             "#0d0887"
            ],
            [
             0.1111111111111111,
             "#46039f"
            ],
            [
             0.2222222222222222,
             "#7201a8"
            ],
            [
             0.3333333333333333,
             "#9c179e"
            ],
            [
             0.4444444444444444,
             "#bd3786"
            ],
            [
             0.5555555555555556,
             "#d8576b"
            ],
            [
             0.6666666666666666,
             "#ed7953"
            ],
            [
             0.7777777777777778,
             "#fb9f3a"
            ],
            [
             0.8888888888888888,
             "#fdca26"
            ],
            [
             1,
             "#f0f921"
            ]
           ],
           "sequentialminus": [
            [
             0,
             "#0d0887"
            ],
            [
             0.1111111111111111,
             "#46039f"
            ],
            [
             0.2222222222222222,
             "#7201a8"
            ],
            [
             0.3333333333333333,
             "#9c179e"
            ],
            [
             0.4444444444444444,
             "#bd3786"
            ],
            [
             0.5555555555555556,
             "#d8576b"
            ],
            [
             0.6666666666666666,
             "#ed7953"
            ],
            [
             0.7777777777777778,
             "#fb9f3a"
            ],
            [
             0.8888888888888888,
             "#fdca26"
            ],
            [
             1,
             "#f0f921"
            ]
           ]
          },
          "colorway": [
           "#636efa",
           "#EF553B",
           "#00cc96",
           "#ab63fa",
           "#FFA15A",
           "#19d3f3",
           "#FF6692",
           "#B6E880",
           "#FF97FF",
           "#FECB52"
          ],
          "font": {
           "color": "#2a3f5f"
          },
          "geo": {
           "bgcolor": "white",
           "lakecolor": "white",
           "landcolor": "#E5ECF6",
           "showlakes": true,
           "showland": true,
           "subunitcolor": "white"
          },
          "hoverlabel": {
           "align": "left"
          },
          "hovermode": "closest",
          "mapbox": {
           "style": "light"
          },
          "paper_bgcolor": "white",
          "plot_bgcolor": "#E5ECF6",
          "polar": {
           "angularaxis": {
            "gridcolor": "white",
            "linecolor": "white",
            "ticks": ""
           },
           "bgcolor": "#E5ECF6",
           "radialaxis": {
            "gridcolor": "white",
            "linecolor": "white",
            "ticks": ""
           }
          },
          "scene": {
           "xaxis": {
            "backgroundcolor": "#E5ECF6",
            "gridcolor": "white",
            "gridwidth": 2,
            "linecolor": "white",
            "showbackground": true,
            "ticks": "",
            "zerolinecolor": "white"
           },
           "yaxis": {
            "backgroundcolor": "#E5ECF6",
            "gridcolor": "white",
            "gridwidth": 2,
            "linecolor": "white",
            "showbackground": true,
            "ticks": "",
            "zerolinecolor": "white"
           },
           "zaxis": {
            "backgroundcolor": "#E5ECF6",
            "gridcolor": "white",
            "gridwidth": 2,
            "linecolor": "white",
            "showbackground": true,
            "ticks": "",
            "zerolinecolor": "white"
           }
          },
          "shapedefaults": {
           "line": {
            "color": "#2a3f5f"
           }
          },
          "ternary": {
           "aaxis": {
            "gridcolor": "white",
            "linecolor": "white",
            "ticks": ""
           },
           "baxis": {
            "gridcolor": "white",
            "linecolor": "white",
            "ticks": ""
           },
           "bgcolor": "#E5ECF6",
           "caxis": {
            "gridcolor": "white",
            "linecolor": "white",
            "ticks": ""
           }
          },
          "title": {
           "x": 0.05
          },
          "xaxis": {
           "automargin": true,
           "gridcolor": "white",
           "linecolor": "white",
           "ticks": "",
           "title": {
            "standoff": 15
           },
           "zerolinecolor": "white",
           "zerolinewidth": 2
          },
          "yaxis": {
           "automargin": true,
           "gridcolor": "white",
           "linecolor": "white",
           "ticks": "",
           "title": {
            "standoff": 15
           },
           "zerolinecolor": "white",
           "zerolinewidth": 2
          }
         }
        },
        "xaxis": {
         "anchor": "y",
         "domain": [
          0,
          1
         ],
         "title": {
          "text": "pts"
         }
        },
        "yaxis": {
         "anchor": "x",
         "domain": [
          0,
          1
         ],
         "title": {
          "text": "%"
         }
        }
       }
      }
     },
     "metadata": {},
     "output_type": "display_data"
    }
   ],
   "source": [
    "def coin_change(target, coins):\n",
    "    wallets = [[coin] for coin in coins]\n",
    "    new_wallets = []\n",
    "    sol = []\n",
    "    \n",
    "    if target in coins:\n",
    "        sol.append([target])\n",
    "\n",
    "    while wallets:\n",
    "        for wallet in wallets:\n",
    "            s = sum(wallet)\n",
    "            for coin in coins:\n",
    "                if coin >= wallet[-1]:\n",
    "                    if s + coin < target:\n",
    "                        new_wallets.append(wallet + [coin])\n",
    "                    elif s + coin == target:\n",
    "                        sol.append(wallet + [coin])\n",
    "        wallets = new_wallets\n",
    "        new_wallets = []\n",
    "    return sol\n",
    "\n",
    "def calc_prob(perms,percs):\n",
    "\tcum_prob = 0\n",
    "\tfor i in perms:\n",
    "\t\tprob = 1\n",
    "\t\tfor j in i:\n",
    "\t\t\tprob *= percs[j]\n",
    "\t\tcum_prob += prob\n",
    "\treturn cum_prob\n",
    "\n",
    "percentages = {2: .01, 3: .26, 6: .03, 7: .67, 8: .03}\n",
    "vals = percentages.keys()\n",
    "\n",
    "x = range(2,74)\n",
    "y = [calc_prob(coin_change(i,vals),percentages)*i for i in x]\n",
    "\n",
    "data = pd.DataFrame({\"pts\": x,\"%\": y})\n",
    "fig = px.bar(data,\n",
    "              x=\"pts\",\n",
    "              y=\"%\")\n",
    "\n",
    "fig.show()"
   ]
  }
 ],
 "metadata": {
  "kernelspec": {
   "display_name": "Python 3",
   "language": "python",
   "name": "python3"
  },
  "language_info": {
   "codemirror_mode": {
    "name": "ipython",
    "version": 3
   },
   "file_extension": ".py",
   "mimetype": "text/x-python",
   "name": "python",
   "nbconvert_exporter": "python",
   "pygments_lexer": "ipython3",
   "version": "3.11.9"
  }
 },
 "nbformat": 4,
 "nbformat_minor": 2
}
